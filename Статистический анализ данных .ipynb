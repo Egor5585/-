{
 "cells": [
  {
   "cell_type": "markdown",
   "id": "3184e4de",
   "metadata": {},
   "source": [
    "# Анализ сервиса аренды самокатов GoFast"
   ]
  },
  {
   "cell_type": "markdown",
   "id": "6960ed6b",
   "metadata": {},
   "source": [
    "Чтобы совершать поездки по городу, пользователи сервиса GoFast пользуются мобильным приложением. Сервисом можно пользоваться:\n",
    "\n",
    "Без подписки\n",
    "- абонентская плата отсутствует;\n",
    "- стоимость одной минуты поездки — 8 рублей;\n",
    "- стоимость старта (начала поездки) — 50 рублей;\n",
    "\n",
    "С подпиской Ultra\n",
    "- абонентская плата — 199 рублей в месяц;\n",
    "- стоимость одной минуты поездки — 6 рублей;\n",
    "- стоимость старта — бесплатно."
   ]
  },
  {
   "cell_type": "markdown",
   "id": "711d6a9c",
   "metadata": {},
   "source": [
    "***Цель проекта***\n",
    "\n",
    "Проанализировать данные (пользователи из нескольких городов, а также об их поездках) и проверить некоторые гипотезы, которые помогут сервису аренды самокатов GoFast вырасти."
   ]
  },
  {
   "cell_type": "markdown",
   "id": "a43c4397",
   "metadata": {},
   "source": [
    "***Описание данных***\n",
    "\n",
    "***Пользователи*** — users_go.csv\n",
    "\n",
    "- user_id — уникальный идентификатор пользователя\n",
    "- name — имя пользователя\n",
    "- age — возраст\n",
    "- city — город\n",
    "- subscription_type — тип подписки (free, ultra)\n",
    "\n",
    "***Поeздки*** — rides_go.csv\n",
    "\n",
    "- user_id — уникальный идентификатор пользователя\n",
    "- distance — расстояние, которое пользователь проехал в текущей сессии (в метрах)\n",
    "- duration — продолжительность сессии (в минутах) — время с того момента, как пользователь нажал кнопку «Начать поездку» до момента, как он нажал кнопку «Завершить поездку»\n",
    "- date — дата совершения поездки\n",
    "\n",
    "***Подписки*** — subscriptions_go.csv\n",
    "\n",
    "- subscription_type — тип подписки\n",
    "- minute_price — стоимость одной минуты поездки по данной подписке\n",
    "- start_ride_price — стоимость начала поездки\n",
    "- subscription_fee — стоимость ежемесячного платежа"
   ]
  },
  {
   "cell_type": "markdown",
   "id": "c28f47d6",
   "metadata": {},
   "source": [
    "## 1. Загрузка данных"
   ]
  },
  {
   "cell_type": "code",
   "execution_count": 1,
   "id": "2aa44d50",
   "metadata": {},
   "outputs": [],
   "source": [
    "#импортируем нужные для работы библиотеки \n",
    "import pandas as pd \n",
    "import matplotlib.pyplot as plt\n",
    "import seaborn as sns\n",
    "import plotly.express as px\n",
    "import numpy as np\n",
    "from scipy import stats as st"
   ]
  },
  {
   "cell_type": "markdown",
   "id": "2215cbc0",
   "metadata": {},
   "source": [
    "Открываем ***Таблицу с пользователями*** - users_go.csv"
   ]
  },
  {
   "cell_type": "code",
   "execution_count": 2,
   "id": "a4dfcef5",
   "metadata": {},
   "outputs": [],
   "source": [
    "try:\n",
    "    data_users = pd.read_csv('/datasets/users_go.csv')\n",
    "    data_riders = pd.read_csv('/datasets/rides_go.csv')\n",
    "    data_sub = pd.read_csv('/datasets/subscriptions_go.csv')\n",
    "except:\n",
    "    data_users = pd.read_csv('https://code.s3.yandex.net/datasets/users_go.csv')\n",
    "    data_riders = pd.read_csv('https://code.s3.yandex.net/datasets/rides_go.csv')\n",
    "    data_sub = pd.read_csv('https://code.s3.yandex.net/datasets/subscriptions_go.csv')\n"
   ]
  },
  {
   "cell_type": "code",
   "execution_count": 3,
   "id": "1b0fcabd",
   "metadata": {},
   "outputs": [
    {
     "data": {
      "text/html": [
       "<div>\n",
       "<style scoped>\n",
       "    .dataframe tbody tr th:only-of-type {\n",
       "        vertical-align: middle;\n",
       "    }\n",
       "\n",
       "    .dataframe tbody tr th {\n",
       "        vertical-align: top;\n",
       "    }\n",
       "\n",
       "    .dataframe thead th {\n",
       "        text-align: right;\n",
       "    }\n",
       "</style>\n",
       "<table border=\"1\" class=\"dataframe\">\n",
       "  <thead>\n",
       "    <tr style=\"text-align: right;\">\n",
       "      <th></th>\n",
       "      <th>user_id</th>\n",
       "      <th>name</th>\n",
       "      <th>age</th>\n",
       "      <th>city</th>\n",
       "      <th>subscription_type</th>\n",
       "    </tr>\n",
       "  </thead>\n",
       "  <tbody>\n",
       "    <tr>\n",
       "      <th>0</th>\n",
       "      <td>1</td>\n",
       "      <td>Кира</td>\n",
       "      <td>22</td>\n",
       "      <td>Тюмень</td>\n",
       "      <td>ultra</td>\n",
       "    </tr>\n",
       "    <tr>\n",
       "      <th>1</th>\n",
       "      <td>2</td>\n",
       "      <td>Станислав</td>\n",
       "      <td>31</td>\n",
       "      <td>Омск</td>\n",
       "      <td>ultra</td>\n",
       "    </tr>\n",
       "    <tr>\n",
       "      <th>2</th>\n",
       "      <td>3</td>\n",
       "      <td>Алексей</td>\n",
       "      <td>20</td>\n",
       "      <td>Москва</td>\n",
       "      <td>ultra</td>\n",
       "    </tr>\n",
       "    <tr>\n",
       "      <th>3</th>\n",
       "      <td>4</td>\n",
       "      <td>Константин</td>\n",
       "      <td>26</td>\n",
       "      <td>Ростов-на-Дону</td>\n",
       "      <td>ultra</td>\n",
       "    </tr>\n",
       "    <tr>\n",
       "      <th>4</th>\n",
       "      <td>5</td>\n",
       "      <td>Адель</td>\n",
       "      <td>28</td>\n",
       "      <td>Омск</td>\n",
       "      <td>ultra</td>\n",
       "    </tr>\n",
       "  </tbody>\n",
       "</table>\n",
       "</div>"
      ],
      "text/plain": [
       "   user_id        name  age            city subscription_type\n",
       "0        1        Кира   22          Тюмень             ultra\n",
       "1        2   Станислав   31            Омск             ultra\n",
       "2        3     Алексей   20          Москва             ultra\n",
       "3        4  Константин   26  Ростов-на-Дону             ultra\n",
       "4        5       Адель   28            Омск             ultra"
      ]
     },
     "execution_count": 3,
     "metadata": {},
     "output_type": "execute_result"
    }
   ],
   "source": [
    "#изучаем данные таблицы users_go\n",
    "data_users.head()"
   ]
  },
  {
   "cell_type": "code",
   "execution_count": 4,
   "id": "025413ae",
   "metadata": {},
   "outputs": [
    {
     "name": "stdout",
     "output_type": "stream",
     "text": [
      "<class 'pandas.core.frame.DataFrame'>\n",
      "RangeIndex: 1565 entries, 0 to 1564\n",
      "Data columns (total 5 columns):\n",
      " #   Column             Non-Null Count  Dtype \n",
      "---  ------             --------------  ----- \n",
      " 0   user_id            1565 non-null   int64 \n",
      " 1   name               1565 non-null   object\n",
      " 2   age                1565 non-null   int64 \n",
      " 3   city               1565 non-null   object\n",
      " 4   subscription_type  1565 non-null   object\n",
      "dtypes: int64(2), object(3)\n",
      "memory usage: 61.3+ KB\n"
     ]
    }
   ],
   "source": [
    "#выводим информацию о таблице users_go\n",
    "data_users.info()\n"
   ]
  },
  {
   "cell_type": "markdown",
   "id": "6da47cd6",
   "metadata": {},
   "source": [
    "***Вывод***:\n",
    "\n",
    "Данные в таблице ***users_go*** пригодные для работы. Число строк - 1565, пропусков не обнаруженно! "
   ]
  },
  {
   "cell_type": "code",
   "execution_count": 5,
   "id": "5fcfe6ff",
   "metadata": {},
   "outputs": [
    {
     "data": {
      "text/html": [
       "<div>\n",
       "<style scoped>\n",
       "    .dataframe tbody tr th:only-of-type {\n",
       "        vertical-align: middle;\n",
       "    }\n",
       "\n",
       "    .dataframe tbody tr th {\n",
       "        vertical-align: top;\n",
       "    }\n",
       "\n",
       "    .dataframe thead th {\n",
       "        text-align: right;\n",
       "    }\n",
       "</style>\n",
       "<table border=\"1\" class=\"dataframe\">\n",
       "  <thead>\n",
       "    <tr style=\"text-align: right;\">\n",
       "      <th></th>\n",
       "      <th>user_id</th>\n",
       "      <th>distance</th>\n",
       "      <th>duration</th>\n",
       "      <th>date</th>\n",
       "    </tr>\n",
       "  </thead>\n",
       "  <tbody>\n",
       "    <tr>\n",
       "      <th>0</th>\n",
       "      <td>1</td>\n",
       "      <td>4409.919140</td>\n",
       "      <td>25.599769</td>\n",
       "      <td>2021-01-01</td>\n",
       "    </tr>\n",
       "    <tr>\n",
       "      <th>1</th>\n",
       "      <td>1</td>\n",
       "      <td>2617.592153</td>\n",
       "      <td>15.816871</td>\n",
       "      <td>2021-01-18</td>\n",
       "    </tr>\n",
       "    <tr>\n",
       "      <th>2</th>\n",
       "      <td>1</td>\n",
       "      <td>754.159807</td>\n",
       "      <td>6.232113</td>\n",
       "      <td>2021-04-20</td>\n",
       "    </tr>\n",
       "    <tr>\n",
       "      <th>3</th>\n",
       "      <td>1</td>\n",
       "      <td>2694.783254</td>\n",
       "      <td>18.511000</td>\n",
       "      <td>2021-08-11</td>\n",
       "    </tr>\n",
       "    <tr>\n",
       "      <th>4</th>\n",
       "      <td>1</td>\n",
       "      <td>4028.687306</td>\n",
       "      <td>26.265803</td>\n",
       "      <td>2021-08-28</td>\n",
       "    </tr>\n",
       "  </tbody>\n",
       "</table>\n",
       "</div>"
      ],
      "text/plain": [
       "   user_id     distance   duration        date\n",
       "0        1  4409.919140  25.599769  2021-01-01\n",
       "1        1  2617.592153  15.816871  2021-01-18\n",
       "2        1   754.159807   6.232113  2021-04-20\n",
       "3        1  2694.783254  18.511000  2021-08-11\n",
       "4        1  4028.687306  26.265803  2021-08-28"
      ]
     },
     "execution_count": 5,
     "metadata": {},
     "output_type": "execute_result"
    }
   ],
   "source": [
    "#изучим таблицу rides_go\n",
    "data_riders.head()"
   ]
  },
  {
   "cell_type": "code",
   "execution_count": 6,
   "id": "59e2c9b0",
   "metadata": {},
   "outputs": [
    {
     "name": "stdout",
     "output_type": "stream",
     "text": [
      "<class 'pandas.core.frame.DataFrame'>\n",
      "RangeIndex: 18068 entries, 0 to 18067\n",
      "Data columns (total 4 columns):\n",
      " #   Column    Non-Null Count  Dtype  \n",
      "---  ------    --------------  -----  \n",
      " 0   user_id   18068 non-null  int64  \n",
      " 1   distance  18068 non-null  float64\n",
      " 2   duration  18068 non-null  float64\n",
      " 3   date      18068 non-null  object \n",
      "dtypes: float64(2), int64(1), object(1)\n",
      "memory usage: 564.8+ KB\n"
     ]
    }
   ],
   "source": [
    "#Получаем информацию о таблице rides_go\n",
    "data_riders.info()"
   ]
  },
  {
   "cell_type": "markdown",
   "id": "151720ae",
   "metadata": {},
   "source": [
    "***Вывод:***\n",
    "\n",
    "В таблице ***rides_go*** 18068 строк, пропусков не обнаружено,данные пригодны для работы!\n"
   ]
  },
  {
   "cell_type": "code",
   "execution_count": 7,
   "id": "a3eed820",
   "metadata": {},
   "outputs": [
    {
     "data": {
      "text/html": [
       "<div>\n",
       "<style scoped>\n",
       "    .dataframe tbody tr th:only-of-type {\n",
       "        vertical-align: middle;\n",
       "    }\n",
       "\n",
       "    .dataframe tbody tr th {\n",
       "        vertical-align: top;\n",
       "    }\n",
       "\n",
       "    .dataframe thead th {\n",
       "        text-align: right;\n",
       "    }\n",
       "</style>\n",
       "<table border=\"1\" class=\"dataframe\">\n",
       "  <thead>\n",
       "    <tr style=\"text-align: right;\">\n",
       "      <th></th>\n",
       "      <th>subscription_type</th>\n",
       "      <th>minute_price</th>\n",
       "      <th>start_ride_price</th>\n",
       "      <th>subscription_fee</th>\n",
       "    </tr>\n",
       "  </thead>\n",
       "  <tbody>\n",
       "    <tr>\n",
       "      <th>0</th>\n",
       "      <td>free</td>\n",
       "      <td>8</td>\n",
       "      <td>50</td>\n",
       "      <td>0</td>\n",
       "    </tr>\n",
       "    <tr>\n",
       "      <th>1</th>\n",
       "      <td>ultra</td>\n",
       "      <td>6</td>\n",
       "      <td>0</td>\n",
       "      <td>199</td>\n",
       "    </tr>\n",
       "  </tbody>\n",
       "</table>\n",
       "</div>"
      ],
      "text/plain": [
       "  subscription_type  minute_price  start_ride_price  subscription_fee\n",
       "0              free             8                50                 0\n",
       "1             ultra             6                 0               199"
      ]
     },
     "execution_count": 7,
     "metadata": {},
     "output_type": "execute_result"
    }
   ],
   "source": [
    "#Изучаем таблицу subscriptions_go\n",
    "data_sub.head()"
   ]
  },
  {
   "cell_type": "code",
   "execution_count": 8,
   "id": "db2f8442",
   "metadata": {
    "scrolled": true
   },
   "outputs": [
    {
     "name": "stdout",
     "output_type": "stream",
     "text": [
      "<class 'pandas.core.frame.DataFrame'>\n",
      "RangeIndex: 2 entries, 0 to 1\n",
      "Data columns (total 4 columns):\n",
      " #   Column             Non-Null Count  Dtype \n",
      "---  ------             --------------  ----- \n",
      " 0   subscription_type  2 non-null      object\n",
      " 1   minute_price       2 non-null      int64 \n",
      " 2   start_ride_price   2 non-null      int64 \n",
      " 3   subscription_fee   2 non-null      int64 \n",
      "dtypes: int64(3), object(1)\n",
      "memory usage: 192.0+ bytes\n"
     ]
    }
   ],
   "source": [
    "#Получаем информацию о  таблице subscriptions_go\n",
    "data_sub.info()"
   ]
  },
  {
   "cell_type": "markdown",
   "id": "f771253f",
   "metadata": {},
   "source": [
    "***Вывод***\n",
    "\n",
    "В таблине ***subscriptions_go*** 2 строки, пропуски отсутствуют. Данные пригодны для работы! "
   ]
  },
  {
   "cell_type": "markdown",
   "id": "4ca545a1",
   "metadata": {},
   "source": [
    "### Вывод о загрузке данных\n",
    "- Данные загружаны и открыты\n",
    "- целосность данных на высоком уровне\n",
    "- ***users_go***:\n",
    "  - Число строк - 1565, пропусков не обнаруженно!\n",
    "- ***rides_go***: \n",
    "  - 18068 строк, пропусков не обнаружено!\n",
    "- ***subscriptions_go***\n",
    "  -  2 строки, пропуски отсутствуют!\n",
    "  \n",
    "Можно приступать к предобработке данных ! "
   ]
  },
  {
   "cell_type": "markdown",
   "id": "e7090bff",
   "metadata": {},
   "source": [
    "## 2 Предобработка данных"
   ]
  },
  {
   "cell_type": "markdown",
   "id": "a82254c4",
   "metadata": {},
   "source": [
    "***Приведем столбец date к типу даты pandas***"
   ]
  },
  {
   "cell_type": "code",
   "execution_count": 9,
   "id": "b7ee4cfd",
   "metadata": {},
   "outputs": [],
   "source": [
    "#Приводим столбец date к типу даты \n",
    "data_riders['date'] = pd.to_datetime(data_riders['date'], format = '%Y-%m-%d')"
   ]
  },
  {
   "cell_type": "code",
   "execution_count": 10,
   "id": "26fb5621",
   "metadata": {},
   "outputs": [
    {
     "data": {
      "text/plain": [
       "0       2021-01-01\n",
       "1       2021-01-18\n",
       "2       2021-04-20\n",
       "3       2021-08-11\n",
       "4       2021-08-28\n",
       "           ...    \n",
       "18063   2021-11-04\n",
       "18064   2021-11-16\n",
       "18065   2021-11-18\n",
       "18066   2021-11-27\n",
       "18067   2021-12-29\n",
       "Name: date, Length: 18068, dtype: datetime64[ns]"
      ]
     },
     "execution_count": 10,
     "metadata": {},
     "output_type": "execute_result"
    }
   ],
   "source": [
    "#провереяем успешно ли изменение\n",
    "data_riders['date']"
   ]
  },
  {
   "cell_type": "markdown",
   "id": "9a3c616e",
   "metadata": {},
   "source": [
    "***Создаем новый столбец с номером месяца на основе столбца date:***"
   ]
  },
  {
   "cell_type": "code",
   "execution_count": 11,
   "id": "1e893309",
   "metadata": {},
   "outputs": [],
   "source": [
    "#Создаем столбец с месяцами\n",
    "data_riders['month'] = data_riders['date'].dt.month"
   ]
  },
  {
   "cell_type": "code",
   "execution_count": 12,
   "id": "0aa1f00e",
   "metadata": {},
   "outputs": [
    {
     "data": {
      "text/plain": [
       "0    1\n",
       "1    1\n",
       "2    4\n",
       "3    8\n",
       "4    8\n",
       "Name: month, dtype: int64"
      ]
     },
     "execution_count": 12,
     "metadata": {},
     "output_type": "execute_result"
    }
   ],
   "source": [
    "#Проверим результат\n",
    "data_riders['month'].head()"
   ]
  },
  {
   "cell_type": "markdown",
   "id": "a388f3ba",
   "metadata": {},
   "source": [
    "Новый столбец,  в котором отображается месяц поездки - ***создан***!"
   ]
  },
  {
   "cell_type": "markdown",
   "id": "e2dff00a",
   "metadata": {},
   "source": [
    " ***Проверим наличие пропущенных значений и дубликатов в датафреймах.***\n",
    " \n",
    " ***Обработаем их, если такие значения присутствуют.***"
   ]
  },
  {
   "cell_type": "markdown",
   "id": "609c1594",
   "metadata": {},
   "source": [
    "Проверяем дубликаты в ***data_users***"
   ]
  },
  {
   "cell_type": "code",
   "execution_count": 13,
   "id": "60c43a48",
   "metadata": {},
   "outputs": [
    {
     "data": {
      "text/plain": [
       "31"
      ]
     },
     "execution_count": 13,
     "metadata": {},
     "output_type": "execute_result"
    }
   ],
   "source": [
    "data_users.duplicated().sum()"
   ]
  },
  {
   "cell_type": "markdown",
   "id": "64c54a73",
   "metadata": {},
   "source": [
    "В таблице ***data_users*** 31 явный дубликат! Удаляем, для того, чтобы они не помешали в дальнейшем иследованию!"
   ]
  },
  {
   "cell_type": "code",
   "execution_count": 14,
   "id": "c76e8e36",
   "metadata": {},
   "outputs": [
    {
     "data": {
      "text/plain": [
       "0"
      ]
     },
     "execution_count": 14,
     "metadata": {},
     "output_type": "execute_result"
    }
   ],
   "source": [
    "#Удаляем дубликаты\n",
    "data_users.drop_duplicates(inplace =True)\n",
    "#проверяем результат\n",
    "data_users.duplicated().sum()"
   ]
  },
  {
   "cell_type": "markdown",
   "id": "ba85b3ff",
   "metadata": {},
   "source": [
    "Проверяем дубликаты в ***data_riders***"
   ]
  },
  {
   "cell_type": "code",
   "execution_count": 15,
   "id": "93ea058d",
   "metadata": {},
   "outputs": [
    {
     "data": {
      "text/plain": [
       "0"
      ]
     },
     "execution_count": 15,
     "metadata": {},
     "output_type": "execute_result"
    }
   ],
   "source": [
    "data_riders.duplicated().sum()"
   ]
  },
  {
   "cell_type": "markdown",
   "id": "de002ac3",
   "metadata": {},
   "source": [
    "Явных дубликатов в ***data_riders*** не обноруженно!"
   ]
  },
  {
   "cell_type": "markdown",
   "id": "905076fd",
   "metadata": {},
   "source": [
    "Проверяем дубликаты в ***data_sub***"
   ]
  },
  {
   "cell_type": "code",
   "execution_count": 16,
   "id": "2efcfbce",
   "metadata": {},
   "outputs": [
    {
     "data": {
      "text/plain": [
       "0"
      ]
     },
     "execution_count": 16,
     "metadata": {},
     "output_type": "execute_result"
    }
   ],
   "source": [
    "data_sub.duplicated().sum()"
   ]
  },
  {
   "cell_type": "markdown",
   "id": "c7157ce5",
   "metadata": {},
   "source": [
    "Явных дубликатов в ***data_sub*** не обноруженно!"
   ]
  },
  {
   "cell_type": "markdown",
   "id": "4a208512",
   "metadata": {},
   "source": [
    "***Вывод***\n",
    "\n",
    "В датафреме ***data_users*** находилось 31 явных дубикатов. Все дубликаты были удалены!\n",
    "\n",
    "В датафремах ***data_riders*** и ***data_sub*** явных дубликатов не обнаружено !"
   ]
  },
  {
   "cell_type": "markdown",
   "id": "9056d1b7",
   "metadata": {},
   "source": [
    "### Общий вывод о предобработке данных: \n",
    "\n",
    "- Столбец date приведен к формату datetime64\n",
    "- Добавлен столбец month, в котором указан месяц поездки\n",
    "- Все явные дубликаты были удалены"
   ]
  },
  {
   "cell_type": "markdown",
   "id": "28b2bf6c",
   "metadata": {},
   "source": [
    "##  3. Исследовательский анализ данных"
   ]
  },
  {
   "cell_type": "markdown",
   "id": "044b1e66",
   "metadata": {},
   "source": [
    "Опишем и визуализируем общую информацию о пользователях и поездках:\n",
    "\n",
    "- 3.1 частота встречаемости городов;\n",
    "- 3.2 соотношение пользователей с подпиской и без подписки;\n",
    "- 3.3 возраст пользователей;\n",
    "- 3.4 расстояние, которое пользователь преодолел за одну поездку;\n",
    "- 3.5 продолжительность поездок."
   ]
  },
  {
   "cell_type": "markdown",
   "id": "e85251fd",
   "metadata": {},
   "source": [
    "### 3.1  частота встречаемости городов:"
   ]
  },
  {
   "cell_type": "code",
   "execution_count": 17,
   "id": "210e4fcf",
   "metadata": {},
   "outputs": [
    {
     "data": {
      "text/plain": [
       "Пятигорск         219\n",
       "Екатеринбург      204\n",
       "Ростов-на-Дону    198\n",
       "Краснодар         193\n",
       "Сочи              189\n",
       "Омск              183\n",
       "Тюмень            180\n",
       "Москва            168\n",
       "Name: city, dtype: int64"
      ]
     },
     "execution_count": 17,
     "metadata": {},
     "output_type": "execute_result"
    }
   ],
   "source": [
    "#Проверим в каких городах собиралась информация\n",
    "count_users_by_city = data_users['city'].value_counts()\n",
    "count_users_by_city"
   ]
  },
  {
   "cell_type": "markdown",
   "id": "0f2feac0",
   "metadata": {},
   "source": [
    "Для того, чтобы визуально было проще понять какие города участвовали в иследовании построим круговую диограмму, и в процентном соотношении покажем колличество пользователей!"
   ]
  },
  {
   "cell_type": "code",
   "execution_count": 18,
   "id": "2e89e1e7",
   "metadata": {
    "scrolled": true
   },
   "outputs": [
    {
     "data": {
      "image/png": "[encoded data removed]",
      "text/plain": [
       "<Figure size 504x504 with 1 Axes>"
      ]
     },
     "metadata": {},
     "output_type": "display_data"
    }
   ],
   "source": [
    "#Проверим, какое процент пользователй от всего количества в том или ином городе\n",
    "data_users['city'].value_counts().plot(\n",
    "    kind = 'pie', \n",
    "    y = count_users_by_city,\n",
    "    autopct = '%1.0f%%',\n",
    "    figsize=(7,7), \n",
    "    title = 'Распределение пользователей по городам');"
   ]
  },
  {
   "cell_type": "markdown",
   "id": "0ca11880",
   "metadata": {},
   "source": [
    "***Вывод:***\n",
    "\n",
    "На круговой диограме видно что примерно одининаковое колличество пользователей в каждом городе.\n",
    "\n",
    "***Большее*** количество пользователей находятся в Пятигрске - 14% \n",
    "\n",
    "***Наименьшее*** колличество пользователей в Москве - 11%"
   ]
  },
  {
   "cell_type": "markdown",
   "id": "57f35155",
   "metadata": {},
   "source": [
    "### 3.2 Cоотношение пользователей с подпиской и без подписки:"
   ]
  },
  {
   "cell_type": "code",
   "execution_count": 19,
   "id": "aff535b1",
   "metadata": {},
   "outputs": [
    {
     "data": {
      "text/plain": [
       "free     835\n",
       "ultra    699\n",
       "Name: subscription_type, dtype: int64"
      ]
     },
     "execution_count": 19,
     "metadata": {},
     "output_type": "execute_result"
    }
   ],
   "source": [
    "count_sub = data_users['subscription_type'].value_counts()\n",
    "count_sub"
   ]
  },
  {
   "cell_type": "markdown",
   "id": "f5307ad8",
   "metadata": {},
   "source": [
    "Количество людей с потпиской и без:\n",
    "- 846 пользоватей полюзуется приложением без платной подписки\n",
    "- 719 пользователей пользуются подпиской \n",
    "\n",
    "Далее проверим, сколько это в процентном соотношении"
   ]
  },
  {
   "cell_type": "code",
   "execution_count": 20,
   "id": "4d09bbf9",
   "metadata": {},
   "outputs": [
    {
     "data": {
      "image/png": "[encoded data removed]",
      "text/plain": [
       "<Figure size 360x360 with 1 Axes>"
      ]
     },
     "metadata": {},
     "output_type": "display_data"
    }
   ],
   "source": [
    "data_users['subscription_type'].value_counts().plot(\n",
    "    kind = 'pie', \n",
    "    y = count_sub, \n",
    "    autopct = '%1.0f%%', \n",
    "    figsize=(5,5),\n",
    "    title = 'Процентное соотношение пользователей в зависимости от тарифа');"
   ]
  },
  {
   "cell_type": "markdown",
   "id": "fbd27ef8",
   "metadata": {},
   "source": [
    "***Вывод:***\n",
    "    \n",
    "   ***Без подписки*** - 54%\n",
    "   \n",
    "   ***Подписка*** - 46%\n",
    "    \n",
    "На ***10%*** больше группа, кторая не покупает платную подписку"
   ]
  },
  {
   "cell_type": "markdown",
   "id": "c404810f",
   "metadata": {},
   "source": [
    "### 3.3 Возраст пользователей:"
   ]
  },
  {
   "cell_type": "code",
   "execution_count": 21,
   "id": "a6a47cd2",
   "metadata": {},
   "outputs": [
    {
     "data": {
      "image/png": "[encoded data removed]",
      "text/plain": [
       "<Figure size 432x288 with 1 Axes>"
      ]
     },
     "metadata": {
      "needs_background": "light"
     },
     "output_type": "display_data"
    }
   ],
   "source": [
    "# рассмотрим распределение возврастов в data_users\n",
    "plt.hist(data_users['age'], bins = 10)\n",
    "plt.title('Возраст пользователей')\n",
    "plt.xlabel('Возраст')\n",
    "plt.ylabel('Количество пользователей')\n",
    "plt.grid()\n",
    "plt.show()"
   ]
  },
  {
   "cell_type": "markdown",
   "id": "b64b94b6",
   "metadata": {},
   "source": [
    "***Вывод:***\n",
    "\n",
    "    Приобладающий возвраст лбдей, которые пользуются приложением от 18 до 32 лет\n",
    "    \n",
    "Так же заметен пик в значении 25 - 27 лет, которых большенство!"
   ]
  },
  {
   "cell_type": "markdown",
   "id": "819041af",
   "metadata": {},
   "source": [
    "### 3.4 Расстояние, которое пользователь преодолел за одну поездку:"
   ]
  },
  {
   "cell_type": "code",
   "execution_count": 22,
   "id": "49024e1f",
   "metadata": {},
   "outputs": [
    {
     "data": {
      "text/plain": [
       "16309    7211.01\n",
       "16484    7066.00\n",
       "15580    6908.49\n",
       "17171    6760.94\n",
       "17242    6724.93\n",
       "          ...   \n",
       "7841        7.10\n",
       "8658        6.78\n",
       "13690       4.33\n",
       "9541        2.57\n",
       "11555       0.86\n",
       "Name: distance, Length: 18068, dtype: float64"
      ]
     },
     "execution_count": 22,
     "metadata": {},
     "output_type": "execute_result"
    }
   ],
   "source": [
    "#проверим самые длинные поездки и огруглим до 2 цифр после запятой\n",
    "data_riders['distance'].sort_values(ascending=False).round(2)"
   ]
  },
  {
   "cell_type": "markdown",
   "id": "d50cc915",
   "metadata": {},
   "source": [
    "В данных есть как значения больше 7 км так и значение меньше 1 метра.\n",
    "\n",
    "Чтобы более точно сделать вывод построем боксплод и поймем где находится выбросы (значение, которые сильно больше или меньше остальных), и в каких примерах находятся срении значения растояния поездок"
   ]
  },
  {
   "cell_type": "code",
   "execution_count": 23,
   "id": "7af1f9fa",
   "metadata": {},
   "outputs": [
    {
     "data": {
      "image/png": "[encoded data removed]",
      "text/plain": [
       "<Figure size 432x288 with 1 Axes>"
      ]
     },
     "metadata": {
      "needs_background": "light"
     },
     "output_type": "display_data"
    }
   ],
   "source": [
    "sns.boxplot(x=data_riders['distance'], color='blue')\n",
    "plt.title('Расстояние, преодоленное за одну поездку')\n",
    "plt.xlabel('Расстояние, м')\n",
    "plt.show()"
   ]
  },
  {
   "cell_type": "markdown",
   "id": "cf82b247",
   "metadata": {},
   "source": [
    "***Вывод:***\n",
    "    В основном пользователи проезжают от 2.5 км до 4 км.\n",
    "    \n",
    "    Самая короткая поезда - 0.86 м\n",
    "    Самая длинная поездка - 7211.01 м"
   ]
  },
  {
   "cell_type": "markdown",
   "id": "885f1343",
   "metadata": {},
   "source": [
    "### 3.5 Продолжительность поездок:"
   ]
  },
  {
   "cell_type": "code",
   "execution_count": 24,
   "id": "0d15ad15",
   "metadata": {},
   "outputs": [
    {
     "data": {
      "text/plain": [
       "4215     40.82\n",
       "4709     39.87\n",
       "2623     39.53\n",
       "1998     38.35\n",
       "6453     38.27\n",
       "         ...  \n",
       "6768      0.50\n",
       "7883      0.50\n",
       "16179     0.50\n",
       "9497      0.50\n",
       "16704     0.50\n",
       "Name: duration, Length: 18068, dtype: float64"
      ]
     },
     "execution_count": 24,
     "metadata": {},
     "output_type": "execute_result"
    }
   ],
   "source": [
    "#Посмотрим на самые долшие поездки\n",
    "data_riders['duration'].sort_values(ascending=False).round(2)"
   ]
  },
  {
   "cell_type": "markdown",
   "id": "e0f00278",
   "metadata": {},
   "source": [
    "Ситуация аналогична той, что произошла с растоянием поездки.\n",
    "\n",
    "Пользователи могли проехать 40 минут, а также и 30 секунд. Вероятно, польщователь отменил аренду. Для более точной оценки постоим боксплот \n",
    "\n",
    "Тут так же следует учесть, что один пользователь скорее всего мог прокатиться несколько раз, поэтому проверим как среднюю продолжительность 1 поездки так и время всех поездок 1го пользователя (в следующем пункте)"
   ]
  },
  {
   "cell_type": "code",
   "execution_count": 25,
   "id": "4278e9ef",
   "metadata": {
    "scrolled": true
   },
   "outputs": [
    {
     "data": {
      "image/png": "[encoded data removed]",
      "text/plain": [
       "<Figure size 432x288 with 1 Axes>"
      ]
     },
     "metadata": {
      "needs_background": "light"
     },
     "output_type": "display_data"
    }
   ],
   "source": [
    "#Боксплот для времени 1 поездки, без привязки к конкретному пользователю \n",
    "\n",
    "sns.boxplot(x=data_riders['duration'])\n",
    "plt.title('Время, проведенное за одну поездку')\n",
    "plt.xlabel('Время, мин')\n",
    "plt.show()"
   ]
  },
  {
   "cell_type": "code",
   "execution_count": 26,
   "id": "ffbb1630",
   "metadata": {},
   "outputs": [
    {
     "data": {
      "text/plain": [
       "12013    0.5\n",
       "17314    0.5\n",
       "15029    0.5\n",
       "7437     0.5\n",
       "12967    0.5\n",
       "15015    0.5\n",
       "13012    0.5\n",
       "7508     0.5\n",
       "16589    0.5\n",
       "9049     0.5\n",
       "7537     0.5\n",
       "16540    0.5\n",
       "13266    0.5\n",
       "10426    0.5\n",
       "11559    0.5\n",
       "7612     0.5\n",
       "9077     0.5\n",
       "17909    0.5\n",
       "16704    0.5\n",
       "9698     0.5\n",
       "Name: duration, dtype: float64"
      ]
     },
     "execution_count": 26,
     "metadata": {},
     "output_type": "execute_result"
    }
   ],
   "source": [
    "data_riders['duration'].sort_values().head(20)"
   ]
  },
  {
   "cell_type": "markdown",
   "id": "943a6784",
   "metadata": {},
   "source": [
    "***Вывод:***\n",
    "  \n",
    "В основном же длительность поездки состовляет 13 - 22 минут."
   ]
  },
  {
   "cell_type": "markdown",
   "id": "6fd9f603",
   "metadata": {},
   "source": [
    "## Вывод по разделу Исследовательский анализ данных"
   ]
  },
  {
   "cell_type": "markdown",
   "id": "c9cbb2a8",
   "metadata": {},
   "source": [
    "\n",
    "***Частота встречаемости городов***\n",
    "\n",
    "- Количество пользователей по городам распределено примерно одинаково, нет выдающихся значений. Лидером по количеству пользователей является Пятигорск - 219 пользователей. Меньше всего пользователей в Москве - 168. Связано это скорее всего с тем, что Пятигорск по размерам в несколько раз меньше Москвы, т.е. в Пятигорске удобнее брать самокат, чтобы куда-то добраться.\n",
    "\n",
    "***Соотношение пользователей с подпиской и без подписки***\n",
    "\n",
    "- Пользователей, использующих бесплатную подписку больше - 835 человек, что является ~54% от общего числа пользователей. На платной подписке сидит 699 пользователей, что соответственно является ~46%.\n",
    "\n",
    "***Возраст пользователей***\n",
    "\n",
    "- Самыми младшими являются пользователи 12, 13 лет.\n",
    "- Самыми старшими - 43, 39.\n",
    "- В целом, пользователи приложения укладываются в промежуток от 20 до 30 лет.\n",
    "\n",
    "***Расстояние, которое пользователь преодолел за одну поездку***\n",
    "\n",
    "- Самая короткая дистанция - 0.86 км\n",
    "- Самая длинная - 7.2 км\n",
    "- В основном пользователи проезжают от 2.5 км до 4 км.\n",
    "\n",
    "***Продолжительность поездок***\n",
    "\n",
    "- Самые короткие поездки - по пол минуты. Выглядят крайне странно, возможно пользователи просто передумали пользоваться самокатом.\n",
    "- Самая длинная поездка заняла 40 минут.\n",
    "- В основном же длительность поездки состовляет 13 - 22 минут."
   ]
  },
  {
   "cell_type": "markdown",
   "id": "c7bd9d0b",
   "metadata": {},
   "source": [
    "### 4. Объединение данных"
   ]
  },
  {
   "cell_type": "markdown",
   "id": "bdde39bf",
   "metadata": {},
   "source": [
    "4.1 Объединим данные о пользователях, поездках и подписках в один датафрейм. Для этого воспользуемся методом merge().\n",
    "\n",
    "4.2 Создадим ещё два датафрейма из датафрейма, созданного на этапе 4.1:\n",
    "\n",
    "  - c данными о пользователях без подписки;\n",
    "  - с данными о пользователях с подпиской.\n",
    "  \n",
    "4.3 Визуализируем информацию о расстоянии и времени поездок для пользователей обеих категорий.\n",
    "\n",
    "Переходим к выполненю!"
   ]
  },
  {
   "cell_type": "markdown",
   "id": "88d2acfd",
   "metadata": {},
   "source": [
    "### 4.1 Объединим данные о пользователях, поездках и подписках в один датафрейм:"
   ]
  },
  {
   "cell_type": "markdown",
   "id": "6abe0930",
   "metadata": {},
   "source": [
    " Для этого воспользуемся методом merge()"
   ]
  },
  {
   "cell_type": "code",
   "execution_count": 27,
   "id": "a9dc635d",
   "metadata": {},
   "outputs": [],
   "source": [
    "#присоединяем к data_users data_riders\n",
    "full_data = data_users.merge(data_riders)\n"
   ]
  },
  {
   "cell_type": "code",
   "execution_count": 28,
   "id": "665cffd3",
   "metadata": {},
   "outputs": [],
   "source": [
    "#присоединяем к full_data data_sub\n",
    "full_data = full_data.merge(data_sub)"
   ]
  },
  {
   "cell_type": "code",
   "execution_count": 29,
   "id": "0303fa06",
   "metadata": {},
   "outputs": [
    {
     "data": {
      "text/html": [
       "<div>\n",
       "<style scoped>\n",
       "    .dataframe tbody tr th:only-of-type {\n",
       "        vertical-align: middle;\n",
       "    }\n",
       "\n",
       "    .dataframe tbody tr th {\n",
       "        vertical-align: top;\n",
       "    }\n",
       "\n",
       "    .dataframe thead th {\n",
       "        text-align: right;\n",
       "    }\n",
       "</style>\n",
       "<table border=\"1\" class=\"dataframe\">\n",
       "  <thead>\n",
       "    <tr style=\"text-align: right;\">\n",
       "      <th></th>\n",
       "      <th>user_id</th>\n",
       "      <th>name</th>\n",
       "      <th>age</th>\n",
       "      <th>city</th>\n",
       "      <th>subscription_type</th>\n",
       "      <th>distance</th>\n",
       "      <th>duration</th>\n",
       "      <th>date</th>\n",
       "      <th>month</th>\n",
       "      <th>minute_price</th>\n",
       "      <th>start_ride_price</th>\n",
       "      <th>subscription_fee</th>\n",
       "    </tr>\n",
       "  </thead>\n",
       "  <tbody>\n",
       "    <tr>\n",
       "      <th>0</th>\n",
       "      <td>1</td>\n",
       "      <td>Кира</td>\n",
       "      <td>22</td>\n",
       "      <td>Тюмень</td>\n",
       "      <td>ultra</td>\n",
       "      <td>4409.919140</td>\n",
       "      <td>25.599769</td>\n",
       "      <td>2021-01-01</td>\n",
       "      <td>1</td>\n",
       "      <td>6</td>\n",
       "      <td>0</td>\n",
       "      <td>199</td>\n",
       "    </tr>\n",
       "    <tr>\n",
       "      <th>1</th>\n",
       "      <td>1</td>\n",
       "      <td>Кира</td>\n",
       "      <td>22</td>\n",
       "      <td>Тюмень</td>\n",
       "      <td>ultra</td>\n",
       "      <td>2617.592153</td>\n",
       "      <td>15.816871</td>\n",
       "      <td>2021-01-18</td>\n",
       "      <td>1</td>\n",
       "      <td>6</td>\n",
       "      <td>0</td>\n",
       "      <td>199</td>\n",
       "    </tr>\n",
       "    <tr>\n",
       "      <th>2</th>\n",
       "      <td>1</td>\n",
       "      <td>Кира</td>\n",
       "      <td>22</td>\n",
       "      <td>Тюмень</td>\n",
       "      <td>ultra</td>\n",
       "      <td>754.159807</td>\n",
       "      <td>6.232113</td>\n",
       "      <td>2021-04-20</td>\n",
       "      <td>4</td>\n",
       "      <td>6</td>\n",
       "      <td>0</td>\n",
       "      <td>199</td>\n",
       "    </tr>\n",
       "    <tr>\n",
       "      <th>3</th>\n",
       "      <td>1</td>\n",
       "      <td>Кира</td>\n",
       "      <td>22</td>\n",
       "      <td>Тюмень</td>\n",
       "      <td>ultra</td>\n",
       "      <td>2694.783254</td>\n",
       "      <td>18.511000</td>\n",
       "      <td>2021-08-11</td>\n",
       "      <td>8</td>\n",
       "      <td>6</td>\n",
       "      <td>0</td>\n",
       "      <td>199</td>\n",
       "    </tr>\n",
       "    <tr>\n",
       "      <th>4</th>\n",
       "      <td>1</td>\n",
       "      <td>Кира</td>\n",
       "      <td>22</td>\n",
       "      <td>Тюмень</td>\n",
       "      <td>ultra</td>\n",
       "      <td>4028.687306</td>\n",
       "      <td>26.265803</td>\n",
       "      <td>2021-08-28</td>\n",
       "      <td>8</td>\n",
       "      <td>6</td>\n",
       "      <td>0</td>\n",
       "      <td>199</td>\n",
       "    </tr>\n",
       "  </tbody>\n",
       "</table>\n",
       "</div>"
      ],
      "text/plain": [
       "   user_id  name  age    city subscription_type     distance   duration  \\\n",
       "0        1  Кира   22  Тюмень             ultra  4409.919140  25.599769   \n",
       "1        1  Кира   22  Тюмень             ultra  2617.592153  15.816871   \n",
       "2        1  Кира   22  Тюмень             ultra   754.159807   6.232113   \n",
       "3        1  Кира   22  Тюмень             ultra  2694.783254  18.511000   \n",
       "4        1  Кира   22  Тюмень             ultra  4028.687306  26.265803   \n",
       "\n",
       "        date  month  minute_price  start_ride_price  subscription_fee  \n",
       "0 2021-01-01      1             6                 0               199  \n",
       "1 2021-01-18      1             6                 0               199  \n",
       "2 2021-04-20      4             6                 0               199  \n",
       "3 2021-08-11      8             6                 0               199  \n",
       "4 2021-08-28      8             6                 0               199  "
      ]
     },
     "execution_count": 29,
     "metadata": {},
     "output_type": "execute_result"
    }
   ],
   "source": [
    "full_data.head()"
   ]
  },
  {
   "cell_type": "code",
   "execution_count": 30,
   "id": "75275138",
   "metadata": {},
   "outputs": [
    {
     "data": {
      "text/plain": [
       "user_id              0\n",
       "name                 0\n",
       "age                  0\n",
       "city                 0\n",
       "subscription_type    0\n",
       "distance             0\n",
       "duration             0\n",
       "date                 0\n",
       "month                0\n",
       "minute_price         0\n",
       "start_ride_price     0\n",
       "subscription_fee     0\n",
       "dtype: int64"
      ]
     },
     "execution_count": 30,
     "metadata": {},
     "output_type": "execute_result"
    }
   ],
   "source": [
    "full_data.isna().sum()"
   ]
  },
  {
   "cell_type": "markdown",
   "id": "f2c64a90",
   "metadata": {},
   "source": [
    "Теперь данные из всех 3 таблиц находятся в 1 "
   ]
  },
  {
   "cell_type": "markdown",
   "id": "240a796a",
   "metadata": {},
   "source": [
    "### 4.2 Создадим ещё два датафрейма из датафрейма, созданного на этапе 4.1:"
   ]
  },
  {
   "cell_type": "markdown",
   "id": "f360e9c0",
   "metadata": {},
   "source": [
    "***Датафрейм c данными о пользователях без подписки:***"
   ]
  },
  {
   "cell_type": "code",
   "execution_count": 31,
   "id": "d64d56b6",
   "metadata": {},
   "outputs": [],
   "source": [
    "# Создаем таблицу free_sub в которой будут только те строки, значения в столбце subscription_type = free\n",
    "free_sub = full_data.query(\"`subscription_type` == 'free'\")"
   ]
  },
  {
   "cell_type": "code",
   "execution_count": 32,
   "id": "00a59fc9",
   "metadata": {},
   "outputs": [
    {
     "data": {
      "text/html": [
       "<div>\n",
       "<style scoped>\n",
       "    .dataframe tbody tr th:only-of-type {\n",
       "        vertical-align: middle;\n",
       "    }\n",
       "\n",
       "    .dataframe tbody tr th {\n",
       "        vertical-align: top;\n",
       "    }\n",
       "\n",
       "    .dataframe thead th {\n",
       "        text-align: right;\n",
       "    }\n",
       "</style>\n",
       "<table border=\"1\" class=\"dataframe\">\n",
       "  <thead>\n",
       "    <tr style=\"text-align: right;\">\n",
       "      <th></th>\n",
       "      <th>user_id</th>\n",
       "      <th>name</th>\n",
       "      <th>age</th>\n",
       "      <th>city</th>\n",
       "      <th>subscription_type</th>\n",
       "      <th>distance</th>\n",
       "      <th>duration</th>\n",
       "      <th>date</th>\n",
       "      <th>month</th>\n",
       "      <th>minute_price</th>\n",
       "      <th>start_ride_price</th>\n",
       "      <th>subscription_fee</th>\n",
       "    </tr>\n",
       "  </thead>\n",
       "  <tbody>\n",
       "    <tr>\n",
       "      <th>6500</th>\n",
       "      <td>700</td>\n",
       "      <td>Айдар</td>\n",
       "      <td>22</td>\n",
       "      <td>Омск</td>\n",
       "      <td>free</td>\n",
       "      <td>2515.690719</td>\n",
       "      <td>14.944286</td>\n",
       "      <td>2021-01-02</td>\n",
       "      <td>1</td>\n",
       "      <td>8</td>\n",
       "      <td>50</td>\n",
       "      <td>0</td>\n",
       "    </tr>\n",
       "    <tr>\n",
       "      <th>6501</th>\n",
       "      <td>700</td>\n",
       "      <td>Айдар</td>\n",
       "      <td>22</td>\n",
       "      <td>Омск</td>\n",
       "      <td>free</td>\n",
       "      <td>846.932642</td>\n",
       "      <td>16.234663</td>\n",
       "      <td>2021-02-01</td>\n",
       "      <td>2</td>\n",
       "      <td>8</td>\n",
       "      <td>50</td>\n",
       "      <td>0</td>\n",
       "    </tr>\n",
       "    <tr>\n",
       "      <th>6502</th>\n",
       "      <td>700</td>\n",
       "      <td>Айдар</td>\n",
       "      <td>22</td>\n",
       "      <td>Омск</td>\n",
       "      <td>free</td>\n",
       "      <td>4004.434142</td>\n",
       "      <td>20.016628</td>\n",
       "      <td>2021-02-04</td>\n",
       "      <td>2</td>\n",
       "      <td>8</td>\n",
       "      <td>50</td>\n",
       "      <td>0</td>\n",
       "    </tr>\n",
       "    <tr>\n",
       "      <th>6503</th>\n",
       "      <td>700</td>\n",
       "      <td>Айдар</td>\n",
       "      <td>22</td>\n",
       "      <td>Омск</td>\n",
       "      <td>free</td>\n",
       "      <td>1205.911290</td>\n",
       "      <td>9.782872</td>\n",
       "      <td>2021-02-10</td>\n",
       "      <td>2</td>\n",
       "      <td>8</td>\n",
       "      <td>50</td>\n",
       "      <td>0</td>\n",
       "    </tr>\n",
       "    <tr>\n",
       "      <th>6504</th>\n",
       "      <td>700</td>\n",
       "      <td>Айдар</td>\n",
       "      <td>22</td>\n",
       "      <td>Омск</td>\n",
       "      <td>free</td>\n",
       "      <td>3047.379435</td>\n",
       "      <td>17.427673</td>\n",
       "      <td>2021-02-14</td>\n",
       "      <td>2</td>\n",
       "      <td>8</td>\n",
       "      <td>50</td>\n",
       "      <td>0</td>\n",
       "    </tr>\n",
       "  </tbody>\n",
       "</table>\n",
       "</div>"
      ],
      "text/plain": [
       "      user_id   name  age  city subscription_type     distance   duration  \\\n",
       "6500      700  Айдар   22  Омск              free  2515.690719  14.944286   \n",
       "6501      700  Айдар   22  Омск              free   846.932642  16.234663   \n",
       "6502      700  Айдар   22  Омск              free  4004.434142  20.016628   \n",
       "6503      700  Айдар   22  Омск              free  1205.911290   9.782872   \n",
       "6504      700  Айдар   22  Омск              free  3047.379435  17.427673   \n",
       "\n",
       "           date  month  minute_price  start_ride_price  subscription_fee  \n",
       "6500 2021-01-02      1             8                50                 0  \n",
       "6501 2021-02-01      2             8                50                 0  \n",
       "6502 2021-02-04      2             8                50                 0  \n",
       "6503 2021-02-10      2             8                50                 0  \n",
       "6504 2021-02-14      2             8                50                 0  "
      ]
     },
     "execution_count": 32,
     "metadata": {},
     "output_type": "execute_result"
    }
   ],
   "source": [
    "#Датафрейм с пользователся без подписок\n",
    "free_sub.head()"
   ]
  },
  {
   "cell_type": "markdown",
   "id": "554de305",
   "metadata": {},
   "source": [
    "***Датафрейм с данными о пользователях с подпиской***"
   ]
  },
  {
   "cell_type": "code",
   "execution_count": 33,
   "id": "2bd655c6",
   "metadata": {},
   "outputs": [
    {
     "data": {
      "text/html": [
       "<div>\n",
       "<style scoped>\n",
       "    .dataframe tbody tr th:only-of-type {\n",
       "        vertical-align: middle;\n",
       "    }\n",
       "\n",
       "    .dataframe tbody tr th {\n",
       "        vertical-align: top;\n",
       "    }\n",
       "\n",
       "    .dataframe thead th {\n",
       "        text-align: right;\n",
       "    }\n",
       "</style>\n",
       "<table border=\"1\" class=\"dataframe\">\n",
       "  <thead>\n",
       "    <tr style=\"text-align: right;\">\n",
       "      <th></th>\n",
       "      <th>user_id</th>\n",
       "      <th>name</th>\n",
       "      <th>age</th>\n",
       "      <th>city</th>\n",
       "      <th>subscription_type</th>\n",
       "      <th>distance</th>\n",
       "      <th>duration</th>\n",
       "      <th>date</th>\n",
       "      <th>month</th>\n",
       "      <th>minute_price</th>\n",
       "      <th>start_ride_price</th>\n",
       "      <th>subscription_fee</th>\n",
       "    </tr>\n",
       "  </thead>\n",
       "  <tbody>\n",
       "    <tr>\n",
       "      <th>0</th>\n",
       "      <td>1</td>\n",
       "      <td>Кира</td>\n",
       "      <td>22</td>\n",
       "      <td>Тюмень</td>\n",
       "      <td>ultra</td>\n",
       "      <td>4409.919140</td>\n",
       "      <td>25.599769</td>\n",
       "      <td>2021-01-01</td>\n",
       "      <td>1</td>\n",
       "      <td>6</td>\n",
       "      <td>0</td>\n",
       "      <td>199</td>\n",
       "    </tr>\n",
       "    <tr>\n",
       "      <th>1</th>\n",
       "      <td>1</td>\n",
       "      <td>Кира</td>\n",
       "      <td>22</td>\n",
       "      <td>Тюмень</td>\n",
       "      <td>ultra</td>\n",
       "      <td>2617.592153</td>\n",
       "      <td>15.816871</td>\n",
       "      <td>2021-01-18</td>\n",
       "      <td>1</td>\n",
       "      <td>6</td>\n",
       "      <td>0</td>\n",
       "      <td>199</td>\n",
       "    </tr>\n",
       "    <tr>\n",
       "      <th>2</th>\n",
       "      <td>1</td>\n",
       "      <td>Кира</td>\n",
       "      <td>22</td>\n",
       "      <td>Тюмень</td>\n",
       "      <td>ultra</td>\n",
       "      <td>754.159807</td>\n",
       "      <td>6.232113</td>\n",
       "      <td>2021-04-20</td>\n",
       "      <td>4</td>\n",
       "      <td>6</td>\n",
       "      <td>0</td>\n",
       "      <td>199</td>\n",
       "    </tr>\n",
       "    <tr>\n",
       "      <th>3</th>\n",
       "      <td>1</td>\n",
       "      <td>Кира</td>\n",
       "      <td>22</td>\n",
       "      <td>Тюмень</td>\n",
       "      <td>ultra</td>\n",
       "      <td>2694.783254</td>\n",
       "      <td>18.511000</td>\n",
       "      <td>2021-08-11</td>\n",
       "      <td>8</td>\n",
       "      <td>6</td>\n",
       "      <td>0</td>\n",
       "      <td>199</td>\n",
       "    </tr>\n",
       "    <tr>\n",
       "      <th>4</th>\n",
       "      <td>1</td>\n",
       "      <td>Кира</td>\n",
       "      <td>22</td>\n",
       "      <td>Тюмень</td>\n",
       "      <td>ultra</td>\n",
       "      <td>4028.687306</td>\n",
       "      <td>26.265803</td>\n",
       "      <td>2021-08-28</td>\n",
       "      <td>8</td>\n",
       "      <td>6</td>\n",
       "      <td>0</td>\n",
       "      <td>199</td>\n",
       "    </tr>\n",
       "  </tbody>\n",
       "</table>\n",
       "</div>"
      ],
      "text/plain": [
       "   user_id  name  age    city subscription_type     distance   duration  \\\n",
       "0        1  Кира   22  Тюмень             ultra  4409.919140  25.599769   \n",
       "1        1  Кира   22  Тюмень             ultra  2617.592153  15.816871   \n",
       "2        1  Кира   22  Тюмень             ultra   754.159807   6.232113   \n",
       "3        1  Кира   22  Тюмень             ultra  2694.783254  18.511000   \n",
       "4        1  Кира   22  Тюмень             ultra  4028.687306  26.265803   \n",
       "\n",
       "        date  month  minute_price  start_ride_price  subscription_fee  \n",
       "0 2021-01-01      1             6                 0               199  \n",
       "1 2021-01-18      1             6                 0               199  \n",
       "2 2021-04-20      4             6                 0               199  \n",
       "3 2021-08-11      8             6                 0               199  \n",
       "4 2021-08-28      8             6                 0               199  "
      ]
     },
     "execution_count": 33,
     "metadata": {},
     "output_type": "execute_result"
    }
   ],
   "source": [
    "# Создаем таблицу ultra_sub в которой будут только те строки, значения в столбце subscription_type = ultra\n",
    "ultra_sub = full_data.query(\"`subscription_type` == 'ultra'\")\n",
    "#Датафрейм с пользователся без подписок\n",
    "ultra_sub.head()"
   ]
  },
  {
   "cell_type": "markdown",
   "id": "27b38131",
   "metadata": {},
   "source": [
    "***Вывод:***\n",
    "\n",
    "Теперь у нас есть 2 таблици:\n",
    "\n",
    "***free_sub*** - пользователи, которые пользуются приложением без подписки\n",
    "\n",
    "***ultra_sub*** - пользователи, которые оплатили подписку "
   ]
  },
  {
   "cell_type": "markdown",
   "id": "40c005d2",
   "metadata": {},
   "source": [
    "### 4.3 Визуализируем информацию о расстоянии и времени поездок для пользователей обеих категорий."
   ]
  },
  {
   "cell_type": "markdown",
   "id": "6a2ab419",
   "metadata": {},
   "source": [
    "***Визуализируем информацию о расстоянии на бесплатном тарифе и платном***"
   ]
  },
  {
   "cell_type": "code",
   "execution_count": 34,
   "id": "4b8b1b14",
   "metadata": {},
   "outputs": [
    {
     "data": {
      "image/png": "[encoded data removed]",
      "text/plain": [
       "<Figure size 432x288 with 1 Axes>"
      ]
     },
     "metadata": {
      "needs_background": "light"
     },
     "output_type": "display_data"
    },
    {
     "data": {
      "text/plain": [
       "<Figure size 1440x1440 with 0 Axes>"
      ]
     },
     "metadata": {},
     "output_type": "display_data"
    }
   ],
   "source": [
    "#Строим гистограмму, которая покаже какое количество пользователей приеодаливает определенное расстояние\n",
    "plt.hist(free_sub['distance'], bins=40, range = (0, 7500))\n",
    "plt.title('Расстояние, бесплатный тариф')\n",
    "plt.xlabel('Расстояние, м')\n",
    "plt.ylabel('Количество поездок')\n",
    "plt.figure(figsize=(20,20))\n",
    "plt.show()"
   ]
  },
  {
   "cell_type": "code",
   "execution_count": 35,
   "id": "8ffbda52",
   "metadata": {},
   "outputs": [
    {
     "data": {
      "image/png": "[encoded data removed]",
      "text/plain": [
       "<Figure size 432x288 with 1 Axes>"
      ]
     },
     "metadata": {
      "needs_background": "light"
     },
     "output_type": "display_data"
    },
    {
     "data": {
      "text/plain": [
       "<Figure size 1440x1440 with 0 Axes>"
      ]
     },
     "metadata": {},
     "output_type": "display_data"
    }
   ],
   "source": [
    "#Расстояние, которое проезжают пользователи с платным тарифом\n",
    "plt.hist(ultra_sub['distance'], bins=40, range = (0, 6000))\n",
    "plt.title('Расстояние, платный тариф')\n",
    "plt.xlabel('Расстояние, м')\n",
    "plt.ylabel('Количество поездок')\n",
    "plt.figure(figsize=(20,20))\n",
    "plt.show()"
   ]
  },
  {
   "cell_type": "markdown",
   "id": "822aba55",
   "metadata": {},
   "source": [
    "***Вывод:***\n",
    "\n",
    "Пользователи, которы пользуются ***бесплатным тарифом*** проезжают от 2 до 5 км, есть пользователи, которые проехали даже 6, 6.5 км.\n",
    "\n",
    "Пользователи, которые пользуются ***платным тарифом*** пик расстояния приходится на 3км. Основное расстояние приходится в диапозоне от 2.3 до 4,3 км \n",
    "\n",
    "Можно сделать вывод, что пользователи с ***бесплатным*** проезжают большее расстояние, чем пользователи на ***платном*** тарифе."
   ]
  },
  {
   "cell_type": "markdown",
   "id": "483b4b0c",
   "metadata": {},
   "source": [
    "***Визуализируем информацию о времени поездки на бесплатном тарифе и платном***"
   ]
  },
  {
   "cell_type": "code",
   "execution_count": 36,
   "id": "fb53e71b",
   "metadata": {},
   "outputs": [
    {
     "data": {
      "image/png": "[encoded data removed]",
      "text/plain": [
       "<Figure size 432x288 with 1 Axes>"
      ]
     },
     "metadata": {
      "needs_background": "light"
     },
     "output_type": "display_data"
    },
    {
     "data": {
      "text/plain": [
       "<Figure size 1440x1440 with 0 Axes>"
      ]
     },
     "metadata": {},
     "output_type": "display_data"
    },
    {
     "data": {
      "image/png": "[encoded data removed]",
      "text/plain": [
       "<Figure size 432x288 with 1 Axes>"
      ]
     },
     "metadata": {
      "needs_background": "light"
     },
     "output_type": "display_data"
    },
    {
     "data": {
      "text/plain": [
       "<Figure size 1440x1440 with 0 Axes>"
      ]
     },
     "metadata": {},
     "output_type": "display_data"
    }
   ],
   "source": [
    "# Построем гистограмму, времени поездок пользователей без подписок\n",
    "plt.hist(free_sub['duration'], bins=30, range = (0, 35))\n",
    "plt.title('Время, бесплатный тариф')\n",
    "plt.xlabel('Время поездки, минуты')\n",
    "plt.ylabel('Количество поездок')\n",
    "plt.figure(figsize=(20,20))\n",
    "plt.show()\n",
    "\n",
    "# Построем гистограмму, времени поездок пользователей с подпиской\n",
    "plt.hist(ultra_sub['duration'], bins=30, range = (0, 35))\n",
    "plt.title('Время, платный тариф')\n",
    "plt.xlabel('Время поездки, минуты')\n",
    "plt.ylabel('Количество поездок')\n",
    "plt.figure(figsize=(20,20))\n",
    "plt.show()"
   ]
  },
  {
   "cell_type": "markdown",
   "id": "58f71f5c",
   "metadata": {},
   "source": [
    "***Вывод:***\n",
    "\n",
    "Для ***бесплатного*** тарифа время поездки составляет от 10 до 30 минут.\n",
    "\n",
    "***Платный тариф***. В основном время укладывается в промежуток от 15 до 25 минут.\n",
    "\n",
    "Пользователи, которые пользуются подпиской, пероятно совершают одни и теже поездки, поэтому их значение не такое хаотичное! "
   ]
  },
  {
   "cell_type": "markdown",
   "id": "364b72ce",
   "metadata": {},
   "source": [
    "### Вывод\n",
    "\n",
    "- Объединили данные о пользователях, поездках и тарифах в один датафрейм - full_data.\n",
    "\n",
    " Выделили два датафрейма на основе ***full_data***:\n",
    "\n",
    "    - free_sub - Информация о пользователях с бесплатным тарифом\n",
    "    - ultra_sub - Информация о пользователях с платным тарифом\n",
    "    - Визуализировали информацию о расстоянии и времени для каждого из тарифов.\n",
    "\n",
    "Для бесплатного тарифа время поездки составляет от 10 до 30 минут, и проезжают от 2 до 5 км, так же есть пользователи, которые проехали даже 6, 6.5 км.\n",
    "\n",
    "Платный тариф. В основном время укладывается в промежуток от 15 до 25 минут. Пик расстояния приходится на 3км. Намного меньше значений, которые удалены от пика\n",
    "\n",
    "Таким образом, можно сделать вывод, что пользователи с бесплатным тарифом в целом совершают более долгие поездки, а также проезжают большее расстояние, чем пользователи на платном тарифе."
   ]
  },
  {
   "cell_type": "markdown",
   "id": "3c58014c",
   "metadata": {},
   "source": [
    "## 5. Подсчёт выручки"
   ]
  },
  {
   "cell_type": "markdown",
   "id": "2b2ef19d",
   "metadata": {},
   "source": [
    "5.1 Создадим датафрейм с агрегированными данными о поездках на основе датафрейма с объединёнными данными из шага 4\n",
    "\n",
    "Найдем для каждого пользователя за каждый месяц:\n",
    "- суммарное расстояние \n",
    "- количество поездок \n",
    "- суммарное время \n",
    "\n",
    "5.2 Дабавим в этот датафрейм столбец с помесечной выручкой, которую принёс каждый пользователь.\n"
   ]
  },
  {
   "cell_type": "markdown",
   "id": "d92f38cb",
   "metadata": {},
   "source": [
    "***5.1 Создадим датафрейм с агрегированными данными о поездках на основе датафрейма с объединёнными данными из шага 4***"
   ]
  },
  {
   "cell_type": "code",
   "execution_count": 37,
   "id": "001945af",
   "metadata": {},
   "outputs": [],
   "source": [
    "#создаем сводную таблицу\n",
    "total_data = pd.pivot_table(full_data,\n",
    "                           index=['month', 'user_id'],\n",
    "                           values = ['distance', 'duration', 'name', 'subscription_type'],\n",
    "                           aggfunc = {'distance': sum, # суммарная дистанция\n",
    "                                      'duration' : sum, #суммарное время поездки\n",
    "                                      'name' : len, # колличество поездок\n",
    "                                      'subscription_type' : min} # наличие подписки\n",
    "                           )"
   ]
  },
  {
   "cell_type": "code",
   "execution_count": 38,
   "id": "63e04420",
   "metadata": {},
   "outputs": [],
   "source": [
    "#меняем название name на count_tips \n",
    "total_data.rename(columns = {'name' : 'count_tips'}, inplace = True)"
   ]
  },
  {
   "cell_type": "code",
   "execution_count": 39,
   "id": "99117831",
   "metadata": {},
   "outputs": [
    {
     "data": {
      "text/html": [
       "<div>\n",
       "<style scoped>\n",
       "    .dataframe tbody tr th:only-of-type {\n",
       "        vertical-align: middle;\n",
       "    }\n",
       "\n",
       "    .dataframe tbody tr th {\n",
       "        vertical-align: top;\n",
       "    }\n",
       "\n",
       "    .dataframe thead th {\n",
       "        text-align: right;\n",
       "    }\n",
       "</style>\n",
       "<table border=\"1\" class=\"dataframe\">\n",
       "  <thead>\n",
       "    <tr style=\"text-align: right;\">\n",
       "      <th></th>\n",
       "      <th></th>\n",
       "      <th>distance</th>\n",
       "      <th>duration</th>\n",
       "      <th>count_tips</th>\n",
       "      <th>subscription_type</th>\n",
       "    </tr>\n",
       "    <tr>\n",
       "      <th>month</th>\n",
       "      <th>user_id</th>\n",
       "      <th></th>\n",
       "      <th></th>\n",
       "      <th></th>\n",
       "      <th></th>\n",
       "    </tr>\n",
       "  </thead>\n",
       "  <tbody>\n",
       "    <tr>\n",
       "      <th rowspan=\"5\" valign=\"top\">1</th>\n",
       "      <th>1</th>\n",
       "      <td>7027.511294</td>\n",
       "      <td>41.416640</td>\n",
       "      <td>2</td>\n",
       "      <td>ultra</td>\n",
       "    </tr>\n",
       "    <tr>\n",
       "      <th>1061</th>\n",
       "      <td>12637.249630</td>\n",
       "      <td>41.127775</td>\n",
       "      <td>3</td>\n",
       "      <td>free</td>\n",
       "    </tr>\n",
       "    <tr>\n",
       "      <th>1063</th>\n",
       "      <td>3276.362299</td>\n",
       "      <td>9.560836</td>\n",
       "      <td>1</td>\n",
       "      <td>free</td>\n",
       "    </tr>\n",
       "    <tr>\n",
       "      <th>1064</th>\n",
       "      <td>5297.324649</td>\n",
       "      <td>14.224595</td>\n",
       "      <td>1</td>\n",
       "      <td>free</td>\n",
       "    </tr>\n",
       "    <tr>\n",
       "      <th>1065</th>\n",
       "      <td>14547.099333</td>\n",
       "      <td>96.301646</td>\n",
       "      <td>4</td>\n",
       "      <td>free</td>\n",
       "    </tr>\n",
       "  </tbody>\n",
       "</table>\n",
       "</div>"
      ],
      "text/plain": [
       "                   distance   duration  count_tips subscription_type\n",
       "month user_id                                                       \n",
       "1     1         7027.511294  41.416640           2             ultra\n",
       "      1061     12637.249630  41.127775           3              free\n",
       "      1063      3276.362299   9.560836           1              free\n",
       "      1064      5297.324649  14.224595           1              free\n",
       "      1065     14547.099333  96.301646           4              free"
      ]
     },
     "execution_count": 39,
     "metadata": {},
     "output_type": "execute_result"
    }
   ],
   "source": [
    "total_data.sort_values(by='month').head()"
   ]
  },
  {
   "cell_type": "code",
   "execution_count": 40,
   "id": "fafebdf3",
   "metadata": {},
   "outputs": [
    {
     "data": {
      "text/html": [
       "<div>\n",
       "<style scoped>\n",
       "    .dataframe tbody tr th:only-of-type {\n",
       "        vertical-align: middle;\n",
       "    }\n",
       "\n",
       "    .dataframe tbody tr th {\n",
       "        vertical-align: top;\n",
       "    }\n",
       "\n",
       "    .dataframe thead th {\n",
       "        text-align: right;\n",
       "    }\n",
       "</style>\n",
       "<table border=\"1\" class=\"dataframe\">\n",
       "  <thead>\n",
       "    <tr style=\"text-align: right;\">\n",
       "      <th></th>\n",
       "      <th></th>\n",
       "      <th>distance</th>\n",
       "      <th>duration</th>\n",
       "      <th>count_tips</th>\n",
       "      <th>subscription_type</th>\n",
       "    </tr>\n",
       "    <tr>\n",
       "      <th>month</th>\n",
       "      <th>user_id</th>\n",
       "      <th></th>\n",
       "      <th></th>\n",
       "      <th></th>\n",
       "      <th></th>\n",
       "    </tr>\n",
       "  </thead>\n",
       "  <tbody>\n",
       "    <tr>\n",
       "      <th>1</th>\n",
       "      <th>1</th>\n",
       "      <td>7027.511294</td>\n",
       "      <td>41.416640</td>\n",
       "      <td>2</td>\n",
       "      <td>ultra</td>\n",
       "    </tr>\n",
       "    <tr>\n",
       "      <th>4</th>\n",
       "      <th>1</th>\n",
       "      <td>754.159807</td>\n",
       "      <td>6.232113</td>\n",
       "      <td>1</td>\n",
       "      <td>ultra</td>\n",
       "    </tr>\n",
       "    <tr>\n",
       "      <th>8</th>\n",
       "      <th>1</th>\n",
       "      <td>6723.470560</td>\n",
       "      <td>44.776802</td>\n",
       "      <td>2</td>\n",
       "      <td>ultra</td>\n",
       "    </tr>\n",
       "    <tr>\n",
       "      <th>10</th>\n",
       "      <th>1</th>\n",
       "      <td>5809.911100</td>\n",
       "      <td>31.578017</td>\n",
       "      <td>2</td>\n",
       "      <td>ultra</td>\n",
       "    </tr>\n",
       "    <tr>\n",
       "      <th>11</th>\n",
       "      <th>1</th>\n",
       "      <td>7003.499363</td>\n",
       "      <td>53.397424</td>\n",
       "      <td>3</td>\n",
       "      <td>ultra</td>\n",
       "    </tr>\n",
       "    <tr>\n",
       "      <th>12</th>\n",
       "      <th>1</th>\n",
       "      <td>6751.629942</td>\n",
       "      <td>27.203912</td>\n",
       "      <td>2</td>\n",
       "      <td>ultra</td>\n",
       "    </tr>\n",
       "  </tbody>\n",
       "</table>\n",
       "</div>"
      ],
      "text/plain": [
       "                  distance   duration  count_tips subscription_type\n",
       "month user_id                                                      \n",
       "1     1        7027.511294  41.416640           2             ultra\n",
       "4     1         754.159807   6.232113           1             ultra\n",
       "8     1        6723.470560  44.776802           2             ultra\n",
       "10    1        5809.911100  31.578017           2             ultra\n",
       "11    1        7003.499363  53.397424           3             ultra\n",
       "12    1        6751.629942  27.203912           2             ultra"
      ]
     },
     "execution_count": 40,
     "metadata": {},
     "output_type": "execute_result"
    }
   ],
   "source": [
    "#выводим информацию о пользователе с номером 1 \n",
    "total_data.query('user_id == 1')"
   ]
  },
  {
   "cell_type": "markdown",
   "id": "e05ae877",
   "metadata": {},
   "source": [
    "Из таблицы выидно, что пользователь совершал каждый месяц по 1 поездки, причем достаточно протяженные, как по времени, так и по дистанции!\n",
    "\n",
    "Так же видно, что у этого пользователся была очень короткая поездка, 7 минут! \n",
    "\n",
    "У пользователя так же подключена подписка !"
   ]
  },
  {
   "cell_type": "markdown",
   "id": "eff2009f",
   "metadata": {},
   "source": [
    "***5.2 Дабавим в этот датафрейм столбец с помесечной выручкой, которую принёс каждый пользователь.***"
   ]
  },
  {
   "cell_type": "markdown",
   "id": "c68a3caa",
   "metadata": {},
   "source": [
    "Для того, чтобы выяснить какую сумму принес каждый пользователь за месяц, нужно учитывать слудующие факты:\n",
    "\n",
    "    Без подписки\n",
    "    \n",
    "        - абонентская плата отсутствует;\n",
    "        - стоимость одной минуты поездки —  8 рублей;\n",
    "        - стоимость старта (начала поездки) — 50 рублей;\n",
    "\n",
    "\n",
    "    С подпиской Ultra\n",
    "    \n",
    "        - абонентская плата — 199 рублей в месяц;\n",
    "        - стоимость одной минуты поездки — 6 рублей;\n",
    "        - стоимость старта — бесплатно."
   ]
  },
  {
   "cell_type": "markdown",
   "id": "a23f1e10",
   "metadata": {},
   "source": [
    "Создадим функцию, которая будет учитывая выше факты считать сколько пользователь принес денег за месяц"
   ]
  },
  {
   "cell_type": "code",
   "execution_count": 41,
   "id": "5cffe656",
   "metadata": {},
   "outputs": [],
   "source": [
    "def profit(row):\n",
    "    if row['subscription_type'] == 'ultra':#если человек подписан, то умножить время поездки на 6 и прибавить 199\n",
    "        return 6 * row['duration'] + 199\n",
    "    elif row['subscription_type'] == 'free': #если человек не подписан, то общее время поездки умножаем на 6 и добавляем колличество стартов\n",
    "        return 8 * row['duration'] + 50 * row['count_tips']\n",
    "    else:\n",
    "        return 'Нет информации'"
   ]
  },
  {
   "cell_type": "code",
   "execution_count": 42,
   "id": "103098bd",
   "metadata": {},
   "outputs": [],
   "source": [
    "total_data['profit_month'] = total_data.apply(profit, axis=1)"
   ]
  },
  {
   "cell_type": "code",
   "execution_count": 43,
   "id": "38c599c3",
   "metadata": {},
   "outputs": [
    {
     "data": {
      "text/html": [
       "<div>\n",
       "<style scoped>\n",
       "    .dataframe tbody tr th:only-of-type {\n",
       "        vertical-align: middle;\n",
       "    }\n",
       "\n",
       "    .dataframe tbody tr th {\n",
       "        vertical-align: top;\n",
       "    }\n",
       "\n",
       "    .dataframe thead th {\n",
       "        text-align: right;\n",
       "    }\n",
       "</style>\n",
       "<table border=\"1\" class=\"dataframe\">\n",
       "  <thead>\n",
       "    <tr style=\"text-align: right;\">\n",
       "      <th></th>\n",
       "      <th></th>\n",
       "      <th>distance</th>\n",
       "      <th>duration</th>\n",
       "      <th>count_tips</th>\n",
       "      <th>subscription_type</th>\n",
       "      <th>profit_month</th>\n",
       "    </tr>\n",
       "    <tr>\n",
       "      <th>month</th>\n",
       "      <th>user_id</th>\n",
       "      <th></th>\n",
       "      <th></th>\n",
       "      <th></th>\n",
       "      <th></th>\n",
       "      <th></th>\n",
       "    </tr>\n",
       "  </thead>\n",
       "  <tbody>\n",
       "    <tr>\n",
       "      <th rowspan=\"5\" valign=\"top\">1</th>\n",
       "      <th>1</th>\n",
       "      <td>7027.511294</td>\n",
       "      <td>41.416640</td>\n",
       "      <td>2</td>\n",
       "      <td>ultra</td>\n",
       "      <td>447.499843</td>\n",
       "    </tr>\n",
       "    <tr>\n",
       "      <th>3</th>\n",
       "      <td>3061.777147</td>\n",
       "      <td>12.654443</td>\n",
       "      <td>1</td>\n",
       "      <td>ultra</td>\n",
       "      <td>274.926657</td>\n",
       "    </tr>\n",
       "    <tr>\n",
       "      <th>5</th>\n",
       "      <td>3914.646990</td>\n",
       "      <td>12.395153</td>\n",
       "      <td>1</td>\n",
       "      <td>ultra</td>\n",
       "      <td>273.370917</td>\n",
       "    </tr>\n",
       "    <tr>\n",
       "      <th>7</th>\n",
       "      <td>6478.080979</td>\n",
       "      <td>27.653450</td>\n",
       "      <td>2</td>\n",
       "      <td>ultra</td>\n",
       "      <td>364.920700</td>\n",
       "    </tr>\n",
       "    <tr>\n",
       "      <th>12</th>\n",
       "      <td>3577.151148</td>\n",
       "      <td>32.462907</td>\n",
       "      <td>1</td>\n",
       "      <td>ultra</td>\n",
       "      <td>393.777441</td>\n",
       "    </tr>\n",
       "  </tbody>\n",
       "</table>\n",
       "</div>"
      ],
      "text/plain": [
       "                  distance   duration  count_tips subscription_type  \\\n",
       "month user_id                                                         \n",
       "1     1        7027.511294  41.416640           2             ultra   \n",
       "      3        3061.777147  12.654443           1             ultra   \n",
       "      5        3914.646990  12.395153           1             ultra   \n",
       "      7        6478.080979  27.653450           2             ultra   \n",
       "      12       3577.151148  32.462907           1             ultra   \n",
       "\n",
       "               profit_month  \n",
       "month user_id                \n",
       "1     1          447.499843  \n",
       "      3          274.926657  \n",
       "      5          273.370917  \n",
       "      7          364.920700  \n",
       "      12         393.777441  "
      ]
     },
     "execution_count": 43,
     "metadata": {},
     "output_type": "execute_result"
    }
   ],
   "source": [
    "total_data.head()"
   ]
  },
  {
   "cell_type": "code",
   "execution_count": 44,
   "id": "4be8339e",
   "metadata": {},
   "outputs": [
    {
     "data": {
      "text/html": [
       "<div>\n",
       "<style scoped>\n",
       "    .dataframe tbody tr th:only-of-type {\n",
       "        vertical-align: middle;\n",
       "    }\n",
       "\n",
       "    .dataframe tbody tr th {\n",
       "        vertical-align: top;\n",
       "    }\n",
       "\n",
       "    .dataframe thead th {\n",
       "        text-align: right;\n",
       "    }\n",
       "</style>\n",
       "<table border=\"1\" class=\"dataframe\">\n",
       "  <thead>\n",
       "    <tr style=\"text-align: right;\">\n",
       "      <th></th>\n",
       "      <th></th>\n",
       "      <th>distance</th>\n",
       "      <th>duration</th>\n",
       "      <th>count_tips</th>\n",
       "      <th>subscription_type</th>\n",
       "      <th>profit_month</th>\n",
       "    </tr>\n",
       "    <tr>\n",
       "      <th>month</th>\n",
       "      <th>user_id</th>\n",
       "      <th></th>\n",
       "      <th></th>\n",
       "      <th></th>\n",
       "      <th></th>\n",
       "      <th></th>\n",
       "    </tr>\n",
       "  </thead>\n",
       "  <tbody>\n",
       "    <tr>\n",
       "      <th>1</th>\n",
       "      <th>1</th>\n",
       "      <td>7027.511294</td>\n",
       "      <td>41.416640</td>\n",
       "      <td>2</td>\n",
       "      <td>ultra</td>\n",
       "      <td>447.499843</td>\n",
       "    </tr>\n",
       "    <tr>\n",
       "      <th>4</th>\n",
       "      <th>1</th>\n",
       "      <td>754.159807</td>\n",
       "      <td>6.232113</td>\n",
       "      <td>1</td>\n",
       "      <td>ultra</td>\n",
       "      <td>236.392681</td>\n",
       "    </tr>\n",
       "    <tr>\n",
       "      <th>8</th>\n",
       "      <th>1</th>\n",
       "      <td>6723.470560</td>\n",
       "      <td>44.776802</td>\n",
       "      <td>2</td>\n",
       "      <td>ultra</td>\n",
       "      <td>467.660815</td>\n",
       "    </tr>\n",
       "    <tr>\n",
       "      <th>10</th>\n",
       "      <th>1</th>\n",
       "      <td>5809.911100</td>\n",
       "      <td>31.578017</td>\n",
       "      <td>2</td>\n",
       "      <td>ultra</td>\n",
       "      <td>388.468102</td>\n",
       "    </tr>\n",
       "    <tr>\n",
       "      <th>11</th>\n",
       "      <th>1</th>\n",
       "      <td>7003.499363</td>\n",
       "      <td>53.397424</td>\n",
       "      <td>3</td>\n",
       "      <td>ultra</td>\n",
       "      <td>519.384541</td>\n",
       "    </tr>\n",
       "    <tr>\n",
       "      <th>12</th>\n",
       "      <th>1</th>\n",
       "      <td>6751.629942</td>\n",
       "      <td>27.203912</td>\n",
       "      <td>2</td>\n",
       "      <td>ultra</td>\n",
       "      <td>362.223471</td>\n",
       "    </tr>\n",
       "  </tbody>\n",
       "</table>\n",
       "</div>"
      ],
      "text/plain": [
       "                  distance   duration  count_tips subscription_type  \\\n",
       "month user_id                                                         \n",
       "1     1        7027.511294  41.416640           2             ultra   \n",
       "4     1         754.159807   6.232113           1             ultra   \n",
       "8     1        6723.470560  44.776802           2             ultra   \n",
       "10    1        5809.911100  31.578017           2             ultra   \n",
       "11    1        7003.499363  53.397424           3             ultra   \n",
       "12    1        6751.629942  27.203912           2             ultra   \n",
       "\n",
       "               profit_month  \n",
       "month user_id                \n",
       "1     1          447.499843  \n",
       "4     1          236.392681  \n",
       "8     1          467.660815  \n",
       "10    1          388.468102  \n",
       "11    1          519.384541  \n",
       "12    1          362.223471  "
      ]
     },
     "execution_count": 44,
     "metadata": {},
     "output_type": "execute_result"
    }
   ],
   "source": [
    "total_data.query('user_id == 1')"
   ]
  },
  {
   "cell_type": "markdown",
   "id": "20bcef83",
   "metadata": {},
   "source": [
    "Пользователь с id=1 да первый месяц принес 451 рублей, минимальная прибль которую принес пользователь 241 рубль. В этом случае большая часть это плата за ежемесячную подписку."
   ]
  },
  {
   "cell_type": "markdown",
   "id": "89577617",
   "metadata": {},
   "source": [
    "***Вывод***\n",
    "\n",
    "Создали новый датафрейм с агрегированными данными (total_data) на основе датафрейма с объединенными данными (full_data).\n",
    "\n",
    "Нашли суммарное расстояние, количество поездок и суммарное время для каждого пользователя за каждый месяц. Также добавили столбец с помесячной выручкой, которую принес каждый пользователь."
   ]
  },
  {
   "cell_type": "markdown",
   "id": "9f60f673",
   "metadata": {},
   "source": [
    "## 6. Проверка гипотез"
   ]
  },
  {
   "cell_type": "markdown",
   "id": "62aaa578",
   "metadata": {},
   "source": [
    "Проверим следующие гипотезы:\n",
    "\n",
    "6.1 Важно понять, тратят ли пользователи с подпиской больше времени на поездки? Если да, то пользователи с подпиской могут быть «выгоднее» для компании. Проверьте гипотезу. Используйте исходные данные о продолжительности каждой сессии — отдельно для подписчиков и тех, у кого нет подписки.\n",
    "\n",
    "6.2 Расстояние одной поездки в 3130 метров — оптимальное с точки зрения износа самоката. Можно ли сказать, что среднее расстояние, которое проезжают пользователи с подпиской за одну поездку, не превышает 3130 метров? Проверьте гипотезу и сделайте выводы.\n",
    "\n",
    "\n",
    "6.3 Проверьте гипотезу о том, будет ли помесячная выручка от пользователей с подпиской по месяцам выше, чем выручка от пользователей без подписки. Сделайте вывод.\n",
    "\n",
    "\n",
    "6.4 Представьте такую ситуацию: техническая команда сервиса обновила сервера, с которыми взаимодействует мобильное приложение. Она надеется, что из-за этого количество обращений в техподдержку значимо снизилось. Некоторый файл содержит для каждого пользователя данные о количестве обращений до обновления и после него. Какой тест вам понадобился бы для проверки этой гипотезы?"
   ]
  },
  {
   "cell_type": "markdown",
   "id": "0a5f268f",
   "metadata": {},
   "source": [
    "***6.1 Важно понять, тратят ли пользователи с подпиской больше времени на поездки?***"
   ]
  },
  {
   "cell_type": "markdown",
   "id": "ef3bc86d",
   "metadata": {},
   "source": [
    "Проверим гипотезу: пользователи с подпиской тратят больше времени на поездки, чем пользователи на бесплатном тарифе.\n",
    "\n",
    "H_0: Время (duration) пользователей на подписке ultra = время (duration) пользователей на подписке free\n",
    "\n",
    "H_1: Время (duration) пользователей на подписке ultra > время (duration) пользователей на подписке free\n",
    "\n",
    "alpha = 0.05"
   ]
  },
  {
   "cell_type": "code",
   "execution_count": 45,
   "id": "54562a36",
   "metadata": {},
   "outputs": [
    {
     "name": "stdout",
     "output_type": "stream",
     "text": [
      "1.2804098316645618e-34\n",
      "Отвергаем нулевую гипотезу\n"
     ]
    }
   ],
   "source": [
    "ultra = ultra_sub['duration'] \n",
    "\n",
    "free = free_sub['duration']\n",
    "\n",
    "results = st.ttest_ind(ultra, \n",
    "                       free,\n",
    "                       alternative = 'greater')\n",
    "\n",
    "alpha = 0.05\n",
    "\n",
    "print(results.pvalue)\n",
    "\n",
    "if results.pvalue < alpha:\n",
    "    print('Отвергаем нулевую гипотезу')\n",
    "else:\n",
    "    print('Не удалось отвергнуть нулевую гипотезу')"
   ]
  },
  {
   "cell_type": "markdown",
   "id": "1877d172",
   "metadata": {},
   "source": [
    "***Вывод***\n",
    "\n",
    "Проверили гипотезу, отвергли гипотезу о том, что время поездки пользователей на тарифе ultra равно времени поездки пользователей на тарифе free."
   ]
  },
  {
   "cell_type": "markdown",
   "id": "9b592676",
   "metadata": {},
   "source": [
    "***6.2 Проверка гипотезы, о растоянии одного заезда***"
   ]
  },
  {
   "cell_type": "markdown",
   "id": "f7fe1523",
   "metadata": {},
   "source": [
    "Проверим гипотезу: пользователи с подпиской проезжают расстояние, не превышающее 3130 метров за одну поездку.\n",
    "\n",
    "H_0: Расстояние (distance) пользователей на подписке ultra = 3130 метров\n",
    "\n",
    "H_1: Расстояние (distance) пользователей на подписке ultra < 3130 метров\n",
    "\n",
    "alpha = 0.05"
   ]
  },
  {
   "cell_type": "code",
   "execution_count": 46,
   "id": "b0ec9961",
   "metadata": {},
   "outputs": [
    {
     "name": "stdout",
     "output_type": "stream",
     "text": [
      "0.08046311521502146\n",
      "Не удалось отвергнуть нулевую гипотезу\n"
     ]
    }
   ],
   "source": [
    "ultra_dist = ultra_sub['distance']\n",
    "\n",
    "interested_value = 3130.0\n",
    "\n",
    "alpha = 0.05\n",
    "\n",
    "results = st.ttest_1samp(\n",
    "    ultra_dist, \n",
    "    interested_value,\n",
    "    alternative='less')\n",
    "    \n",
    "print(results.pvalue)\n",
    "\n",
    "if (results.pvalue < alpha):\n",
    "    print('Отвергаем нулевую гипотезу')\n",
    "else:\n",
    "    print('Не удалось отвергнуть нулевую гипотезу')"
   ]
  },
  {
   "cell_type": "markdown",
   "id": "34e43787",
   "metadata": {},
   "source": [
    "***Вывод***\n",
    "\n",
    "Проверили гипотезу, и мы не можем утверждать, что расстояние, которое проехали пользователи на тарифе ultra не превышает 3130 метров."
   ]
  },
  {
   "cell_type": "markdown",
   "id": "5a5f0331",
   "metadata": {},
   "source": [
    "***6.3 Проверка гипотезы о прибыльности подписки***\n",
    "\n",
    "Проверьте гипотезу о том, будет ли помесячная выручка от пользователей с подпиской по месяцам выше, чем выручка от пользователей без подписки. Сделайте вывод.\n",
    "\n",
    "Проверим гипотезу: помесячная выручка от пользователей с подпиской выше, чем выручка от пользователей без подписки\n",
    "\n",
    "H_0: Выручка (profit_month) пользователей на подписке ultra = выручка (profit_month) пользователей на подписке free\n",
    "\n",
    "H_1: Выручка (profit_month) пользователей на подписке ultra > выручка (profit_month) пользователей на подписке free\n",
    "\n",
    "alpha = 0.05"
   ]
  },
  {
   "cell_type": "code",
   "execution_count": 47,
   "id": "7d35d7bb",
   "metadata": {},
   "outputs": [
    {
     "name": "stdout",
     "output_type": "stream",
     "text": [
      "2.8999112105809456e-37\n",
      "Отвергаем нулевую гипотезу\n"
     ]
    }
   ],
   "source": [
    "ultra_per_mnth = total_data.loc[total_data.subscription_type == 'ultra', 'profit_month'] \n",
    "\n",
    "free_per_mnth = total_data.loc[total_data.subscription_type == 'free', 'profit_month'] \n",
    "\n",
    "\n",
    "results = st.ttest_ind(ultra_per_mnth, \n",
    "                       free_per_mnth,\n",
    "                       alternative = 'greater')\n",
    "\n",
    "alpha = 0.05\n",
    "\n",
    "print(results.pvalue)\n",
    "\n",
    "if results.pvalue < alpha:\n",
    "    print('Отвергаем нулевую гипотезу')\n",
    "else:\n",
    "    print('Не удалось отвергнуть нулевую гипотезу')"
   ]
  },
  {
   "cell_type": "markdown",
   "id": "6c714f2f",
   "metadata": {},
   "source": [
    "***Вывод***\n",
    "\n",
    "Проверили гипотезу и  можем утверждать, что выручка с пользователей с подпиской ultra превышает выручку с пользователей на подписке free"
   ]
  },
  {
   "cell_type": "markdown",
   "id": "9ef48ce0",
   "metadata": {},
   "source": [
    "6.4\n",
    "Представьте такую ситуацию: техническая команда сервиса обновила сервера, с которыми взаимодействует мобильное приложение. Она надеется, что из-за этого количество обращений в техподдержку значимо снизилось. Некоторый файл содержит для каждого пользователя данные о количестве обращений до обновления и после него. Какой тест вам понадобился бы для проверки этой гипотезы?\n",
    "\n",
    "Мое предположение:\n",
    "\n",
    "Нужно воспользоваться гипотезой о равенстве средних для зависимых (парных) выборок.\n",
    "\n",
    "Гипотезы будут сформулированы так:\n",
    "\n",
    "***H0 : μ1 = μ2***\n",
    "\n",
    "***H1 : μ1 != μ2***\n",
    "\n",
    "где:\n",
    "\n",
    "***μ1***- средние значения количество обращений до изменений \n",
    "\n",
    "***μ2***- средние значения количество обращений после изменения.\n",
    "\n",
    "Метод, который нужно использовать при сравнении: ***scipy.stats.ttest_rel()***"
   ]
  },
  {
   "cell_type": "markdown",
   "id": "5f4a1fb7",
   "metadata": {},
   "source": [
    "## Вывод"
   ]
  },
  {
   "cell_type": "markdown",
   "id": "22747bcb",
   "metadata": {},
   "source": [
    "***Провели исследовательский анализ данных:***\n",
    "\n",
    "- Вывели, что количество пользователей по городам распределено примерно одинаково, нет выдающихся значений. Лидером по количеству пользователей является Пятигорск - 219 пользователей. Меньше всего пользователей в Москве - 168.\n",
    "- Пользователей, использующих бесплатную подписку больше - 835 человек, что является ~54% от общего числа пользователей. На платной подписке сидит 699 пользователей, что соответственно является ~46%.\n",
    "- Возраст пользователей укладывается в промежуток от 20 до 30 лет\n",
    "- В основном пользователи проезжают от 2.5 км до 4 км.\n",
    "- Чаще всего длительность поездки состовляет 13 - 22 минут\n",
    "\n",
    "***Объединили данные о пользователях, поездках и подписках в один датафрейм. На основе объединенного датафрейма создали еще 2 датафрейма:***\n",
    "- Для пользователей с ultra подпиской\n",
    "- Для пользователей с free подпиской\n",
    "\n",
    "***Дальше визуализировали информацию о расстоянии и времени поездки для пользоватей каждого тарифа.***\n",
    "- Для бесплатного тарифа время поездки составляет от 10 до 30 минут, и проезжают от 2 до 5 км, есть пользователи, которые проехали даже больше 7 км \n",
    "- Платный тариф. В основном время укладывается в промежуток от 15 до 25 минут. Пик расстояния приходится на 3км.\n",
    "- Нашли суммарное расстояние, количество поездок и суммарное время для каждого пользователя за каждый месяц - вывели все данные в отдельный датафрейм total_data. Добавили в датафрейм total_data столбец с помесячной выручкой revenue_per_month.\n",
    "\n",
    "***Проверили гипотезы:***\n",
    "\n",
    "- Пользователи с подпиской тратят больше времени на поездки, чем пользователи на бесплатном тарифе\n",
    "   - - ***Отвергли нулевую гипотезу***\n",
    "- Пользователи с подпиской проезжают расстояние, не превышающее 3130 метров за одну поездку\n",
    "   - -  ***Не удалось отвергнуть нулевую гипотезу***\n",
    "- Помесячная выручка от пользователей с подпиской выше, чем выручка от пользователей без подписки\n",
    "  - - ***Отвергли нулевую гипотезу***"
   ]
  }
 ],
 "metadata": {
  "ExecuteTimeLog": [
   {
    "duration": 1582,
    "start_time": "2024-03-29T08:16:04.559Z"
   },
   {
    "duration": 294,
    "start_time": "2024-03-29T08:16:06.143Z"
   },
   {
    "duration": 12,
    "start_time": "2024-03-29T08:16:06.438Z"
   },
   {
    "duration": 28,
    "start_time": "2024-03-29T08:16:06.452Z"
   },
   {
    "duration": 21,
    "start_time": "2024-03-29T08:16:06.482Z"
   },
   {
    "duration": 26,
    "start_time": "2024-03-29T08:16:06.504Z"
   },
   {
    "duration": 25,
    "start_time": "2024-03-29T08:16:06.531Z"
   },
   {
    "duration": 12,
    "start_time": "2024-03-29T08:16:06.558Z"
   },
   {
    "duration": 11,
    "start_time": "2024-03-29T08:16:06.572Z"
   },
   {
    "duration": 6,
    "start_time": "2024-03-29T08:16:06.586Z"
   },
   {
    "duration": 10,
    "start_time": "2024-03-29T08:16:06.593Z"
   },
   {
    "duration": 5,
    "start_time": "2024-03-29T08:16:06.606Z"
   },
   {
    "duration": 14,
    "start_time": "2024-03-29T08:16:06.613Z"
   },
   {
    "duration": 8,
    "start_time": "2024-03-29T08:16:06.628Z"
   },
   {
    "duration": 7,
    "start_time": "2024-03-29T08:16:06.638Z"
   },
   {
    "duration": 5,
    "start_time": "2024-03-29T08:16:06.646Z"
   },
   {
    "duration": 14,
    "start_time": "2024-03-29T08:16:06.652Z"
   },
   {
    "duration": 172,
    "start_time": "2024-03-29T08:16:06.694Z"
   },
   {
    "duration": 5,
    "start_time": "2024-03-29T08:16:06.868Z"
   },
   {
    "duration": 104,
    "start_time": "2024-03-29T08:16:06.874Z"
   },
   {
    "duration": 169,
    "start_time": "2024-03-29T08:16:06.979Z"
   },
   {
    "duration": 7,
    "start_time": "2024-03-29T08:16:07.150Z"
   },
   {
    "duration": 128,
    "start_time": "2024-03-29T08:16:07.159Z"
   },
   {
    "duration": 11,
    "start_time": "2024-03-29T08:16:07.289Z"
   },
   {
    "duration": 135,
    "start_time": "2024-03-29T08:16:07.302Z"
   },
   {
    "duration": 11,
    "start_time": "2024-03-29T08:16:07.438Z"
   },
   {
    "duration": 26,
    "start_time": "2024-03-29T08:16:07.450Z"
   },
   {
    "duration": 20,
    "start_time": "2024-03-29T08:16:07.480Z"
   },
   {
    "duration": 24,
    "start_time": "2024-03-29T08:16:07.502Z"
   },
   {
    "duration": 12,
    "start_time": "2024-03-29T08:16:07.528Z"
   },
   {
    "duration": 20,
    "start_time": "2024-03-29T08:16:07.541Z"
   },
   {
    "duration": 211,
    "start_time": "2024-03-29T08:16:07.563Z"
   },
   {
    "duration": 203,
    "start_time": "2024-03-29T08:16:07.776Z"
   },
   {
    "duration": 444,
    "start_time": "2024-03-29T08:16:07.987Z"
   },
   {
    "duration": 1088,
    "start_time": "2024-03-29T08:16:08.432Z"
   },
   {
    "duration": 3,
    "start_time": "2024-03-29T08:16:09.522Z"
   },
   {
    "duration": 6,
    "start_time": "2024-03-29T08:16:09.526Z"
   },
   {
    "duration": 10,
    "start_time": "2024-03-29T08:16:09.533Z"
   },
   {
    "duration": 11,
    "start_time": "2024-03-29T08:16:09.545Z"
   },
   {
    "duration": 25,
    "start_time": "2024-03-29T08:16:09.557Z"
   },
   {
    "duration": 177,
    "start_time": "2024-03-29T08:16:09.583Z"
   },
   {
    "duration": 10,
    "start_time": "2024-03-29T08:16:09.762Z"
   },
   {
    "duration": 29,
    "start_time": "2024-03-29T08:16:09.774Z"
   },
   {
    "duration": 6,
    "start_time": "2024-03-29T08:16:09.804Z"
   },
   {
    "duration": 7,
    "start_time": "2024-03-29T08:16:09.812Z"
   },
   {
    "duration": 12,
    "start_time": "2024-03-29T08:16:09.820Z"
   },
   {
    "duration": 101,
    "start_time": "2024-03-29T08:18:05.820Z"
   },
   {
    "duration": 71,
    "start_time": "2024-03-29T08:18:10.367Z"
   },
   {
    "duration": 10,
    "start_time": "2024-03-29T08:18:29.292Z"
   },
   {
    "duration": 18,
    "start_time": "2024-03-29T08:20:04.466Z"
   },
   {
    "duration": 11,
    "start_time": "2024-03-29T09:04:58.187Z"
   },
   {
    "duration": 85,
    "start_time": "2024-03-29T09:06:33.090Z"
   },
   {
    "duration": 153,
    "start_time": "2024-03-29T09:06:41.239Z"
   },
   {
    "duration": 151,
    "start_time": "2024-03-29T09:06:42.988Z"
   },
   {
    "duration": 7,
    "start_time": "2024-03-29T09:08:21.939Z"
   },
   {
    "duration": 8,
    "start_time": "2024-03-29T09:08:26.114Z"
   },
   {
    "duration": 11,
    "start_time": "2024-03-29T09:10:04.782Z"
   },
   {
    "duration": 3,
    "start_time": "2024-03-29T09:11:23.753Z"
   },
   {
    "duration": 11,
    "start_time": "2024-03-29T09:11:37.016Z"
   },
   {
    "duration": 1329,
    "start_time": "2024-03-29T09:13:55.977Z"
   },
   {
    "duration": 68,
    "start_time": "2024-03-29T09:13:57.308Z"
   },
   {
    "duration": 12,
    "start_time": "2024-03-29T09:13:57.378Z"
   },
   {
    "duration": 48,
    "start_time": "2024-03-29T09:13:57.392Z"
   },
   {
    "duration": 23,
    "start_time": "2024-03-29T09:13:57.441Z"
   },
   {
    "duration": 28,
    "start_time": "2024-03-29T09:13:57.465Z"
   },
   {
    "duration": 10,
    "start_time": "2024-03-29T09:13:57.494Z"
   },
   {
    "duration": 25,
    "start_time": "2024-03-29T09:13:57.506Z"
   },
   {
    "duration": 15,
    "start_time": "2024-03-29T09:13:57.533Z"
   },
   {
    "duration": 5,
    "start_time": "2024-03-29T09:13:57.551Z"
   },
   {
    "duration": 19,
    "start_time": "2024-03-29T09:13:57.557Z"
   },
   {
    "duration": 9,
    "start_time": "2024-03-29T09:13:57.578Z"
   },
   {
    "duration": 21,
    "start_time": "2024-03-29T09:13:57.588Z"
   },
   {
    "duration": 24,
    "start_time": "2024-03-29T09:13:57.611Z"
   },
   {
    "duration": 15,
    "start_time": "2024-03-29T09:13:57.637Z"
   },
   {
    "duration": 17,
    "start_time": "2024-03-29T09:13:57.653Z"
   },
   {
    "duration": 14,
    "start_time": "2024-03-29T09:13:57.671Z"
   },
   {
    "duration": 163,
    "start_time": "2024-03-29T09:13:57.686Z"
   },
   {
    "duration": 5,
    "start_time": "2024-03-29T09:13:57.851Z"
   },
   {
    "duration": 110,
    "start_time": "2024-03-29T09:13:57.858Z"
   },
   {
    "duration": 166,
    "start_time": "2024-03-29T09:13:57.970Z"
   },
   {
    "duration": 7,
    "start_time": "2024-03-29T09:13:58.138Z"
   },
   {
    "duration": 129,
    "start_time": "2024-03-29T09:13:58.147Z"
   },
   {
    "duration": 16,
    "start_time": "2024-03-29T09:13:58.277Z"
   },
   {
    "duration": 122,
    "start_time": "2024-03-29T09:13:58.294Z"
   },
   {
    "duration": 7,
    "start_time": "2024-03-29T09:13:58.418Z"
   },
   {
    "duration": 11,
    "start_time": "2024-03-29T09:13:58.426Z"
   },
   {
    "duration": 10,
    "start_time": "2024-03-29T09:13:58.440Z"
   },
   {
    "duration": 12,
    "start_time": "2024-03-29T09:13:58.452Z"
   },
   {
    "duration": 31,
    "start_time": "2024-03-29T09:13:58.465Z"
   },
   {
    "duration": 20,
    "start_time": "2024-03-29T09:13:58.497Z"
   },
   {
    "duration": 18,
    "start_time": "2024-03-29T09:13:58.519Z"
   },
   {
    "duration": 16,
    "start_time": "2024-03-29T09:13:58.538Z"
   },
   {
    "duration": 205,
    "start_time": "2024-03-29T09:13:58.556Z"
   },
   {
    "duration": 210,
    "start_time": "2024-03-29T09:13:58.762Z"
   },
   {
    "duration": 435,
    "start_time": "2024-03-29T09:13:58.974Z"
   },
   {
    "duration": 969,
    "start_time": "2024-03-29T09:13:59.410Z"
   },
   {
    "duration": 3,
    "start_time": "2024-03-29T09:14:00.381Z"
   },
   {
    "duration": 71,
    "start_time": "2024-03-29T09:14:00.388Z"
   },
   {
    "duration": 89,
    "start_time": "2024-03-29T09:14:00.461Z"
   },
   {
    "duration": 55,
    "start_time": "2024-03-29T09:14:00.552Z"
   },
   {
    "duration": 182,
    "start_time": "2024-03-29T09:14:00.609Z"
   },
   {
    "duration": 11,
    "start_time": "2024-03-29T09:14:00.793Z"
   },
   {
    "duration": 147,
    "start_time": "2024-03-29T09:14:00.806Z"
   },
   {
    "duration": 67,
    "start_time": "2024-03-29T09:14:00.955Z"
   },
   {
    "duration": 52,
    "start_time": "2024-03-29T09:14:01.024Z"
   },
   {
    "duration": 73,
    "start_time": "2024-03-29T09:14:01.078Z"
   },
   {
    "duration": 144,
    "start_time": "2024-03-29T09:17:41.498Z"
   },
   {
    "duration": 1478,
    "start_time": "2024-03-29T09:17:47.750Z"
   },
   {
    "duration": 1522,
    "start_time": "2024-03-29T09:17:49.836Z"
   },
   {
    "duration": 181,
    "start_time": "2024-03-29T09:17:56.913Z"
   },
   {
    "duration": 278,
    "start_time": "2024-03-29T09:18:17.811Z"
   },
   {
    "duration": 15,
    "start_time": "2024-03-29T09:19:43.119Z"
   },
   {
    "duration": 15,
    "start_time": "2024-03-29T09:19:53.318Z"
   },
   {
    "duration": 15,
    "start_time": "2024-03-29T09:19:59.980Z"
   },
   {
    "duration": 11,
    "start_time": "2024-03-29T09:20:22.827Z"
   },
   {
    "duration": 11,
    "start_time": "2024-03-29T09:20:26.091Z"
   },
   {
    "duration": 151,
    "start_time": "2024-03-29T09:20:55.869Z"
   },
   {
    "duration": 1318,
    "start_time": "2024-03-29T09:22:13.783Z"
   },
   {
    "duration": 69,
    "start_time": "2024-03-29T09:22:15.103Z"
   },
   {
    "duration": 12,
    "start_time": "2024-03-29T09:22:15.174Z"
   },
   {
    "duration": 49,
    "start_time": "2024-03-29T09:22:15.188Z"
   },
   {
    "duration": 40,
    "start_time": "2024-03-29T09:22:15.239Z"
   },
   {
    "duration": 34,
    "start_time": "2024-03-29T09:22:15.281Z"
   },
   {
    "duration": 52,
    "start_time": "2024-03-29T09:22:15.317Z"
   },
   {
    "duration": 28,
    "start_time": "2024-03-29T09:22:15.371Z"
   },
   {
    "duration": 36,
    "start_time": "2024-03-29T09:22:15.401Z"
   },
   {
    "duration": 21,
    "start_time": "2024-03-29T09:22:15.440Z"
   },
   {
    "duration": 12,
    "start_time": "2024-03-29T09:22:15.462Z"
   },
   {
    "duration": 13,
    "start_time": "2024-03-29T09:22:15.475Z"
   },
   {
    "duration": 13,
    "start_time": "2024-03-29T09:22:15.490Z"
   },
   {
    "duration": 11,
    "start_time": "2024-03-29T09:22:15.504Z"
   },
   {
    "duration": 33,
    "start_time": "2024-03-29T09:22:15.516Z"
   },
   {
    "duration": 16,
    "start_time": "2024-03-29T09:22:15.551Z"
   },
   {
    "duration": 48,
    "start_time": "2024-03-29T09:22:15.568Z"
   },
   {
    "duration": 185,
    "start_time": "2024-03-29T09:22:15.618Z"
   },
   {
    "duration": 6,
    "start_time": "2024-03-29T09:22:15.804Z"
   },
   {
    "duration": 109,
    "start_time": "2024-03-29T09:22:15.811Z"
   },
   {
    "duration": 167,
    "start_time": "2024-03-29T09:22:15.922Z"
   },
   {
    "duration": 9,
    "start_time": "2024-03-29T09:22:16.091Z"
   },
   {
    "duration": 130,
    "start_time": "2024-03-29T09:22:16.101Z"
   },
   {
    "duration": 9,
    "start_time": "2024-03-29T09:22:16.233Z"
   },
   {
    "duration": 116,
    "start_time": "2024-03-29T09:22:16.244Z"
   },
   {
    "duration": 9,
    "start_time": "2024-03-29T09:22:16.361Z"
   },
   {
    "duration": 24,
    "start_time": "2024-03-29T09:22:16.372Z"
   },
   {
    "duration": 11,
    "start_time": "2024-03-29T09:22:16.400Z"
   },
   {
    "duration": 14,
    "start_time": "2024-03-29T09:22:16.413Z"
   },
   {
    "duration": 30,
    "start_time": "2024-03-29T09:22:16.429Z"
   },
   {
    "duration": 20,
    "start_time": "2024-03-29T09:22:16.461Z"
   },
   {
    "duration": 17,
    "start_time": "2024-03-29T09:22:16.482Z"
   },
   {
    "duration": 53,
    "start_time": "2024-03-29T09:22:16.500Z"
   },
   {
    "duration": 232,
    "start_time": "2024-03-29T09:22:16.555Z"
   },
   {
    "duration": 198,
    "start_time": "2024-03-29T09:22:16.789Z"
   },
   {
    "duration": 422,
    "start_time": "2024-03-29T09:22:16.989Z"
   },
   {
    "duration": 952,
    "start_time": "2024-03-29T09:22:17.413Z"
   },
   {
    "duration": 3,
    "start_time": "2024-03-29T09:22:18.366Z"
   },
   {
    "duration": 10,
    "start_time": "2024-03-29T09:22:18.387Z"
   },
   {
    "duration": 11,
    "start_time": "2024-03-29T09:22:18.399Z"
   },
   {
    "duration": 9,
    "start_time": "2024-03-29T09:22:18.411Z"
   },
   {
    "duration": 162,
    "start_time": "2024-03-29T09:22:18.422Z"
   },
   {
    "duration": 11,
    "start_time": "2024-03-29T09:22:18.586Z"
   },
   {
    "duration": 15,
    "start_time": "2024-03-29T09:22:18.603Z"
   },
   {
    "duration": 8,
    "start_time": "2024-03-29T09:22:18.619Z"
   },
   {
    "duration": 8,
    "start_time": "2024-03-29T09:22:18.629Z"
   },
   {
    "duration": 24,
    "start_time": "2024-03-29T09:22:18.638Z"
   }
  ],
  "kernelspec": {
   "display_name": "Python 3 (ipykernel)",
   "language": "python",
   "name": "python3"
  },
  "language_info": {
   "codemirror_mode": {
    "name": "ipython",
    "version": 3
   },
   "file_extension": ".py",
   "mimetype": "text/x-python",
   "name": "python",
   "nbconvert_exporter": "python",
   "pygments_lexer": "ipython3",
   "version": "3.9.5"
  },
  "toc": {
   "base_numbering": 1,
   "nav_menu": {},
   "number_sections": true,
   "sideBar": true,
   "skip_h1_title": true,
   "title_cell": "Table of Contents",
   "title_sidebar": "Contents",
   "toc_cell": false,
   "toc_position": {},
   "toc_section_display": true,
   "toc_window_display": false
  }
 },
 "nbformat": 4,
 "nbformat_minor": 5
}
