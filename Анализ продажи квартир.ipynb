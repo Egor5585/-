{
 "cells": [
  {
   "cell_type": "markdown",
   "id": "e3a47594",
   "metadata": {},
   "source": [
    "# Исследование объявлений о продаже квартир\n",
    "\n",
    "В вашем распоряжении данные сервиса Яндекс Недвижимость — архив объявлений о продаже квартир в Санкт-Петербурге и соседних населённых пунктах за несколько лет. Вам нужно научиться определять рыночную стоимость объектов недвижимости. Для этого проведите исследовательский анализ данных и установите параметры, влияющие на цену объектов. Это позволит построить автоматизированную систему: она отследит аномалии и мошенническую деятельность.\n",
    "\n",
    "По каждой квартире на продажу доступны два вида данных. Первые вписаны пользователем, вторые — получены автоматически на основе картографических данных. Например, расстояние до центра, аэропорта и других объектов — эти данные автоматически получены из геосервисов. Количество парков и водоёмов также заполняется без участия пользователя."
   ]
  },
  {
   "cell_type": "markdown",
   "id": "40cf6b52",
   "metadata": {},
   "source": [
    "## 1. Откройте файл с данными и изучите общую информацию"
   ]
  },
  {
   "cell_type": "code",
   "execution_count": 1,
   "id": "38038867",
   "metadata": {},
   "outputs": [],
   "source": [
    "import pandas as pd\n",
    "import matplotlib.pyplot as plt\n",
    "import seaborn as sns"
   ]
  },
  {
   "cell_type": "code",
   "execution_count": 2,
   "id": "1f2011b9",
   "metadata": {},
   "outputs": [
    {
     "data": {
      "text/html": [
       "<div>\n",
       "<style scoped>\n",
       "    .dataframe tbody tr th:only-of-type {\n",
       "        vertical-align: middle;\n",
       "    }\n",
       "\n",
       "    .dataframe tbody tr th {\n",
       "        vertical-align: top;\n",
       "    }\n",
       "\n",
       "    .dataframe thead th {\n",
       "        text-align: right;\n",
       "    }\n",
       "</style>\n",
       "<table border=\"1\" class=\"dataframe\">\n",
       "  <thead>\n",
       "    <tr style=\"text-align: right;\">\n",
       "      <th></th>\n",
       "      <th>total_images</th>\n",
       "      <th>last_price</th>\n",
       "      <th>total_area</th>\n",
       "      <th>first_day_exposition</th>\n",
       "      <th>rooms</th>\n",
       "      <th>ceiling_height</th>\n",
       "      <th>floors_total</th>\n",
       "      <th>living_area</th>\n",
       "      <th>floor</th>\n",
       "      <th>is_apartment</th>\n",
       "      <th>...</th>\n",
       "      <th>kitchen_area</th>\n",
       "      <th>balcony</th>\n",
       "      <th>locality_name</th>\n",
       "      <th>airports_nearest</th>\n",
       "      <th>cityCenters_nearest</th>\n",
       "      <th>parks_around3000</th>\n",
       "      <th>parks_nearest</th>\n",
       "      <th>ponds_around3000</th>\n",
       "      <th>ponds_nearest</th>\n",
       "      <th>days_exposition</th>\n",
       "    </tr>\n",
       "  </thead>\n",
       "  <tbody>\n",
       "    <tr>\n",
       "      <th>0</th>\n",
       "      <td>20</td>\n",
       "      <td>13000000.0</td>\n",
       "      <td>108.0</td>\n",
       "      <td>2019-03-07T00:00:00</td>\n",
       "      <td>3</td>\n",
       "      <td>2.70</td>\n",
       "      <td>16.0</td>\n",
       "      <td>51.0</td>\n",
       "      <td>8</td>\n",
       "      <td>NaN</td>\n",
       "      <td>...</td>\n",
       "      <td>25.0</td>\n",
       "      <td>NaN</td>\n",
       "      <td>Санкт-Петербург</td>\n",
       "      <td>18863.0</td>\n",
       "      <td>16028.0</td>\n",
       "      <td>1.0</td>\n",
       "      <td>482.0</td>\n",
       "      <td>2.0</td>\n",
       "      <td>755.0</td>\n",
       "      <td>NaN</td>\n",
       "    </tr>\n",
       "    <tr>\n",
       "      <th>1</th>\n",
       "      <td>7</td>\n",
       "      <td>3350000.0</td>\n",
       "      <td>40.4</td>\n",
       "      <td>2018-12-04T00:00:00</td>\n",
       "      <td>1</td>\n",
       "      <td>NaN</td>\n",
       "      <td>11.0</td>\n",
       "      <td>18.6</td>\n",
       "      <td>1</td>\n",
       "      <td>NaN</td>\n",
       "      <td>...</td>\n",
       "      <td>11.0</td>\n",
       "      <td>2.0</td>\n",
       "      <td>посёлок Шушары</td>\n",
       "      <td>12817.0</td>\n",
       "      <td>18603.0</td>\n",
       "      <td>0.0</td>\n",
       "      <td>NaN</td>\n",
       "      <td>0.0</td>\n",
       "      <td>NaN</td>\n",
       "      <td>81.0</td>\n",
       "    </tr>\n",
       "    <tr>\n",
       "      <th>2</th>\n",
       "      <td>10</td>\n",
       "      <td>5196000.0</td>\n",
       "      <td>56.0</td>\n",
       "      <td>2015-08-20T00:00:00</td>\n",
       "      <td>2</td>\n",
       "      <td>NaN</td>\n",
       "      <td>5.0</td>\n",
       "      <td>34.3</td>\n",
       "      <td>4</td>\n",
       "      <td>NaN</td>\n",
       "      <td>...</td>\n",
       "      <td>8.3</td>\n",
       "      <td>0.0</td>\n",
       "      <td>Санкт-Петербург</td>\n",
       "      <td>21741.0</td>\n",
       "      <td>13933.0</td>\n",
       "      <td>1.0</td>\n",
       "      <td>90.0</td>\n",
       "      <td>2.0</td>\n",
       "      <td>574.0</td>\n",
       "      <td>558.0</td>\n",
       "    </tr>\n",
       "    <tr>\n",
       "      <th>3</th>\n",
       "      <td>0</td>\n",
       "      <td>64900000.0</td>\n",
       "      <td>159.0</td>\n",
       "      <td>2015-07-24T00:00:00</td>\n",
       "      <td>3</td>\n",
       "      <td>NaN</td>\n",
       "      <td>14.0</td>\n",
       "      <td>NaN</td>\n",
       "      <td>9</td>\n",
       "      <td>NaN</td>\n",
       "      <td>...</td>\n",
       "      <td>NaN</td>\n",
       "      <td>0.0</td>\n",
       "      <td>Санкт-Петербург</td>\n",
       "      <td>28098.0</td>\n",
       "      <td>6800.0</td>\n",
       "      <td>2.0</td>\n",
       "      <td>84.0</td>\n",
       "      <td>3.0</td>\n",
       "      <td>234.0</td>\n",
       "      <td>424.0</td>\n",
       "    </tr>\n",
       "    <tr>\n",
       "      <th>4</th>\n",
       "      <td>2</td>\n",
       "      <td>10000000.0</td>\n",
       "      <td>100.0</td>\n",
       "      <td>2018-06-19T00:00:00</td>\n",
       "      <td>2</td>\n",
       "      <td>3.03</td>\n",
       "      <td>14.0</td>\n",
       "      <td>32.0</td>\n",
       "      <td>13</td>\n",
       "      <td>NaN</td>\n",
       "      <td>...</td>\n",
       "      <td>41.0</td>\n",
       "      <td>NaN</td>\n",
       "      <td>Санкт-Петербург</td>\n",
       "      <td>31856.0</td>\n",
       "      <td>8098.0</td>\n",
       "      <td>2.0</td>\n",
       "      <td>112.0</td>\n",
       "      <td>1.0</td>\n",
       "      <td>48.0</td>\n",
       "      <td>121.0</td>\n",
       "    </tr>\n",
       "  </tbody>\n",
       "</table>\n",
       "<p>5 rows × 22 columns</p>\n",
       "</div>"
      ],
      "text/plain": [
       "   total_images  last_price  total_area first_day_exposition  rooms  \\\n",
       "0            20  13000000.0       108.0  2019-03-07T00:00:00      3   \n",
       "1             7   3350000.0        40.4  2018-12-04T00:00:00      1   \n",
       "2            10   5196000.0        56.0  2015-08-20T00:00:00      2   \n",
       "3             0  64900000.0       159.0  2015-07-24T00:00:00      3   \n",
       "4             2  10000000.0       100.0  2018-06-19T00:00:00      2   \n",
       "\n",
       "   ceiling_height  floors_total  living_area  floor is_apartment  ...  \\\n",
       "0            2.70          16.0         51.0      8          NaN  ...   \n",
       "1             NaN          11.0         18.6      1          NaN  ...   \n",
       "2             NaN           5.0         34.3      4          NaN  ...   \n",
       "3             NaN          14.0          NaN      9          NaN  ...   \n",
       "4            3.03          14.0         32.0     13          NaN  ...   \n",
       "\n",
       "   kitchen_area  balcony    locality_name  airports_nearest  \\\n",
       "0          25.0      NaN  Санкт-Петербург           18863.0   \n",
       "1          11.0      2.0   посёлок Шушары           12817.0   \n",
       "2           8.3      0.0  Санкт-Петербург           21741.0   \n",
       "3           NaN      0.0  Санкт-Петербург           28098.0   \n",
       "4          41.0      NaN  Санкт-Петербург           31856.0   \n",
       "\n",
       "  cityCenters_nearest  parks_around3000  parks_nearest  ponds_around3000  \\\n",
       "0             16028.0               1.0          482.0               2.0   \n",
       "1             18603.0               0.0            NaN               0.0   \n",
       "2             13933.0               1.0           90.0               2.0   \n",
       "3              6800.0               2.0           84.0               3.0   \n",
       "4              8098.0               2.0          112.0               1.0   \n",
       "\n",
       "   ponds_nearest  days_exposition  \n",
       "0          755.0              NaN  \n",
       "1            NaN             81.0  \n",
       "2          574.0            558.0  \n",
       "3          234.0            424.0  \n",
       "4           48.0            121.0  \n",
       "\n",
       "[5 rows x 22 columns]"
      ]
     },
     "execution_count": 2,
     "metadata": {},
     "output_type": "execute_result"
    }
   ],
   "source": [
    "try:\n",
    "    df = pd.read_csv('C:/Users/111/Desktop/real_estate_data.csv', sep='\\t') # прочитаем файл с разделителем \"\\t\"\n",
    "except:\n",
    "    df = pd.read_csv('https://code.s3.yandex.net/datasets/real_estate_data.csv',  sep='\\t')\n",
    "    \n",
    "df.head()#выведем на экран первые 5 строк "
   ]
  },
  {
   "cell_type": "code",
   "execution_count": 3,
   "id": "c24c5846",
   "metadata": {
    "scrolled": false
   },
   "outputs": [
    {
     "name": "stdout",
     "output_type": "stream",
     "text": [
      "<class 'pandas.core.frame.DataFrame'>\n",
      "RangeIndex: 23699 entries, 0 to 23698\n",
      "Data columns (total 22 columns):\n",
      " #   Column                Non-Null Count  Dtype  \n",
      "---  ------                --------------  -----  \n",
      " 0   total_images          23699 non-null  int64  \n",
      " 1   last_price            23699 non-null  float64\n",
      " 2   total_area            23699 non-null  float64\n",
      " 3   first_day_exposition  23699 non-null  object \n",
      " 4   rooms                 23699 non-null  int64  \n",
      " 5   ceiling_height        14504 non-null  float64\n",
      " 6   floors_total          23613 non-null  float64\n",
      " 7   living_area           21796 non-null  float64\n",
      " 8   floor                 23699 non-null  int64  \n",
      " 9   is_apartment          2775 non-null   object \n",
      " 10  studio                23699 non-null  bool   \n",
      " 11  open_plan             23699 non-null  bool   \n",
      " 12  kitchen_area          21421 non-null  float64\n",
      " 13  balcony               12180 non-null  float64\n",
      " 14  locality_name         23650 non-null  object \n",
      " 15  airports_nearest      18157 non-null  float64\n",
      " 16  cityCenters_nearest   18180 non-null  float64\n",
      " 17  parks_around3000      18181 non-null  float64\n",
      " 18  parks_nearest         8079 non-null   float64\n",
      " 19  ponds_around3000      18181 non-null  float64\n",
      " 20  ponds_nearest         9110 non-null   float64\n",
      " 21  days_exposition       20518 non-null  float64\n",
      "dtypes: bool(2), float64(14), int64(3), object(3)\n",
      "memory usage: 3.7+ MB\n"
     ]
    }
   ],
   "source": [
    "df.info()#откроем информацию о датасете."
   ]
  },
  {
   "cell_type": "code",
   "execution_count": 4,
   "id": "2063d52d",
   "metadata": {},
   "outputs": [
    {
     "data": {
      "text/plain": [
       "0"
      ]
     },
     "execution_count": 4,
     "metadata": {},
     "output_type": "execute_result"
    }
   ],
   "source": [
    "df.duplicated().sum()# получим информацию о явных дубликатах"
   ]
  },
  {
   "cell_type": "code",
   "execution_count": 5,
   "id": "42bb46b5",
   "metadata": {},
   "outputs": [
    {
     "data": {
      "image/png": "[encoded data removed]",
      "text/plain": [
       "<Figure size 1080x1440 with 20 Axes>"
      ]
     },
     "metadata": {
      "needs_background": "light"
     },
     "output_type": "display_data"
    }
   ],
   "source": [
    "#строим гистограмму для всх числовых столбцов\n",
    "df.hist(figsize=(15, 20))\n",
    "plt.show()"
   ]
  },
  {
   "cell_type": "markdown",
   "id": "1d42f0aa",
   "metadata": {},
   "source": [
    "***Вывод***\n",
    "\n",
    "\n",
    "Всего у нас 23699 записи. Для целого ряда столбцов есть пропущенные значения и некорректный тип данных. По ряду признаков присутствуют аномальные значения\n",
    "\n",
    "Данные пригодны для работы."
   ]
  },
  {
   "cell_type": "markdown",
   "id": "74887254",
   "metadata": {},
   "source": [
    "## 2. Предобработка данных "
   ]
  },
  {
   "cell_type": "code",
   "execution_count": 6,
   "id": "038eae5b",
   "metadata": {},
   "outputs": [],
   "source": [
    "# приводим значение last_price в  целочисленный \n",
    "df['last_price'] = df['last_price'].astype(int)\n",
    "# меняем тип даты в столбце first_day_exposition\n",
    "df['first_day_exposition'] = pd.to_datetime(df['first_day_exposition'], format='%Y-%m-%dT%H:%M:%S')\n",
    "# в столбце is_apartment указано является квартира апартаментами или нет True-явлется, False-не апартаменты.\n",
    "# NaN в этом столбце могло появиться из-за того, что пользователь мог не указать этот пораметр потому, что квартира не апартаменты.\n",
    "#заменим пропущеные значения на False \n",
    "df['is_apartment'] = df['is_apartment'].fillna(value=False)\n",
    "# приводим в целочисленный тип количество балконов. Заменяем пропущенные значения на 0\n",
    "# скорее всего пропуски в этом столце вызваны отсутствием балкона\n",
    "df['balcony'] = df['balcony'].fillna(value=0).astype(int)\n",
    "# приводим в целочисленный тип количество парков. Заменяем пропущенные значения на 0\n",
    "# пропущеное значение скорее всего говорит об отсутствии парков поблизости \n",
    "df['parks_around3000'] = df['parks_around3000'].fillna(value=0).astype(int)\n",
    "# Приводим в целочисленный тип количество прудов. Заменяем пропущенные значения на 0\n",
    "# пропущеное значение скорее всего говорит об отсутствии водоемов поблизости \n",
    "df['ponds_around3000'] = df['ponds_around3000'].fillna(value=0).astype(int)\n"
   ]
  },
  {
   "cell_type": "code",
   "execution_count": 7,
   "id": "d0f9ab7d",
   "metadata": {
    "scrolled": false
   },
   "outputs": [
    {
     "data": {
      "text/plain": [
       "total_images                0\n",
       "last_price                  0\n",
       "total_area                  0\n",
       "first_day_exposition        0\n",
       "rooms                       0\n",
       "ceiling_height           9195\n",
       "floors_total               86\n",
       "living_area              1903\n",
       "floor                       0\n",
       "is_apartment                0\n",
       "studio                      0\n",
       "open_plan                   0\n",
       "kitchen_area             2278\n",
       "balcony                     0\n",
       "locality_name              49\n",
       "airports_nearest         5542\n",
       "cityCenters_nearest      5519\n",
       "parks_around3000            0\n",
       "parks_nearest           15620\n",
       "ponds_around3000            0\n",
       "ponds_nearest           14589\n",
       "days_exposition          3181\n",
       "dtype: int64"
      ]
     },
     "execution_count": 7,
     "metadata": {},
     "output_type": "execute_result"
    }
   ],
   "source": [
    "df.isnull().sum()# проверяем колличество пропущеных значений "
   ]
  },
  {
   "cell_type": "markdown",
   "id": "d83c64dd",
   "metadata": {},
   "source": [
    "<div class=\"alert alert-block alert-warning\">\n",
    "\n",
    "**Комментарий ревьювера (что можно улучшить)**\n",
    "    \n",
    "Лучше сначала изучить пропуски, определить возможную причину их появления и только потом выполнять восстановление.    \n",
    "\n",
    "</div>"
   ]
  },
  {
   "cell_type": "code",
   "execution_count": 8,
   "id": "c65205f6",
   "metadata": {},
   "outputs": [],
   "source": [
    "# Удаляем записи, где отсутствует локация и этажность\n",
    "# Так как если заполнить эти данные медианным значением, это может исказить иследование floors_total=86, locality_name = 49          \n",
    "df.dropna(subset=['locality_name'], inplace=True)\n",
    "df.dropna(subset=['floors_total'], inplace=True)\n",
    "\n",
    "# Приводим этажность к целочисленному типу\n",
    "df['floors_total'] = df['floors_total'].astype(int)"
   ]
  },
  {
   "cell_type": "markdown",
   "id": "85d263d0",
   "metadata": {},
   "source": [
    "В столбце ***ceiling_height*** 9195 пропущенных значенией, это может существенно повлиять на дальнейшее иследование, поэтому заполним пропуски медианным значением."
   ]
  },
  {
   "cell_type": "code",
   "execution_count": 9,
   "id": "587d9ead",
   "metadata": {},
   "outputs": [],
   "source": [
    "#заменяем значения высоты потолков на медианное значение\n",
    "df['ceiling_height'] = df['ceiling_height'].fillna(df['ceiling_height'].median())"
   ]
  },
  {
   "cell_type": "markdown",
   "id": "6afd6467",
   "metadata": {},
   "source": []
  },
  {
   "cell_type": "markdown",
   "id": "844428bd",
   "metadata": {},
   "source": [
    "Переходим к значению ***жилой площади***(living_area) и ***(площади кухни***((kitchen_area). Эти данные нам еще пригодятся для анализа, поэтому заполним провуски:\n",
    "\n",
    "living_area - ***жилая площадь.***\n",
    "\n",
    "Находится как разница между ***общей площадью*** (total_area) и площадью коридора, кухни, сан. узла, балкона и тд)\n",
    "\n",
    "kitchen_area - ***площадь кухни***\n",
    "\n",
    "\n",
    "Жилую площади можно найти путем: \n",
    "\n",
    "1) найдем отношение медианой жилой площади и медианной общей площади. Таким образом у нас появится коэфициент (K)\n",
    "2) Этот коэфициент умножим на на общую площать\n",
    "\n",
    "Площади кухни находим индентично жилой площади \n",
    "\n",
    "kk- коэфициент площади кухни от общей площади \n"
   ]
  },
  {
   "cell_type": "code",
   "execution_count": 10,
   "id": "0a195e78",
   "metadata": {},
   "outputs": [],
   "source": [
    "# Заменяем пустые значения жилой площади и площади кухни\n",
    "living_k = df['living_area'].mean() / df['total_area'].mean() # вычисляем коэф.жилой площади\n",
    "kitchen_kk = df['kitchen_area'].mean() / df['total_area'].mean() #вычисляем коэф.кухни\n",
    "df['living_area'].fillna(living_k * df['total_area'], inplace=True)\n",
    "df['kitchen_area'].fillna(kitchen_kk * df['total_area'], inplace=True)\n"
   ]
  },
  {
   "cell_type": "code",
   "execution_count": 11,
   "id": "b700f211",
   "metadata": {},
   "outputs": [
    {
     "data": {
      "text/plain": [
       "total_images                0\n",
       "last_price                  0\n",
       "total_area                  0\n",
       "first_day_exposition        0\n",
       "rooms                       0\n",
       "ceiling_height              0\n",
       "floors_total                0\n",
       "living_area                 0\n",
       "floor                       0\n",
       "is_apartment                0\n",
       "studio                      0\n",
       "open_plan                   0\n",
       "kitchen_area                0\n",
       "balcony                     0\n",
       "locality_name               0\n",
       "airports_nearest         5524\n",
       "cityCenters_nearest      5501\n",
       "parks_around3000            0\n",
       "parks_nearest           15535\n",
       "ponds_around3000            0\n",
       "ponds_nearest           14529\n",
       "days_exposition          3171\n",
       "dtype: int64"
      ]
     },
     "execution_count": 11,
     "metadata": {},
     "output_type": "execute_result"
    }
   ],
   "source": [
    "# Проверяем количество пропущенных значений\n",
    "df.isnull().sum()"
   ]
  },
  {
   "cell_type": "markdown",
   "id": "8c86d59f",
   "metadata": {},
   "source": [
    "Так же замением название столбца cityCenters_nearest, на city_сenters_nearest\n",
    "\n"
   ]
  },
  {
   "cell_type": "code",
   "execution_count": 12,
   "id": "563596a4",
   "metadata": {},
   "outputs": [],
   "source": [
    "# меняем название столбца cityCenters_nearest на city_сenters_nearest\n",
    "df.rename(columns = {'cityCenters_nearest':'city_centers_nearest'}, inplace = True )"
   ]
  },
  {
   "cell_type": "markdown",
   "id": "9b63b39f",
   "metadata": {},
   "source": [
    "Провверим местоположение квартиры (locality_name) и заменим неявные дубликаты.\n",
    "\n",
    "Поменеяем букву ё на букву е\n",
    "\n",
    "А так же уберем из названия уточнение местоположения, таких как \"поселок\", \"село\" и тд.\n",
    "\n",
    "А пропуски заполняем \"неизвестно\", так как нет возможности указать местоположение квартиры\n",
    "\n"
   ]
  },
  {
   "cell_type": "code",
   "execution_count": 13,
   "id": "3310f9da",
   "metadata": {},
   "outputs": [
    {
     "data": {
      "text/plain": [
       "array(['санкт-петербург', 'шушары', 'городской янино-1', 'парголово',\n",
       "       'мурино', 'ломоносов', 'сертолово', 'петергоф', 'пушкин',\n",
       "       'кудрово', 'коммунар', 'колпино', 'красный бор', 'гатчина',\n",
       "       'федоровское', 'выборг', 'кронштадт', 'кировск', 'новое девяткино',\n",
       "       'металлострой', 'лебяжье', 'сиверский', 'молодцово',\n",
       "       'кузьмоловский', 'новая ропша', 'павловск', 'пикколово',\n",
       "       'всеволожск', 'волхов', 'кингисепп', 'приозерск', 'сестрорецк',\n",
       "       'куттузи', 'аннино', 'ефимовский', 'плодовое', 'заклинье',\n",
       "       'торковичи', 'первомайское', 'красное село', 'понтонный',\n",
       "       'сясьстрой', 'старая', 'лесколово', 'новый свет', 'сланцы',\n",
       "       'путилово', 'ивангород', 'шлиссельбург', 'никольское',\n",
       "       'зеленогорск', 'сосновый бор', 'оржицы', 'кальтино', 'романовка',\n",
       "       'бугры', 'рощино', 'кириши', 'луга', 'волосово', 'отрадное',\n",
       "       'павлово', 'оредеж', 'копорье', 'молодежное', 'тихвин', 'победа',\n",
       "       'нурма', 'синявино', 'тосно', 'стрельна', 'бокситогорск',\n",
       "       'александровская', 'лопухинка', 'пикалево', 'терволово',\n",
       "       'советский', 'подпорожье', 'петровское', 'токсово', 'сельцо',\n",
       "       'вырица', 'кипень', 'келози', 'вартемяги', 'тельмана',\n",
       "       'севастьяново', 'городской большая ижора', 'городской павлово',\n",
       "       'агалатово', 'новогорелово', 'городской лесогорский', 'лаголово',\n",
       "       'цвелодубово', 'рахья', 'белогорка', 'заводской',\n",
       "       'городской новоселье', 'большие колпаны', 'горбунки', 'батово',\n",
       "       'заневка', 'иссад', 'приморск', 'городской федоровское',\n",
       "       'мистолово', 'новая ладога', 'зимитицы', 'барышево', 'разметелево',\n",
       "       'имени свердлова', 'пеники', 'рябово', 'пудомяги', 'корнево',\n",
       "       'низино', 'бегуницы', 'поляны', 'городской мга', 'елизаветино',\n",
       "       'кузнечное', 'колтуши', 'запорожское', 'гостилицы',\n",
       "       'малое карлино', 'мичуринское', 'имени морозова', 'песочный',\n",
       "       'сосново', 'аро', 'ильичево', 'тайцы', 'малое верево', 'извара',\n",
       "       'вещево', 'паша', 'калитино', 'ульяновка', 'чудской бор',\n",
       "       'дубровка', 'мины', 'войсковицы', 'коркино', 'ропша',\n",
       "       'приладожский', 'щеглово', 'гаврилово', 'лодейное поле',\n",
       "       'рабитицы', 'никольский', 'кузьмолово', 'малые колпаны',\n",
       "       'петро-славянка', 'городской назия', 'репино', 'углово',\n",
       "       'старая малукса', 'меньково', 'старые бегуницы', 'саперный',\n",
       "       'семрино', 'глажево', 'кобринское', 'гарболово', 'юкки',\n",
       "       'приветнинское', 'мануйлово', 'пчева', 'цвылево', 'мельниково',\n",
       "       'пудость', 'усть-луга', 'светогорск', 'любань', 'селезнево',\n",
       "       'каменногорск', 'кривко', 'глебычево', 'парицы', 'жилпоселок',\n",
       "       'мга', 'войскорово', 'стеклянный', 'важины', 'мыза-ивановка',\n",
       "       'русско-высоцкое', 'форносово', 'старая ладога', 'житково',\n",
       "       'городской виллози', 'лампово', 'шпаньково', 'лаврики', 'сумино',\n",
       "       'возрождение', 'старосиверская', 'кикерино', 'старое хинколово',\n",
       "       'пригородный', 'торфяное', 'городской будогощь', 'суходолье',\n",
       "       'красная долина', 'хапо-ое', 'дружная горка', 'лисий нос',\n",
       "       'яльгелево', 'рождествено', 'старополье', 'левашово', 'сяськелево',\n",
       "       'камышовка', 'лесная поляна', 'хязельки', 'жилгородок', 'ялгино',\n",
       "       'новый учхоз', 'городской рощино', 'гончарово', 'почап',\n",
       "       'саперное', '69-й километр', 'каложицы', 'фалилеево', 'пельгора',\n",
       "       'лесогорский', 'торошковичи', 'белоостров', 'алексеевка',\n",
       "       'серебрянский', 'лукаши', 'тарасово', 'кингисеппский', 'ушаки',\n",
       "       'котлы', 'сижно', 'торосово', 'форт красная горка', 'новолисино',\n",
       "       'громово', 'глинка', 'назия', 'старая пустошь', 'коммунары',\n",
       "       'починок', 'вознесенье', 'разбегаево', 'гладкое', 'тесово-4',\n",
       "       'бор', 'коробицыно', 'большая вруда', 'курковицы',\n",
       "       'городской советский', 'кобралово', 'суоранда', 'кондратьево',\n",
       "       'коттеджный счастье', 'реброво', 'тойворово', 'семиозерье',\n",
       "       'лесное', 'совхозный', 'ленинское', 'суйда', 'нижние осельки',\n",
       "       'свирь', 'перово', 'высоцк', 'шум', 'котельский', 'лужайка',\n",
       "       'большая пустомержа', 'красносельское', 'вахнова кара', 'пижма',\n",
       "       'коттеджный кивеннапа север', 'ромашки', 'каськово', 'куровицы',\n",
       "       'плоское', 'большая ижора', 'кирпичное', 'ям-тесово', 'раздолье',\n",
       "       'терпилицы', 'шугозеро', 'ваганово', 'пушное', 'садко',\n",
       "       'усть-ижора', 'выскатка', 'городской свирьстрой', 'кисельня',\n",
       "       'трубников бор', 'высокоключевой', 'зеленый бор', 'ненимяки',\n",
       "       'снегиревка', 'рапполово', 'пустынка', 'большой сабск', 'русско',\n",
       "       'лупполово', 'большое рейзино', 'малая романовка', 'дружноселье',\n",
       "       'пчевжа', 'володарское', 'нижняя', 'коттеджный лесное',\n",
       "       'тихковицы', 'борисова грива', 'дзержинского'], dtype=object)"
      ]
     },
     "execution_count": 13,
     "metadata": {},
     "output_type": "execute_result"
    }
   ],
   "source": [
    "df['locality_name'] = df['locality_name'].str.lower() #меняем все названия на строчные\n",
    "df['locality_name'] = (\n",
    "    df['locality_name']\n",
    "    .str.replace('ё','е')# меняем ё на е\n",
    "#пропуски в данном столбце лучше будет заменить на \"неизвестно\", так как нельзя точно определить район расположения!\n",
    "    .replace(['поселок ','при железнодорожной станции ', 'платформа ', 'садоводческое некоммерческое товарищество ',\n",
    "             'садовое товарищество ', 'станции ', 'село ', 'пансионат ', 'городского типа ',\n",
    "             'деревня ', 'городской поселок '], '', regex=True)# оставляем только общие значение местоположения квартиры \n",
    ")\n",
    "#пропуски в данном столбце лучше будет заменить на \"неизвестно\", так как нельзя точно определить район расположения!\n",
    "df['locality_name'] = df['locality_name'].fillna('неизвестно')\n",
    "df['locality_name'].unique()"
   ]
  },
  {
   "cell_type": "markdown",
   "id": "e34a674b",
   "metadata": {},
   "source": [
    "## Вывод\n",
    "\n"
   ]
  },
  {
   "cell_type": "markdown",
   "id": "2679cb8c",
   "metadata": {},
   "source": [
    "В процессе предобработки данных:\n",
    "\n",
    "Переименовали название столбца cityCenters_nearest на city_centers_nearest.\n",
    "\n",
    "Заполнили явные пропуски в таблице, а так же неявные дубликаты.\n",
    "\n",
    "Изменили тип данных, в соответствии с данными находяшимися в столбцах.\n",
    "\n",
    "\n",
    "\n",
    "Причины пропусков могли стать:\n",
    "\n",
    "-Человеческий фактор\n",
    "\n",
    "-Остутствие обязательных полей для заполнения внутри программы\n",
    "\n",
    "-Програмный сбой\n",
    "\n",
    "Это можно было бы избежать если каждая категория будет обязательной для заполнения. В этом случае по каждой квартире будет одинаково полный набор данных\n"
   ]
  },
  {
   "cell_type": "markdown",
   "id": "e9b1e6f3",
   "metadata": {},
   "source": [
    "## Рассчёты и добавление результатов в таблицу"
   ]
  },
  {
   "cell_type": "markdown",
   "id": "ce14f51a",
   "metadata": {},
   "source": [
    "Добавим в таблицу следующие столбцы :\n",
    "\n",
    "***Цена одного квадратного метра***\n",
    "\n",
    "Цена одного квадратного метра - это отношение общей площади к цене объекта \n",
    "\n",
    "***День недели публикации объявления*** \n",
    "\n",
    "Присвоем дню недели значение от 0-6\n",
    "\n",
    "(0 — понедельник, 1 — вторник и так далее)\n",
    "\n",
    "***Месяц публикации объявления***\n",
    "\n",
    "***Год публикации объявления***\n",
    "\n",
    "***Тип этажа квартиры***\n",
    "\n",
    "- Первый этаж обозначим как \"первый\"\n",
    "- последний обозначим как \"последний\"\n",
    "- остальные этажи запишим как \"другие\" \n",
    "\n",
    "***Расстояние до центра города в километрах***\n",
    "\n",
    "Переведем метры в километры."
   ]
  },
  {
   "cell_type": "code",
   "execution_count": 14,
   "id": "136eac31",
   "metadata": {},
   "outputs": [],
   "source": [
    "# Добавляем столбец со стоимостью квадратного метра (sm_price) и приводим его в целочисленный тип\n",
    "df['sm_price'] = df['last_price'] / df['total_area']\n",
    "df['sm_price'] = df['sm_price'].astype(int)\n",
    "\n",
    "# Добавляем столбцы дня недели, месяца и года\n",
    "df['weekday'] = df['first_day_exposition'].dt.weekday\n",
    "df['month'] = df['first_day_exposition'].dt.month\n",
    "df['year'] = df['first_day_exposition'].dt.year\n",
    "\n",
    "# Добавляем столбец с отношением жилой площади к общей (area_ratio), переводим в % и приводим его в целочисленный тип\n",
    "df['area_ratio'] = df['living_area'] / df['total_area'] * 100\n",
    "df['area_ratio'] = df['area_ratio'].fillna(value=0).astype(int)\n",
    "\n",
    "# Добавляем столбец с отношением площади кухни к общей (kitchen_ratio), переводим в % и приводим его в целочисленный тип\n",
    "df['kitchen_ratio'] = df['kitchen_area'] / df['total_area'] * 100\n",
    "df['kitchen_ratio'] = df['kitchen_ratio'].fillna(value=0).astype(int)\n",
    "\n",
    "# Создаём функцию для заполнения нового столбца с типом этажа\n",
    "def floor_group(row):\n",
    "    if row['floor'] == 1:\n",
    "        return 'первый'\n",
    "    elif row['floor'] == row['floors_total']:\n",
    "        return 'последний'\n",
    "    else:\n",
    "        return 'другой'\n",
    "df['floor_type'] = df.apply(floor_group, axis=1)\n",
    "\n",
    "#Переводим метры в километры в столбце, делим значение city_сenters_nearest на 1000.\n",
    "#Округлим до целого числа\n",
    "df['distans'] = (df['city_centers_nearest']/1000).round(0)# перезаписываем значение в столбец distans"
   ]
  },
  {
   "cell_type": "markdown",
   "id": "41dd2df9",
   "metadata": {},
   "source": [
    "## Исследовательский анализ данных"
   ]
  },
  {
   "cell_type": "markdown",
   "id": "611b82bd",
   "metadata": {},
   "source": [
    "### 1. Основные параметры"
   ]
  },
  {
   "cell_type": "markdown",
   "id": "467969e8",
   "metadata": {},
   "source": [
    "Изучим основыные параметры и построим отдельные гистограмы для каждого.\n",
    "\n",
    "Если в данных будут встреаться редкие выбивающиеся значения, то будем убирать их или заменять.\n",
    "\n",
    "Основыне параметры, для которых будет постоена гистограмма:\n",
    "- общая площадь;\n",
    "- жилая площадь;\n",
    "- площадь кухни;\n",
    "- цена объекта;\n",
    "- количество комнат;\n",
    "- высота потолков;\n",
    "- тип этажа квартиры («первый», «последний», «другой»);\n",
    "- общее количество этажей в доме;\n",
    "- расстояние до центра города в метрах;\n",
    "- расстояние до ближайшего парка"
   ]
  },
  {
   "cell_type": "code",
   "execution_count": 15,
   "id": "6f805887",
   "metadata": {
    "scrolled": true
   },
   "outputs": [
    {
     "data": {
      "image/png": "[encoded data removed]",
      "text/plain": [
       "<Figure size 432x288 with 1 Axes>"
      ]
     },
     "metadata": {
      "needs_background": "light"
     },
     "output_type": "display_data"
    },
    {
     "name": "stdout",
     "output_type": "stream",
     "text": [
      "Наибольшие по площади варианты:\n",
      "19540    900.0\n",
      "12859    631.2\n",
      "3117     631.0\n",
      "15651    618.0\n",
      "5358     590.0\n",
      "4237     517.0\n",
      "8018     507.0\n",
      "15016    500.0\n",
      "5893     500.0\n",
      "12401    495.0\n",
      "Name: total_area, dtype: float64\n"
     ]
    },
    {
     "data": {
      "image/png": "[encoded data removed]",
      "text/plain": [
       "<Figure size 432x288 with 1 Axes>"
      ]
     },
     "metadata": {
      "needs_background": "light"
     },
     "output_type": "display_data"
    },
    {
     "name": "stdout",
     "output_type": "stream",
     "text": [
      "Наибольшие по жилой площади варианты:\n",
      "19540    409.700000\n",
      "5358     409.000000\n",
      "3117     360.410721\n",
      "12401    347.500000\n",
      "4237     332.000000\n",
      "12859    322.300000\n",
      "660      312.500000\n",
      "8018     301.500000\n",
      "14088    300.000000\n",
      "5893     285.586942\n",
      "Name: living_area, dtype: float64\n"
     ]
    }
   ],
   "source": [
    "# Работаем с площадью\n",
    "plt.hist(df['total_area'], bins=30, range=(10,200))#строем гистограмму по столбцу total_area, с 30 карзинами и разбросом значений от 10 до 200 \n",
    "plt.title('Площадь квартир')\n",
    "plt.xlabel('Квадратные метры')\n",
    "plt.ylabel('Количество квартир')\n",
    "plt.show()\n",
    "print('Наибольшие по площади варианты:')\n",
    "print(df['total_area'].sort_values(ascending=False).head(10))\n",
    "\n",
    "\n",
    "# Работаем с жилой площадью\n",
    "plt.hist(df['living_area'], bins=70, range=(10,80))\n",
    "plt.title('Жилая площадь')\n",
    "plt.xlabel('Квадратные метры')\n",
    "plt.ylabel('Количество квартир')\n",
    "plt.show()\n",
    "print('Наибольшие по жилой площади варианты:')\n",
    "print(df['living_area'].sort_values(ascending=False).head(10))\n"
   ]
  },
  {
   "cell_type": "markdown",
   "id": "af38560d",
   "metadata": {},
   "source": [
    "\n",
    "\n",
    "***Площадь*** -total_area\n",
    "\n",
    "Большинство квартир - менее 100 квадратных метров, больше площадь практически не встречается. В подборке есть несколько очень больших и странных вариантов с площадью более 200 квадратных метров.\n",
    "\n",
    "***Жилая площадь*** -living_area\n",
    "\n",
    "Самые распространённые варианты с жилой площадью от 10 до 50 метров. После 80 метров встречаются единичные случаи. Два пика графика вызваны, вероятно, тем, что это жилые площади для 1-комнатной, затем для 2-комнатной и после этого для 3-комнатной квартиры.\n"
   ]
  },
  {
   "cell_type": "code",
   "execution_count": 16,
   "id": "3c1cde5b",
   "metadata": {},
   "outputs": [
    {
     "data": {
      "image/png": "[encoded data removed]",
      "text/plain": [
       "<Figure size 432x288 with 1 Axes>"
      ]
     },
     "metadata": {
      "needs_background": "light"
     },
     "output_type": "display_data"
    },
    {
     "name": "stdout",
     "output_type": "stream",
     "text": [
      "Наибольшие по площади кухни варианты:\n",
      "19540    112.000000\n",
      "20215    107.000000\n",
      "2489     100.700000\n",
      "5358     100.000000\n",
      "16239     93.200000\n",
      "16797     93.000000\n",
      "15016     87.537299\n",
      "10867     87.200000\n",
      "9826      86.504359\n",
      "492       77.000000\n",
      "Name: kitchen_area, dtype: float64\n"
     ]
    },
    {
     "data": {
      "image/png": "[encoded data removed]",
      "text/plain": [
       "<Figure size 432x288 with 1 Axes>"
      ]
     },
     "metadata": {
      "needs_background": "light"
     },
     "output_type": "display_data"
    },
    {
     "name": "stdout",
     "output_type": "stream",
     "text": [
      "Наибольшие по цене варианты:\n",
      "12971    763000000\n",
      "19540    420000000\n",
      "14706    401300000\n",
      "1436     330000000\n",
      "15651    300000000\n",
      "22831    289238400\n",
      "16461    245000000\n",
      "13749    240000000\n",
      "5893     230000000\n",
      "8900     190870000\n",
      "Name: last_price, dtype: int64\n"
     ]
    }
   ],
   "source": [
    "# Работаем с площадью кухни\n",
    "plt.hist(df['kitchen_area'], bins=30, range=(0,30))\n",
    "plt.title('Площадь кухни')\n",
    "plt.xlabel('Квадратные метры')\n",
    "plt.ylabel('Количество квартир')\n",
    "plt.show()\n",
    "print('Наибольшие по площади кухни варианты:')\n",
    "print(df['kitchen_area'].sort_values(ascending=False).head(10))\n",
    "\n",
    "\n",
    "# Работаем со стоимостью\n",
    "plt.hist(df['last_price'], bins=30, range=(0,20000000))\n",
    "plt.title('Стоимость квартир')\n",
    "plt.xlabel('Стоимость')\n",
    "plt.ylabel('Количество квартир')\n",
    "plt.show()\n",
    "print('Наибольшие по цене варианты:')\n",
    "print(df['last_price'].sort_values(ascending=False).head(10))"
   ]
  },
  {
   "cell_type": "markdown",
   "id": "cbc073a6",
   "metadata": {},
   "source": [
    "***Площадь кухни*** - kitchen_area\n",
    "\n",
    "Самые распространённые кухни - от 5 до 15 метров. Больше 20 метров кухни практически не встречаются. Больше 30 - единичные случаи.\n",
    "\n",
    "***Стоимость*** -last_price\n",
    "\n",
    "В основном стоимость квартир - порядка 5 миллионов. Больше 20 миллионов вариантов мало и они выглядят очень странно и некоторые - на порядок дороже."
   ]
  },
  {
   "cell_type": "code",
   "execution_count": 17,
   "id": "b0eb8c70",
   "metadata": {},
   "outputs": [
    {
     "data": {
      "image/png": "[encoded data removed]",
      "text/plain": [
       "<Figure size 432x288 with 1 Axes>"
      ]
     },
     "metadata": {
      "needs_background": "light"
     },
     "output_type": "display_data"
    },
    {
     "name": "stdout",
     "output_type": "stream",
     "text": [
      "Наибольшие по числу комнат варианты:\n",
      "14498    19\n",
      "18848    16\n",
      "5358     15\n",
      "20829    14\n",
      "866      14\n",
      "19540    12\n",
      "648      11\n",
      "9688     11\n",
      "18891    10\n",
      "18119    10\n",
      "Name: rooms, dtype: int64\n"
     ]
    },
    {
     "data": {
      "image/png": "[encoded data removed]",
      "text/plain": [
       "<Figure size 432x288 with 1 Axes>"
      ]
     },
     "metadata": {
      "needs_background": "light"
     },
     "output_type": "display_data"
    },
    {
     "name": "stdout",
     "output_type": "stream",
     "text": [
      "Наибольшие по высоте потолков варианты:\n",
      "22869    100.0\n",
      "3148      32.0\n",
      "22336     32.0\n",
      "21377     27.5\n",
      "5807      27.0\n",
      "5246      27.0\n",
      "10773     27.0\n",
      "17857     27.0\n",
      "21824     27.0\n",
      "20478     27.0\n",
      "Name: ceiling_height, dtype: float64\n"
     ]
    }
   ],
   "source": [
    "# Работаем с комнатами\n",
    "plt.hist(df['rooms'], bins=7, range=(1,7))\n",
    "plt.title('Комнаты')\n",
    "plt.xlabel('Количество комнат')\n",
    "plt.ylabel('Количество квартир')\n",
    "plt.show()\n",
    "print('Наибольшие по числу комнат варианты:')\n",
    "print(df['rooms'].sort_values(ascending=False).head(10))\n",
    "\n",
    "# Работаем с потолками\n",
    "plt.hist(df.query('(ceiling_height > 2) & (ceiling_height < 4)')['ceiling_height'], bins=20)\n",
    "plt.title('Высота потолков')\n",
    "plt.xlabel('Метры')\n",
    "plt.ylabel('Количество квартир')\n",
    "plt.show()\n",
    "print('Наибольшие по высоте потолков варианты:')\n",
    "print(df['ceiling_height'].sort_values(ascending=False).head(10))"
   ]
  },
  {
   "cell_type": "markdown",
   "id": "59754eab",
   "metadata": {},
   "source": [
    "***Комнаты*** -rooms\n",
    "\n",
    "В основном квартиры состоят из 1, 2 и 3 комнат. Есть небольшая доля 4-комнатных квартир. Варианты, где больше 7 комнат выглядят странно и подозрительно. Даже при объединении нескольких квартир в одну это подозрительно. Возможно, это отдельный дом.\n",
    "\n",
    "***Высота потолков*** -ceiling_height\n",
    "\n",
    "Большинство вариантов имеют высоту потолков от 2,5 до 3 метров. Больше 4 метров высота потолков выглядит подозрительно. Есть значения в 27 метров (высота 9-этажного дома) - это может быть ошибкой данных и реальная высота 2,7 метра.\n"
   ]
  },
  {
   "cell_type": "code",
   "execution_count": 18,
   "id": "c4a93894",
   "metadata": {},
   "outputs": [
    {
     "data": {
      "image/png": "[encoded data removed]",
      "text/plain": [
       "<Figure size 432x288 with 1 Axes>"
      ]
     },
     "metadata": {
      "needs_background": "light"
     },
     "output_type": "display_data"
    },
    {
     "data": {
      "image/png": "[encoded data removed]",
      "text/plain": [
       "<Figure size 360x216 with 1 Axes>"
      ]
     },
     "metadata": {
      "needs_background": "light"
     },
     "output_type": "display_data"
    },
    {
     "data": {
      "image/png": "[encoded data removed]",
      "text/plain": [
       "<Figure size 432x288 with 1 Axes>"
      ]
     },
     "metadata": {
      "needs_background": "light"
     },
     "output_type": "display_data"
    },
    {
     "name": "stdout",
     "output_type": "stream",
     "text": [
      "Наибольшие по числу этажей:\n",
      "2253     60\n",
      "16731    52\n",
      "16934    37\n",
      "5807     36\n",
      "11079    36\n",
      "397      36\n",
      "13975    35\n",
      "2966     35\n",
      "9186     35\n",
      "1917     35\n",
      "Name: floors_total, dtype: int64\n"
     ]
    }
   ],
   "source": [
    "# Работаем с типом этажа квартиры\n",
    "plt.hist(df['floor_type'], bins=3)\n",
    "plt.title('Типы этажей')\n",
    "plt.xlabel('Тип этажа')\n",
    "plt.ylabel('Количество квартир')\n",
    "plt.show()\n",
    "\n",
    "df['floor_type'].value_counts().plot.bar(figsize=(5, 3), ec='black', legend=True)\n",
    "plt.show()\n",
    "\n",
    "\n",
    "\n",
    "# Работаем с общим колличеством этажей в доме\n",
    "plt.hist(df['floors_total'], bins=7, range=(1,40))\n",
    "plt.title('Количество этажей в доме')\n",
    "plt.xlabel('Количество этажей')\n",
    "plt.ylabel('Количество квартир')\n",
    "plt.show()\n",
    "print('Наибольшие по числу этажей:')\n",
    "print(df['floors_total'].sort_values(ascending=False).head(10))\n"
   ]
  },
  {
   "cell_type": "code",
   "execution_count": 19,
   "id": "5eee993c",
   "metadata": {},
   "outputs": [
    {
     "data": {
      "image/png": "[encoded data removed]",
      "text/plain": [
       "<Figure size 432x288 with 1 Axes>"
      ]
     },
     "metadata": {
      "needs_background": "light"
     },
     "output_type": "display_data"
    },
    {
     "name": "stdout",
     "output_type": "stream",
     "text": [
      "Наибольшие удаление от центра:\n",
      "9640     65968.0\n",
      "5340     65952.0\n",
      "577      65764.0\n",
      "20746    65105.0\n",
      "5218     64857.0\n",
      "18884    62706.0\n",
      "2974     62454.0\n",
      "16569    61495.0\n",
      "23123    60223.0\n",
      "4441     59626.0\n",
      "Name: city_centers_nearest, dtype: float64\n"
     ]
    },
    {
     "data": {
      "image/png": "[encoded data removed]",
      "text/plain": [
       "<Figure size 432x288 with 1 Axes>"
      ]
     },
     "metadata": {
      "needs_background": "light"
     },
     "output_type": "display_data"
    },
    {
     "name": "stdout",
     "output_type": "stream",
     "text": [
      "Наибольшие удаление от парка:\n",
      "10959    3190.0\n",
      "19430    3190.0\n",
      "1590     3064.0\n",
      "19208    3013.0\n",
      "23080    2984.0\n",
      "2659     2905.0\n",
      "1860     2888.0\n",
      "7855     2880.0\n",
      "3865     2847.0\n",
      "22003    2768.0\n",
      "Name: parks_nearest, dtype: float64\n"
     ]
    }
   ],
   "source": [
    "# Работаем с растоянием до центра города\n",
    "plt.hist(df['city_centers_nearest'], bins=100, range=(0,60000))\n",
    "plt.title('Растояние до центра')\n",
    "plt.xlabel('Растояние')\n",
    "plt.ylabel('Количество квартир')\n",
    "plt.show()\n",
    "print('Наибольшие удаление от центра:')\n",
    "print(df['city_centers_nearest'].sort_values(ascending=False).head(10))\n",
    "\n",
    "# Работаем с растоянием до ближайшего парка\n",
    "\n",
    "plt.hist(df['parks_nearest'], bins=100, range=(0,2000))\n",
    "plt.title('Растояние до парка')\n",
    "plt.xlabel('Растояние')\n",
    "plt.ylabel('Количество квартир')\n",
    "plt.show()\n",
    "print('Наибольшие удаление от парка:')\n",
    "print(df['parks_nearest'].sort_values(ascending=False).head(10))"
   ]
  },
  {
   "cell_type": "markdown",
   "id": "8804654a",
   "metadata": {},
   "source": [
    "\n",
    "***Расстояние до центра города в метрах***\n",
    "\n",
    "У большинства объявлений, расстояние до центра города меньше 20000 метров, что приравнивается 20 км. Так же присутствуют квартиры, удаление которых, от центра больше 30000 метров (30 км) скорее всего, эти дома расположены в ближайших к городу поселков, или деревень.\n",
    "\n",
    "***Растояние до ближайшего парка*** \n",
    "\n",
    "Большенство квартир расволожены рядом с парком, до которого менее 1000 метров. При этом так же присутствуют объявления, в которых растояние до парка значительно больше \n"
   ]
  },
  {
   "cell_type": "markdown",
   "id": "96f243f1",
   "metadata": {},
   "source": [
    "***Вывод:***\n",
    "\n",
    "***Площадь***\n",
    "\n",
    "Большинство квартир - менее 100 квадратных метров, больше площадь практически не встречается. В подборке есть несколько очень больших и странных вариантов с площадью более 200 квадратных метров.\n",
    "\n",
    "***Жилая площадь***\n",
    "\n",
    "Самые распространённые варианты с жилой площадью от 10 до 50 метров. После 80 метров встречаются единичные случаи. Два пика графика вызваны, вероятно, тем, что это жилые площади для 1-комнатной, затем для 2-комнатной и после этого для 3-комнатной квартиры.\n",
    "\n",
    "***Площадь кухни***\n",
    "\n",
    "Самые распространённые кухни - от 5 до 15 метров. Больше 20 метров кухни практически не встречаются. Больше 30 - единичные случаи.\n",
    "\n",
    "***Стоимость***\n",
    "\n",
    "В основном стоимость квартир - порядка 5 миллионов. Больше 20 миллионов вариантов мало и они выглядят очень странно и некоторые - на порядок дороже.\n",
    "\n",
    "***Комнаты***\n",
    "\n",
    "В основном квартиры состоят из 1, 2 и 3 комнат. Есть небольшая доля 4-комнатных квартир. Варианты, где больше 7 комнат выглядят странно и подозрительно. Даже при объединении нескольких квартир в одну это подозрительно. Возможно, это отдельный дом.\n",
    "\n",
    "***Высота потолков***\n",
    "\n",
    "Большинство вариантов имеют высоту потолков от 2,5 до 3 метров. Больше 4 метров высота потолков выглядит подозрительно. Есть значения в 27 метров (высота 9-этажного дома) - это может быть ошибкой данных и реальная высота 2,7 метра.\n",
    "\n",
    "***Тип этаже квартиры***\n",
    "\n",
    "Большенство этажей продается не на первом и не на последнем, скорее всего эти квартиры не полюзуются спросом и популярностью.\n",
    "\n",
    "***Общее количество этажей в доме***\n",
    "\n",
    "Большенство квартир - это пятиэтажные дома, видна так же линейная зависимости с увеличением квартир уменьшается колличество предложений на рынке недвижимости.\n",
    "\n",
    "Так же имеентся значение 60 этажей, скорее всего это ошибочное значение, вероятнее всего количество этажей в доме 6\n",
    "\n",
    "***Расстояние до центра города в метрах***\n",
    "\n",
    "У большинства объявлений, расстояние до центра города меньше 20000 метров, что приравнивается 20 км. Так же присутствуют квартиры, удаление которых, от центра больше 30000 метров (30 км) скорее всего, эти дома расположены в ближайших к городу поселков, или деревень.\n",
    "\n",
    "***Растояние до ближайшего парка*** \n",
    "\n",
    "Большенство квартир расволожены рядом с парком, до которого менее 1000 метров. При этом так же присутствуют объявления, в которых растояние до парка значительно больше \n",
    "\n",
    "\n"
   ]
  },
  {
   "cell_type": "markdown",
   "id": "55d9fdb5",
   "metadata": {},
   "source": [
    "### 2. Изучение времени продажи квартиры\n"
   ]
  },
  {
   "cell_type": "markdown",
   "id": "dcbd4622",
   "metadata": {},
   "source": [
    "Изучим как быстро продавались квартиры и запишем получившееся значение в столбец ***days_exposition***\n",
    "\n",
    "Этот параметр показывает, сколько дней было размещено каждое объявление."
   ]
  },
  {
   "cell_type": "markdown",
   "id": "0055d23b",
   "metadata": {},
   "source": [
    "Избавимся от выбросов в данных, для более точного анализа"
   ]
  },
  {
   "cell_type": "code",
   "execution_count": 20,
   "id": "b21f3fb7",
   "metadata": {
    "scrolled": true
   },
   "outputs": [
    {
     "data": {
      "image/png": "[encoded data removed]",
      "text/plain": [
       "<Figure size 504x360 with 1 Axes>"
      ]
     },
     "metadata": {
      "needs_background": "light"
     },
     "output_type": "display_data"
    }
   ],
   "source": [
    "# Рассчитаем Q1, Q3 и IQR для построения графика без выбросов\n",
    "q1 = df['days_exposition'].quantile(.25) # первый квартиль Q1\n",
    "q3 = df['days_exposition'].quantile(.75) # третий квартиль Q3\n",
    "iqr = q3 - q1 # межквартильный размах IQR\n",
    "\n",
    "\n",
    "\n",
    "# Построим гистограмму времени продажи квартиры\n",
    "df['days_exposition'].hist(bins=100, range=(0, (q3 + 1.5 * iqr)), figsize=(7, 5), ec='black', legend=True)\n",
    "plt.title('Время продажи квартиры')\n",
    "plt.xlabel('Дни')\n",
    "plt.ylabel('объекты недвижимости')\n",
    "plt.show()"
   ]
  },
  {
   "cell_type": "markdown",
   "id": "4a4d58bf",
   "metadata": {},
   "source": [
    "На графике видны пики около 50-60 дней, но при таком длинном \"хвосте\" из данных делать выводы не уместно. Изменим масштаб - изменим период до 100 дней."
   ]
  },
  {
   "cell_type": "code",
   "execution_count": 21,
   "id": "6c79d0e1",
   "metadata": {},
   "outputs": [
    {
     "data": {
      "image/png": "[encoded data removed]",
      "text/plain": [
       "<Figure size 504x360 with 1 Axes>"
      ]
     },
     "metadata": {
      "needs_background": "light"
     },
     "output_type": "display_data"
    }
   ],
   "source": [
    "# Ограничим гистограмму периодом до 100 дней\n",
    "df['days_exposition'].hist(bins=100, range=(0, 100), figsize=(7, 5), ec='black', legend=True)\n",
    "plt.title('Время продажи объекта квартиры')\n",
    "plt.xlabel('дни')\n",
    "plt.ylabel('объекты недвижимости')\n",
    "plt.show()"
   ]
  },
  {
   "cell_type": "markdown",
   "id": "71871d80",
   "metadata": {},
   "source": [
    "Судя по графику, чаще всего квартиры продают за 45 и 60 дней. \n",
    "\n",
    "Теперь посмотрим на среднее и медиану."
   ]
  },
  {
   "cell_type": "code",
   "execution_count": 22,
   "id": "35072d85",
   "metadata": {},
   "outputs": [
    {
     "data": {
      "text/plain": [
       "count    20394.000000\n",
       "mean       180.741395\n",
       "std        219.732782\n",
       "min          1.000000\n",
       "25%         45.000000\n",
       "50%         95.000000\n",
       "75%        231.000000\n",
       "max       1580.000000\n",
       "Name: days_exposition, dtype: float64"
      ]
     },
     "execution_count": 22,
     "metadata": {},
     "output_type": "execute_result"
    }
   ],
   "source": [
    "# Получим описательную статистику столбца days_exposition\n",
    "df['days_exposition'].describe()"
   ]
  },
  {
   "cell_type": "code",
   "execution_count": 23,
   "id": "1f0712ad",
   "metadata": {},
   "outputs": [
    {
     "data": {
      "image/png": "[encoded data removed]",
      "text/plain": [
       "<Figure size 432x288 with 1 Axes>"
      ]
     },
     "metadata": {
      "needs_background": "light"
     },
     "output_type": "display_data"
    }
   ],
   "source": [
    "plt.hist(df['days_exposition'],\n",
    "         bins=100,\n",
    "         range=(0,250)\n",
    "        )\n",
    "plt.title('Распределение количества продаж по времени')\n",
    "plt.xlabel('Сколько дней было размещено объявление (от публикации до снятия)')\n",
    "plt.ylabel('Количество объявлений')\n",
    "plt.show()"
   ]
  },
  {
   "cell_type": "markdown",
   "id": "530e73ef",
   "metadata": {},
   "source": [
    "***Вывод:***\n",
    "\n",
    "Среднее значение продажи составляет 180 дня, при этом медианное значение составляет 95 дня, оно более точно характеризует среднее время продажи, так как не зависит от выбрасов и нестандартных значений.\n",
    "\n",
    "В среднем продажа среднестатистичекой квартиры занимает 2-3 месяца в зависимотсти от сопутствующих факторов.\n",
    "\n",
    "Быстрыми продажами можно считать продажи состоявшиеся за 45 днней (в первом квартиле), а необычно долгие продажи после 232 дня и более (после 3 квартиля), которые вообще могут быть не проданными."
   ]
  },
  {
   "cell_type": "code",
   "execution_count": null,
   "id": "351473e5",
   "metadata": {},
   "outputs": [],
   "source": []
  },
  {
   "cell_type": "markdown",
   "id": "8705119f",
   "metadata": {},
   "source": [
    "***Вывод***\n",
    "\n",
    "Медианное время продажи - 95 дней. Среднее время продажи - 181 день.\n",
    "В основном квартиры продаются за срок в 100 дней. Есть большое число квартир, проданных за несколько дней после публикации. А также есть варианты, которые продавались несколько десятков месяцев.\n",
    "\n",
    "Быстрой продажей можно назвать срок в 45 дней и меньше. Долгой продажей - 200 дней  и дольше."
   ]
  },
  {
   "cell_type": "markdown",
   "id": "4377c4d2",
   "metadata": {},
   "source": [
    "### Определим факторы, которые больше всего влияют на общую (полную) стоимость объекта."
   ]
  },
  {
   "cell_type": "markdown",
   "id": "88354406",
   "metadata": {},
   "source": [
    "Проверим зависит ли цена от:\n",
    "- общей площади;\n",
    "- жилой площади;\n",
    "- площади кухни;\n",
    "- количества комнат;\n",
    "- этажа, на котором расположена квартира (первый, последний, другой);\n",
    "- даты размещения (день недели, месяц, год)."
   ]
  },
  {
   "cell_type": "markdown",
   "id": "beaf91fb",
   "metadata": {},
   "source": [
    "Воспользуемся библиотекой seaborn и рафиком heatmap"
   ]
  },
  {
   "cell_type": "code",
   "execution_count": 24,
   "id": "3c2d2e6e",
   "metadata": {},
   "outputs": [
    {
     "data": {
      "text/plain": [
       "Index(['total_images', 'last_price', 'total_area', 'first_day_exposition',\n",
       "       'rooms', 'ceiling_height', 'floors_total', 'living_area', 'floor',\n",
       "       'is_apartment', 'studio', 'open_plan', 'kitchen_area', 'balcony',\n",
       "       'locality_name', 'airports_nearest', 'city_centers_nearest',\n",
       "       'parks_around3000', 'parks_nearest', 'ponds_around3000',\n",
       "       'ponds_nearest', 'days_exposition', 'sm_price', 'weekday', 'month',\n",
       "       'year', 'area_ratio', 'kitchen_ratio', 'floor_type', 'distans'],\n",
       "      dtype='object')"
      ]
     },
     "execution_count": 24,
     "metadata": {},
     "output_type": "execute_result"
    }
   ],
   "source": [
    "df.columns"
   ]
  },
  {
   "cell_type": "code",
   "execution_count": 25,
   "id": "702e6088",
   "metadata": {},
   "outputs": [],
   "source": [
    "# Создадим список с параметрами для проверки\n",
    "corr_param = [\n",
    "    'last_price',\n",
    "    'total_area',\n",
    "    'living_area',\n",
    "    'kitchen_area',\n",
    "    'rooms',\n",
    "    'weekday',\n",
    "    'month',\n",
    "    'year']"
   ]
  },
  {
   "cell_type": "code",
   "execution_count": 26,
   "id": "13881be7",
   "metadata": {},
   "outputs": [
    {
     "data": {
      "text/html": [
       "<div>\n",
       "<style scoped>\n",
       "    .dataframe tbody tr th:only-of-type {\n",
       "        vertical-align: middle;\n",
       "    }\n",
       "\n",
       "    .dataframe tbody tr th {\n",
       "        vertical-align: top;\n",
       "    }\n",
       "\n",
       "    .dataframe thead th {\n",
       "        text-align: right;\n",
       "    }\n",
       "</style>\n",
       "<table border=\"1\" class=\"dataframe\">\n",
       "  <thead>\n",
       "    <tr style=\"text-align: right;\">\n",
       "      <th></th>\n",
       "      <th>last_price</th>\n",
       "      <th>total_area</th>\n",
       "      <th>living_area</th>\n",
       "      <th>kitchen_area</th>\n",
       "      <th>rooms</th>\n",
       "      <th>weekday</th>\n",
       "      <th>month</th>\n",
       "      <th>year</th>\n",
       "    </tr>\n",
       "  </thead>\n",
       "  <tbody>\n",
       "    <tr>\n",
       "      <th>last_price</th>\n",
       "      <td>1.000000</td>\n",
       "      <td>0.653621</td>\n",
       "      <td>0.585680</td>\n",
       "      <td>0.514531</td>\n",
       "      <td>0.363191</td>\n",
       "      <td>0.001357</td>\n",
       "      <td>0.002726</td>\n",
       "      <td>-0.042864</td>\n",
       "    </tr>\n",
       "    <tr>\n",
       "      <th>total_area</th>\n",
       "      <td>0.653621</td>\n",
       "      <td>1.000000</td>\n",
       "      <td>0.946232</td>\n",
       "      <td>0.660242</td>\n",
       "      <td>0.758735</td>\n",
       "      <td>-0.005680</td>\n",
       "      <td>0.004961</td>\n",
       "      <td>-0.079041</td>\n",
       "    </tr>\n",
       "    <tr>\n",
       "      <th>living_area</th>\n",
       "      <td>0.585680</td>\n",
       "      <td>0.946232</td>\n",
       "      <td>1.000000</td>\n",
       "      <td>0.502345</td>\n",
       "      <td>0.827524</td>\n",
       "      <td>-0.004900</td>\n",
       "      <td>-0.000200</td>\n",
       "      <td>-0.071301</td>\n",
       "    </tr>\n",
       "    <tr>\n",
       "      <th>kitchen_area</th>\n",
       "      <td>0.514531</td>\n",
       "      <td>0.660242</td>\n",
       "      <td>0.502345</td>\n",
       "      <td>1.000000</td>\n",
       "      <td>0.325833</td>\n",
       "      <td>-0.005464</td>\n",
       "      <td>0.003625</td>\n",
       "      <td>-0.059922</td>\n",
       "    </tr>\n",
       "    <tr>\n",
       "      <th>rooms</th>\n",
       "      <td>0.363191</td>\n",
       "      <td>0.758735</td>\n",
       "      <td>0.827524</td>\n",
       "      <td>0.325833</td>\n",
       "      <td>1.000000</td>\n",
       "      <td>-0.005207</td>\n",
       "      <td>-0.003916</td>\n",
       "      <td>-0.054492</td>\n",
       "    </tr>\n",
       "    <tr>\n",
       "      <th>weekday</th>\n",
       "      <td>0.001357</td>\n",
       "      <td>-0.005680</td>\n",
       "      <td>-0.004900</td>\n",
       "      <td>-0.005464</td>\n",
       "      <td>-0.005207</td>\n",
       "      <td>1.000000</td>\n",
       "      <td>0.012019</td>\n",
       "      <td>-0.002985</td>\n",
       "    </tr>\n",
       "    <tr>\n",
       "      <th>month</th>\n",
       "      <td>0.002726</td>\n",
       "      <td>0.004961</td>\n",
       "      <td>-0.000200</td>\n",
       "      <td>0.003625</td>\n",
       "      <td>-0.003916</td>\n",
       "      <td>0.012019</td>\n",
       "      <td>1.000000</td>\n",
       "      <td>-0.271567</td>\n",
       "    </tr>\n",
       "    <tr>\n",
       "      <th>year</th>\n",
       "      <td>-0.042864</td>\n",
       "      <td>-0.079041</td>\n",
       "      <td>-0.071301</td>\n",
       "      <td>-0.059922</td>\n",
       "      <td>-0.054492</td>\n",
       "      <td>-0.002985</td>\n",
       "      <td>-0.271567</td>\n",
       "      <td>1.000000</td>\n",
       "    </tr>\n",
       "  </tbody>\n",
       "</table>\n",
       "</div>"
      ],
      "text/plain": [
       "              last_price  total_area  living_area  kitchen_area     rooms  \\\n",
       "last_price      1.000000    0.653621     0.585680      0.514531  0.363191   \n",
       "total_area      0.653621    1.000000     0.946232      0.660242  0.758735   \n",
       "living_area     0.585680    0.946232     1.000000      0.502345  0.827524   \n",
       "kitchen_area    0.514531    0.660242     0.502345      1.000000  0.325833   \n",
       "rooms           0.363191    0.758735     0.827524      0.325833  1.000000   \n",
       "weekday         0.001357   -0.005680    -0.004900     -0.005464 -0.005207   \n",
       "month           0.002726    0.004961    -0.000200      0.003625 -0.003916   \n",
       "year           -0.042864   -0.079041    -0.071301     -0.059922 -0.054492   \n",
       "\n",
       "               weekday     month      year  \n",
       "last_price    0.001357  0.002726 -0.042864  \n",
       "total_area   -0.005680  0.004961 -0.079041  \n",
       "living_area  -0.004900 -0.000200 -0.071301  \n",
       "kitchen_area -0.005464  0.003625 -0.059922  \n",
       "rooms        -0.005207 -0.003916 -0.054492  \n",
       "weekday       1.000000  0.012019 -0.002985  \n",
       "month         0.012019  1.000000 -0.271567  \n",
       "year         -0.002985 -0.271567  1.000000  "
      ]
     },
     "metadata": {},
     "output_type": "display_data"
    }
   ],
   "source": [
    "corr_name_rus = [\n",
    "    'Стоимость квартиры',\n",
    "    'Общая площадь',\n",
    "    'Жилая площадь',\n",
    "    'Площадь кухни',\n",
    "    'Колличество комнат',\n",
    "    'День недели',\n",
    "    'Месяц',\n",
    "    'Год']\n",
    "# Получаем матрицу корреляции\n",
    "corr_matrix = df[corr_param].corr()\n",
    "# Выведем на экран\n",
    "display(corr_matrix)"
   ]
  },
  {
   "cell_type": "code",
   "execution_count": 27,
   "id": "4456a403",
   "metadata": {},
   "outputs": [
    {
     "data": {
      "image/png": "[encoded data removed]",
      "text/plain": [
       "<Figure size 1080x720 with 2 Axes>"
      ]
     },
     "metadata": {
      "needs_background": "light"
     },
     "output_type": "display_data"
    }
   ],
   "source": [
    "# Визуализируем матрицу корреляции\n",
    "plt.figure(figsize = (15, 10))\n",
    "sns.heatmap(corr_matrix, vmin=-1, vmax=1,\n",
    "            cmap='coolwarm', annot=True,\n",
    "            yticklabels=corr_name_rus,\n",
    "            xticklabels=corr_name_rus)\n",
    "plt.title('Матрица корреляции')\n",
    "plt.show()"
   ]
  },
  {
   "cell_type": "markdown",
   "id": "f101d531",
   "metadata": {},
   "source": [
    "***Вывод:***\n",
    "\n",
    "Видно, что наибольшая положительная линейная связь между стоимостью квартиры и ее площадью. Зависимость прямопропорциональная - чем больше стоимость квартиры, тем больше ее площадь. Положительная линейная связь отмечается также между стоимостью квартиры и количеством комнат. Связь отличается примерно в 1.5 раза от связи между стоимостью квартиры и площадтю. Соответственно чем количество комнат больше, тем больше стоимость квартиры. Так же заметна умеренная связь между площадью кухни и ценой квартиры, но срее всего эта корреляция выхожит из увелечения общей площади, а не только площади кухни, тк эти значения ростут зачастую одновременно. Между стоимостью квартиры и днем недели, месяцем или годом размещения объявления  отсутствует линейная связь."
   ]
  },
  {
   "cell_type": "markdown",
   "id": "89884c21",
   "metadata": {},
   "source": [
    "<div class=\"alert alert-block alert-info\">\n",
    "<b>КОММЕНТАРИЙ ОТ УЧЕНИКА: Интерпретировал полученные значения коэф. корреляции.) </b><br>"
   ]
  },
  {
   "cell_type": "markdown",
   "id": "83e74f39",
   "metadata": {},
   "source": [
    "<div class=\"alert alert-block alert-success\">\n",
    "\n",
    "**Комментарий ревьювера v2 (все отлично)**\n",
    "    \n",
    "Принято👍\n",
    "</div>"
   ]
  },
  {
   "cell_type": "code",
   "execution_count": 28,
   "id": "c0f8a729",
   "metadata": {},
   "outputs": [
    {
     "data": {
      "image/png": "[encoded data removed]",
      "text/plain": [
       "<Figure size 576x432 with 1 Axes>"
      ]
     },
     "metadata": {
      "needs_background": "light"
     },
     "output_type": "display_data"
    },
    {
     "name": "stdout",
     "output_type": "stream",
     "text": [
      "Корреляция цены и общей площади: \n",
      "\n",
      "            last_price  total_area\n",
      "last_price    1.000000    0.739123\n",
      "total_area    0.739123    1.000000 \n",
      "\n"
     ]
    }
   ],
   "source": [
    "# Зависимость цены от общей площади\n",
    "df.plot(x = 'total_area',\n",
    "        y='last_price',\n",
    "        kind ='scatter',\n",
    "        grid=True, \n",
    "        style='o',\n",
    "        figsize=(8, 6),\n",
    "        legend=True,\n",
    "        alpha = 0.05\n",
    "       )\n",
    "\n",
    "plt.title('Зависимость общей площади от стоимости квартиры')\n",
    "plt.xlabel('площадь, м²')\n",
    "plt.ylabel('стоимость, 100 млн.руб.')\n",
    "plt.ylim(0, 100000000)\n",
    "plt.show()\n",
    "print('Корреляция цены и общей площади:','\\n')\n",
    "print(df.pivot_table(index='floor', values=['total_area', 'last_price']).corr(),'\\n')"
   ]
  },
  {
   "cell_type": "markdown",
   "id": "a21d603c",
   "metadata": {},
   "source": [
    "Из графика видно, что больше всего данных для квартир стоимостью до 20 млн. руб. и площадью до 150 кв.м. Зависимость прямопропорциональная - чем больше площадь квартиры, тем выше цена."
   ]
  },
  {
   "cell_type": "code",
   "execution_count": 29,
   "id": "a2e92c66",
   "metadata": {
    "scrolled": false
   },
   "outputs": [
    {
     "data": {
      "image/png": "[encoded data removed]",
      "text/plain": [
       "<Figure size 360x360 with 1 Axes>"
      ]
     },
     "metadata": {
      "needs_background": "light"
     },
     "output_type": "display_data"
    },
    {
     "name": "stdout",
     "output_type": "stream",
     "text": [
      "Корреляция цены и общей площади: \n",
      "\n",
      "            last_price  total_area\n",
      "last_price    1.000000    0.739123\n",
      "total_area    0.739123    1.000000 \n",
      "\n"
     ]
    },
    {
     "data": {
      "image/png": "[encoded data removed]",
      "text/plain": [
       "<Figure size 576x432 with 1 Axes>"
      ]
     },
     "metadata": {
      "needs_background": "light"
     },
     "output_type": "display_data"
    },
    {
     "name": "stdout",
     "output_type": "stream",
     "text": [
      "Корреляция цены и жилой площади: \n",
      "\n",
      "             last_price  living_area\n",
      "last_price     1.000000     0.626853\n",
      "living_area    0.626853     1.000000 \n",
      "\n",
      "Из графика видно, что больше всего данных для квартир стоимостью до 20 млн. руб. и жило площадью до 75 м². Зависимость прямопропорциональная - чем больше жилаяплощадь квартиры, тем выше ее стоимость.\n"
     ]
    },
    {
     "data": {
      "image/png": "[encoded data removed]",
      "text/plain": [
       "<Figure size 576x432 with 1 Axes>"
      ]
     },
     "metadata": {
      "needs_background": "light"
     },
     "output_type": "display_data"
    },
    {
     "name": "stdout",
     "output_type": "stream",
     "text": [
      "Корреляция цены и площади кухни: \n",
      "\n",
      "                      city_centers_nearest  last_price\n",
      "city_centers_nearest              1.000000    0.158527\n",
      "last_price                        0.158527    1.000000 \n",
      "\n",
      "Из графика видно, что больше всего данных для квартир стоимостью до 20 млн. руб. и площадью кухни до 18 м². Зависимость прямопропорциональная - чем больше площадь кухни, тем выше ее стоимость.\n"
     ]
    },
    {
     "data": {
      "image/png": "[encoded data removed]",
      "text/plain": [
       "<Figure size 864x432 with 1 Axes>"
      ]
     },
     "metadata": {
      "needs_background": "light"
     },
     "output_type": "display_data"
    },
    {
     "name": "stdout",
     "output_type": "stream",
     "text": [
      "Корреляция цены и числа комнат: \n",
      "\n",
      "            last_price     rooms\n",
      "last_price    1.000000  0.435721\n",
      "rooms         0.435721  1.000000 \n",
      "\n",
      "Из графика видно, что больше всего данных для квартир стоимостью до 20 млн. руб и кол-вом комнат от 1 до 3. Для этого диапазона: с учеличение числа комнат до 3 комнат стоимость квартир растет, от 3 до 4 - цена примерно одинаковая, для 5 комнат стоимость снижается. Это можно объяснить тем, что в старом фонде есть 5-ти комнатные квартиры с маленькой площадью комнат.\n"
     ]
    },
    {
     "data": {
      "image/png": "[encoded data removed]",
      "text/plain": [
       "<Figure size 360x360 with 1 Axes>"
      ]
     },
     "metadata": {
      "needs_background": "light"
     },
     "output_type": "display_data"
    },
    {
     "data": {
      "image/png": "[encoded data removed]",
      "text/plain": [
       "<Figure size 360x360 with 1 Axes>"
      ]
     },
     "metadata": {
      "needs_background": "light"
     },
     "output_type": "display_data"
    },
    {
     "data": {
      "image/png": "[encoded data removed]",
      "text/plain": [
       "<Figure size 720x360 with 1 Axes>"
      ]
     },
     "metadata": {
      "needs_background": "light"
     },
     "output_type": "display_data"
    },
    {
     "data": {
      "image/png": "[encoded data removed]",
      "text/plain": [
       "<Figure size 360x360 with 1 Axes>"
      ]
     },
     "metadata": {
      "needs_background": "light"
     },
     "output_type": "display_data"
    }
   ],
   "source": [
    "# Зависимость цены от общей площади\n",
    "(\n",
    "    df.pivot_table(index='total_area', values='last_price')\n",
    "    .plot(grid=True, style='o', figsize=(5, 5))\n",
    ")\n",
    "plt.show()\n",
    "print('Корреляция цены и общей площади:','\\n')\n",
    "print(df.pivot_table(index='floor', values=['total_area', 'last_price']).corr(),'\\n')\n",
    "\n",
    "# Зависимость цены от жилой площади\n",
    "# используем тип графика scatter\n",
    "df.plot(\n",
    "    x='living_area',\n",
    "    y ='last_price',\n",
    "    kind ='scatter',\n",
    "    figsize=(8, 6),\n",
    "    legend=True,\n",
    "    alpha = 0.03\n",
    ")\n",
    "\n",
    "plt.title('Зависимость жилой площади от стоимости квартиры')\n",
    "plt.xlabel('площадь, м²')\n",
    "plt.ylabel('стоимость, 100 млн.руб.')\n",
    "plt.ylim(0, 100000000)\n",
    "plt.show()\n",
    "print('Корреляция цены и жилой площади:','\\n')\n",
    "print(df.pivot_table(index='floor', values=['living_area', 'last_price']).corr(),'\\n')\n",
    "print(f'Из графика видно, что больше всего данных для квартир стоимостью до 20 млн. руб. и жило площадью до 75 м². Зависимость прямопропорциональная - чем больше жилаяплощадь квартиры, тем выше ее стоимость.')\n",
    "\n",
    "# Зависимость цены от площади кухни \n",
    "df.plot(\n",
    "    x='kitchen_area',\n",
    "    y ='last_price',\n",
    "    kind ='scatter',\n",
    "    figsize=(8, 6),\n",
    "    legend=True,\n",
    "    alpha = 0.03\n",
    ")\n",
    "\n",
    "plt.title('Зависимость площади кухни от стоимости квартиры')\n",
    "plt.xlabel('площадь, м²')\n",
    "plt.ylabel('стоимость, 100 млн.руб.')\n",
    "plt.ylim(0, 100000000)\n",
    "plt.show()\n",
    "print('Корреляция цены и площади кухни:','\\n')\n",
    "print(df.pivot_table(index='floor', values=['city_centers_nearest', 'last_price']).corr(),'\\n')\n",
    "print(f'Из графика видно, что больше всего данных для квартир стоимостью до 20 млн. руб. и площадью кухни до 18 м². Зависимость прямопропорциональная - чем больше площадь кухни, тем выше ее стоимость.')\n",
    "\n",
    "\n",
    "# Зависимость цены от числа комнат\n",
    "df.plot(\n",
    "    x = 'rooms', \n",
    "    y = 'last_price', \n",
    "    style='o', \n",
    "    grid=True, \n",
    "    figsize=(12, 6), \n",
    "    alpha=0.05\n",
    "    )\n",
    "\n",
    "\n",
    "plt.title('Зависимость стоимости квартиры от числа комнат')\n",
    "plt.xlabel('кол-во комнат')\n",
    "plt.ylabel('стоимость, 100 млн.руб.')\n",
    "plt.ylim(0, 100000000)\n",
    "plt.show()\n",
    "print('Корреляция цены и числа комнат:','\\n')\n",
    "print(df.query('rooms > 0').pivot_table(index='floor', values=['rooms', 'last_price']).corr(),'\\n')\n",
    "print(f'Из графика видно, что больше всего данных для квартир стоимостью до 20 млн. руб и кол-вом комнат от 1 до 3. Для этого диапазона: с учеличение числа комнат до 3 комнат стоимость квартир растет, от 3 до 4 - цена примерно одинаковая, для 5 комнат стоимость снижается. Это можно объяснить тем, что в старом фонде есть 5-ти комнатные квартиры с маленькой площадью комнат.')\n",
    "\n",
    "\n",
    "# Зависимость цены от типа этажа\n",
    "(\n",
    "    df.pivot_table(index='floor_type', values='last_price')\n",
    "    .plot(grid=True, style='o-', figsize=(5, 5))\n",
    ")\n",
    "plt.show()\n",
    "\n",
    "#Зависимость цены от даты размещения\n",
    "\n",
    "(\n",
    "    df.pivot_table(index='weekday', values='last_price')\n",
    "    .plot(grid=True, style='o-', figsize=(5, 5))\n",
    ")\n",
    "plt.show()\n",
    "\n",
    "# Зависимость от месяца размещения\n",
    "(\n",
    "    df.pivot_table(index='month', values='last_price')\n",
    "    .plot(grid=True, style='o-', xlim=(1,12), figsize=(10, 5))\n",
    ")\n",
    "plt.show()\n",
    "\n",
    "# Зависимость от года размещения\n",
    "(\n",
    "    df.pivot_table(index='year', values='last_price')\n",
    "    .plot(grid=True, style='o-', figsize=(5, 5))\n",
    ")\n",
    "plt.show()"
   ]
  },
  {
   "cell_type": "markdown",
   "id": "2a32ae13",
   "metadata": {},
   "source": [
    "<div class=\"alert alert-block alert-success\">\n",
    "\n",
    "**Комментарий ревьювера (все отлично)**\n",
    "    \n",
    "Для категориальных данных, как тип этажа, кол-во комнат и даты размещения объявления усредненные показатели подходят, так как зависимость нелинейна.\n",
    "</div>"
   ]
  },
  {
   "cell_type": "markdown",
   "id": "c75970f0",
   "metadata": {},
   "source": [
    "***Вывод***\n",
    "\n",
    "***Площадь***\n",
    "\n",
    "Чем больше площадь, тем выше стоимость. Корреляция этих параметров крайне высокая. Число комнат влияет на цену (больше комнат - больше цена), однако зависимость ниже, чем у площади. Можно сделать два вывода: бывают квартиры с большими по площади комнатами;\n",
    "\n",
    "***Размер кухни***\n",
    "\n",
    "Чем больше кухня, тем больше цена на эту квартиру, кореляция умеренная, но скорее всего это связано с общей площадью квартиры, так как эти параметры ростут зачастую вместе.\n",
    "\n",
    "***Этаж***\n",
    "\n",
    "Первый этаж непосредственно влияет на стоимость квартиры - в среднем квартиры на 1-м этаже значительно дешевле. Чуть дороже последний этаж. Наибольшая стоимость у квартир, расположенных не на 1-м и не на последнем этаже.\n",
    "\n",
    "***Зависимость от дня, месяца и года***\n",
    "\n",
    "День недели: дороже всего квартиры, опубликованные в среду, дешевле всего - в субботу.\n",
    "\n",
    "Месяц: дороже всего квартиры, продающиеся с апреля, дешевле всего - с июня.\n",
    "\n",
    "Год: квартиры очень сильно подешевели в 2016-2018 годах, что, вероятно, вызвано некоторым кризисом 2014-2015 годов. В 2019 году цены снова стали повышаться, т.к. экономика и зарплаты скорее на подъёме.\n",
    "\n",
    "## Дополненны вывод:\n",
    "***На общую (полную) стоимость объекта больше всего влияет общая площадь квартиры и этаж расположения квартиры. Чем больше площадь, тем выше стоимость. На первом и последнем этажах стоимость квартиры меньше, чем на остальных. Дата публикации объявления на стоимость не влияет***\n",
    "\n"
   ]
  },
  {
   "cell_type": "markdown",
   "id": "bf01b50c",
   "metadata": {},
   "source": [
    "### 4. Сравнение средней стоимости квадратного метра в топ-10 городов"
   ]
  },
  {
   "cell_type": "code",
   "execution_count": 30,
   "id": "b45c35be",
   "metadata": {
    "scrolled": true
   },
   "outputs": [
    {
     "data": {
      "text/html": [
       "<div>\n",
       "<style scoped>\n",
       "    .dataframe tbody tr th:only-of-type {\n",
       "        vertical-align: middle;\n",
       "    }\n",
       "\n",
       "    .dataframe tbody tr th {\n",
       "        vertical-align: top;\n",
       "    }\n",
       "\n",
       "    .dataframe thead th {\n",
       "        text-align: right;\n",
       "    }\n",
       "</style>\n",
       "<table border=\"1\" class=\"dataframe\">\n",
       "  <thead>\n",
       "    <tr style=\"text-align: right;\">\n",
       "      <th></th>\n",
       "      <th>sm_price</th>\n",
       "    </tr>\n",
       "    <tr>\n",
       "      <th>locality_name</th>\n",
       "      <th></th>\n",
       "    </tr>\n",
       "  </thead>\n",
       "  <tbody>\n",
       "    <tr>\n",
       "      <th>санкт-петербург</th>\n",
       "      <td>114868</td>\n",
       "    </tr>\n",
       "    <tr>\n",
       "      <th>пушкин</th>\n",
       "      <td>103125</td>\n",
       "    </tr>\n",
       "    <tr>\n",
       "      <th>кудрово</th>\n",
       "      <td>95260</td>\n",
       "    </tr>\n",
       "    <tr>\n",
       "      <th>парголово</th>\n",
       "      <td>90175</td>\n",
       "    </tr>\n",
       "    <tr>\n",
       "      <th>мурино</th>\n",
       "      <td>86040</td>\n",
       "    </tr>\n",
       "    <tr>\n",
       "      <th>шушары</th>\n",
       "      <td>78550</td>\n",
       "    </tr>\n",
       "    <tr>\n",
       "      <th>колпино</th>\n",
       "      <td>75424</td>\n",
       "    </tr>\n",
       "    <tr>\n",
       "      <th>гатчина</th>\n",
       "      <td>68745</td>\n",
       "    </tr>\n",
       "    <tr>\n",
       "      <th>всеволожск</th>\n",
       "      <td>68654</td>\n",
       "    </tr>\n",
       "    <tr>\n",
       "      <th>выборг</th>\n",
       "      <td>58141</td>\n",
       "    </tr>\n",
       "  </tbody>\n",
       "</table>\n",
       "</div>"
      ],
      "text/plain": [
       "                 sm_price\n",
       "locality_name            \n",
       "санкт-петербург    114868\n",
       "пушкин             103125\n",
       "кудрово             95260\n",
       "парголово           90175\n",
       "мурино              86040\n",
       "шушары              78550\n",
       "колпино             75424\n",
       "гатчина             68745\n",
       "всеволожск          68654\n",
       "выборг              58141"
      ]
     },
     "execution_count": 30,
     "metadata": {},
     "output_type": "execute_result"
    }
   ],
   "source": [
    "# Сравниваем среднюю стоимость квадратного метра в топ-10 городов по числу объявлений\n",
    "city_ten = df['locality_name'].value_counts().head(10)\n",
    "city_sm_price = df.query('locality_name in (@city_ten.index)').pivot_table(values='sm_price', index='locality_name')\n",
    "city_sm_price = city_sm_price.astype(int)\n",
    "city_sm_price.sort_values('sm_price', ascending=False)"
   ]
  },
  {
   "cell_type": "markdown",
   "id": "bd27ba34",
   "metadata": {},
   "source": [
    "***Вывод***\n",
    "\n",
    "Как и следовало ожидать, самая большая стоимость квадратного метра в городе Санкт-Петербурге, далее идут города спутники, которые находжятся вблизи города.\n",
    "\n",
    "Объеденяющие факты о городах, которые оказались в топ 10 - это близкое удаление от города, это и оъясняет стоимость. Люди могут работать в городе, но при этом достаточно быстро добраться до дома\n"
   ]
  },
  {
   "cell_type": "markdown",
   "id": "a1bb331c",
   "metadata": {},
   "source": [
    "### Выделим квартиры в Санкт-Петербурге с помощью столбца locality_name и вычислим их среднюю стоимость на разном удалении от центра\n"
   ]
  },
  {
   "cell_type": "code",
   "execution_count": 31,
   "id": "9317944f",
   "metadata": {},
   "outputs": [
    {
     "data": {
      "text/plain": [
       "count    15591.000000\n",
       "mean        11.583414\n",
       "std          4.854068\n",
       "min          0.000000\n",
       "25%          8.000000\n",
       "50%         12.000000\n",
       "75%         15.000000\n",
       "max         29.000000\n",
       "Name: distans, dtype: float64"
      ]
     },
     "execution_count": 31,
     "metadata": {},
     "output_type": "execute_result"
    }
   ],
   "source": [
    "df.query('locality_name == \"санкт-петербург\"')['distans'].describe()"
   ]
  },
  {
   "cell_type": "code",
   "execution_count": 32,
   "id": "c56a8ce0",
   "metadata": {},
   "outputs": [
    {
     "data": {
      "image/png": "[encoded data removed]",
      "text/plain": [
       "<Figure size 720x360 with 1 Axes>"
      ]
     },
     "metadata": {
      "needs_background": "light"
     },
     "output_type": "display_data"
    },
    {
     "name": "stdout",
     "output_type": "stream",
     "text": [
      "Таблица средней стоимость квартир в зависимости от удаления центра города Санкт-Петербург\n"
     ]
    },
    {
     "data": {
      "text/html": [
       "<div>\n",
       "<style scoped>\n",
       "    .dataframe tbody tr th:only-of-type {\n",
       "        vertical-align: middle;\n",
       "    }\n",
       "\n",
       "    .dataframe tbody tr th {\n",
       "        vertical-align: top;\n",
       "    }\n",
       "\n",
       "    .dataframe thead th {\n",
       "        text-align: right;\n",
       "    }\n",
       "</style>\n",
       "<table border=\"1\" class=\"dataframe\">\n",
       "  <thead>\n",
       "    <tr style=\"text-align: right;\">\n",
       "      <th></th>\n",
       "      <th>last_price</th>\n",
       "    </tr>\n",
       "    <tr>\n",
       "      <th>distans</th>\n",
       "      <th></th>\n",
       "    </tr>\n",
       "  </thead>\n",
       "  <tbody>\n",
       "    <tr>\n",
       "      <th>0.0</th>\n",
       "      <td>3.144912e+07</td>\n",
       "    </tr>\n",
       "    <tr>\n",
       "      <th>1.0</th>\n",
       "      <td>2.120672e+07</td>\n",
       "    </tr>\n",
       "    <tr>\n",
       "      <th>2.0</th>\n",
       "      <td>1.778832e+07</td>\n",
       "    </tr>\n",
       "    <tr>\n",
       "      <th>3.0</th>\n",
       "      <td>1.113739e+07</td>\n",
       "    </tr>\n",
       "    <tr>\n",
       "      <th>4.0</th>\n",
       "      <td>1.330428e+07</td>\n",
       "    </tr>\n",
       "    <tr>\n",
       "      <th>5.0</th>\n",
       "      <td>1.445600e+07</td>\n",
       "    </tr>\n",
       "    <tr>\n",
       "      <th>6.0</th>\n",
       "      <td>1.533842e+07</td>\n",
       "    </tr>\n",
       "    <tr>\n",
       "      <th>7.0</th>\n",
       "      <td>1.477515e+07</td>\n",
       "    </tr>\n",
       "    <tr>\n",
       "      <th>8.0</th>\n",
       "      <td>9.949111e+06</td>\n",
       "    </tr>\n",
       "    <tr>\n",
       "      <th>9.0</th>\n",
       "      <td>6.956583e+06</td>\n",
       "    </tr>\n",
       "  </tbody>\n",
       "</table>\n",
       "</div>"
      ],
      "text/plain": [
       "           last_price\n",
       "distans              \n",
       "0.0      3.144912e+07\n",
       "1.0      2.120672e+07\n",
       "2.0      1.778832e+07\n",
       "3.0      1.113739e+07\n",
       "4.0      1.330428e+07\n",
       "5.0      1.445600e+07\n",
       "6.0      1.533842e+07\n",
       "7.0      1.477515e+07\n",
       "8.0      9.949111e+06\n",
       "9.0      6.956583e+06"
      ]
     },
     "execution_count": 32,
     "metadata": {},
     "output_type": "execute_result"
    }
   ],
   "source": [
    "(\n",
    "    df.query('locality_name == \"санкт-петербург\"')\n",
    "    .pivot_table(index='distans', values='last_price')\n",
    "    .plot(grid=True, style='o-', xlim=(0,30), figsize=(10, 5))\n",
    ")\n",
    "plt.title('Зависимость цены от удаления от центра города в Санкт-Петербурге')\n",
    "plt.xlabel('Расстояние от центра города (километр)')\n",
    "plt.ylabel('Цена (млн. руб.)')\n",
    "plt.show()\n",
    "print('Таблица средней стоимость квартир в зависимости от удаления центра города Санкт-Петербург')\n",
    "df.query('locality_name == \"санкт-петербург\" and distans<10').pivot_table(values='last_price', index='distans')"
   ]
  },
  {
   "cell_type": "markdown",
   "id": "a52471b6",
   "metadata": {},
   "source": [
    "***Вывод***\n",
    "\n",
    "Как и следовало ожидать, чем дальше квартира удалена от центра, тем меньше она стоит.\n",
    "\n"
   ]
  },
  {
   "cell_type": "markdown",
   "id": "4ea39d32",
   "metadata": {},
   "source": [
    "## Общий вывод"
   ]
  },
  {
   "cell_type": "markdown",
   "id": "4f98924d",
   "metadata": {},
   "source": [
    "В процессе исследования объявлений о продаже квартир были выполнены следующие этапы и сделаны выводы:\n",
    "    \n",
    "Изучили общую информацию о данных\n",
    "В данных 23699 записи. Для целого ряда столбцов, есть пропущенные значения и некорректный тип данных. По гисторгаммам видно, что в данных есть аномальные значения. Явные дубликаты отсутствуют. Данные признаны полными и достаточными для исследования.\n",
    "\n",
    "Выполнена предобработка данных:\n",
    "\n",
    "- Переименовали название столбца ***cityCenters_nearest*** на ***city_centers_nearest***.\n",
    "- Заполнили явные пропуски в таблице, округлили значение до значащих величин.\n",
    "- Изменили тип данных, в соответствии с данными находящимися в столбцах.\n",
    "\n",
    "Сделали вывод о причинах появления пропусков:\n",
    "- Человеческий фактор.\n",
    "- Несовершенство программной оболочки (не все поля обязательные).\n",
    "- Возможны программные сбои.\n",
    "\n",
    "Добавлены новые столбцы в таблицу для проведения следующего этапа:\n",
    "\n",
    "- ***price_square_meter*** - цена квадратного метра объекта с точностью до двух знаков после запятой.\n",
    "- ***day_publication*** - день недели публикации объявления (0 — понедельник, 1 — вторник и так далее).\n",
    "- ***month_publication*** - месяц публикации объявления.\n",
    "- ***year_publication*** - год публикации объявления.\n",
    "- ***type_apartment_floor*** - тип этажа квартиры (значения — «первый», «последний», «другой»).\n",
    "- ***distance*** - расстояние до центра города в целых километрах.\n",
    "\n",
    "Изучены и описаны параметры:\n",
    "\n",
    "- Среднестатистическое предложение, это квартира в пятиэтажном доме средней площадью 52 кв. метра с кухней в 6 кв. метров, высотой потолков 2,65 метра, скорее всего однокомнатная или двухкомнатная с маленькими комнатками, на удалении 13 км. или 5 км. от центра города\n",
    "\n",
    "Изучено, как быстро ***продавались квартиры***\n",
    "\n",
    "- Среднее значение продажи составляет 180 дня, при этом медианное значение составляет 95 дня, оно более точно характеризует среднее время продажи, так как не зависит от выбросов и нестандартных значений.\n",
    "- В среднем продажа средне статистической квартиры занимает 2-3 месяца в зависимости от сопутствующих факторов(площади, цены, удалённости от центра).\n",
    "- Быстрыми продажами можно считать продажи состоявшиеся за 45 дней (в первом квартиле), а необычно долгие продажи после 232 дня и более (после 3 квартиля), которые могут совсем не продаваться.\n",
    "\n",
    "\n",
    "Определены факторы, которые ***больше всего влияют*** на общую (полную) ***стоимость объекта***:\n",
    "\n",
    "- Чем больше общая площадь, тем выше стоимость. Корреляция этих параметров крайне высокая.\n",
    "- Число комнат влияет на цену (больше комнат -> больше жилая площадь -> больше цена), однако зависимость ниже, чем у площади, так как бывают квартиры с большими по площади комнатами и квартиры в центре состоят из малого числа комнат, но стоят достаточно высоко.\n",
    "- Первый этаж непосредственно влияет на стоимость квартиры - в среднем квартиры на 1-м этаже значительно дешевле. Чуть дороже последний этаж. Наибольшая стоимость у квартир, расположенных не на 1-м и не на последнем этаже.\n",
    "\n",
    "Посчитана средняя цена одного квадратного метра в 10 населённых пунктах с наибольшим числом объявлений\n",
    "\n",
    "- Наибольшая средняя стоимость квадратного метра, как и ожидалось, в Санкт-Петербурге. Затем идёт Пушкин, что, вероятно, вызвано хорошей застройкой и большим количеством парков. Вполне возможно что данные города пользуются большим спросом из-за хорошей транспортной доступности к городу, эллектрички, метро, общественный транспорт.\n",
    "\n",
    "\n",
    "Вычислена средняя стоимость квартиры на разном удалении от центра Санкт-Петербурга\n",
    "\n",
    "- Самые дорогие квартиры в центре города и их стоимость уменьшается c увеличением расстояния от центра города до 7 километров, далее стоимость не зависит от удаления. Отсутствие зависимости более 7 км скорее всего свзязано с приближением к городам спутникам."
   ]
  }
 ],
 "metadata": {
  "ExecuteTimeLog": [
   {
    "duration": 658,
    "start_time": "2024-03-27T02:01:35.753Z"
   },
   {
    "duration": 281,
    "start_time": "2024-03-27T02:01:36.413Z"
   },
   {
    "duration": 12,
    "start_time": "2024-03-27T02:01:36.696Z"
   },
   {
    "duration": 19,
    "start_time": "2024-03-27T02:01:36.709Z"
   },
   {
    "duration": 1586,
    "start_time": "2024-03-27T02:01:36.730Z"
   },
   {
    "duration": 16,
    "start_time": "2024-03-27T02:01:38.317Z"
   },
   {
    "duration": 7,
    "start_time": "2024-03-27T02:01:38.334Z"
   },
   {
    "duration": 13,
    "start_time": "2024-03-27T02:01:38.342Z"
   },
   {
    "duration": 3,
    "start_time": "2024-03-27T02:01:38.357Z"
   },
   {
    "duration": 5,
    "start_time": "2024-03-27T02:01:38.362Z"
   },
   {
    "duration": 7,
    "start_time": "2024-03-27T02:01:38.368Z"
   },
   {
    "duration": 2,
    "start_time": "2024-03-27T02:01:38.377Z"
   },
   {
    "duration": 248,
    "start_time": "2024-03-27T02:01:38.381Z"
   },
   {
    "duration": 321,
    "start_time": "2024-03-27T02:01:38.631Z"
   },
   {
    "duration": 313,
    "start_time": "2024-03-27T02:01:38.953Z"
   },
   {
    "duration": 316,
    "start_time": "2024-03-27T02:01:39.268Z"
   },
   {
    "duration": 247,
    "start_time": "2024-03-27T02:01:39.585Z"
   },
   {
    "duration": 208,
    "start_time": "2024-03-27T02:01:39.833Z"
   },
   {
    "duration": 429,
    "start_time": "2024-03-27T02:01:40.042Z"
   },
   {
    "duration": 61,
    "start_time": "2024-03-27T02:01:40.472Z"
   },
   {
    "duration": 0,
    "start_time": "2024-03-27T02:01:40.534Z"
   },
   {
    "duration": 0,
    "start_time": "2024-03-27T02:01:40.535Z"
   },
   {
    "duration": 0,
    "start_time": "2024-03-27T02:01:40.536Z"
   },
   {
    "duration": 0,
    "start_time": "2024-03-27T02:01:40.537Z"
   },
   {
    "duration": 0,
    "start_time": "2024-03-27T02:01:40.538Z"
   },
   {
    "duration": 0,
    "start_time": "2024-03-27T02:01:40.539Z"
   },
   {
    "duration": 545,
    "start_time": "2024-03-27T02:01:53.420Z"
   },
   {
    "duration": 540,
    "start_time": "2024-03-27T02:01:53.966Z"
   },
   {
    "duration": 11,
    "start_time": "2024-03-27T02:01:54.508Z"
   },
   {
    "duration": 26,
    "start_time": "2024-03-27T02:01:54.520Z"
   },
   {
    "duration": 1572,
    "start_time": "2024-03-27T02:01:54.548Z"
   },
   {
    "duration": 19,
    "start_time": "2024-03-27T02:01:56.121Z"
   },
   {
    "duration": 7,
    "start_time": "2024-03-27T02:01:56.142Z"
   },
   {
    "duration": 19,
    "start_time": "2024-03-27T02:01:56.150Z"
   },
   {
    "duration": 5,
    "start_time": "2024-03-27T02:01:56.170Z"
   },
   {
    "duration": 13,
    "start_time": "2024-03-27T02:01:56.176Z"
   },
   {
    "duration": 15,
    "start_time": "2024-03-27T02:01:56.190Z"
   },
   {
    "duration": 9,
    "start_time": "2024-03-27T02:01:56.206Z"
   },
   {
    "duration": 245,
    "start_time": "2024-03-27T02:01:56.216Z"
   },
   {
    "duration": 312,
    "start_time": "2024-03-27T02:01:56.463Z"
   },
   {
    "duration": 307,
    "start_time": "2024-03-27T02:01:56.777Z"
   },
   {
    "duration": 321,
    "start_time": "2024-03-27T02:01:57.086Z"
   },
   {
    "duration": 269,
    "start_time": "2024-03-27T02:01:57.408Z"
   },
   {
    "duration": 217,
    "start_time": "2024-03-27T02:01:57.678Z"
   },
   {
    "duration": 415,
    "start_time": "2024-03-27T02:01:57.896Z"
   },
   {
    "duration": 32,
    "start_time": "2024-03-27T02:01:58.312Z"
   },
   {
    "duration": 270,
    "start_time": "2024-03-27T02:01:58.345Z"
   },
   {
    "duration": 987,
    "start_time": "2024-03-27T02:01:58.616Z"
   },
   {
    "duration": 19,
    "start_time": "2024-03-27T02:01:59.604Z"
   },
   {
    "duration": 9,
    "start_time": "2024-03-27T02:01:59.625Z"
   },
   {
    "duration": 173,
    "start_time": "2024-03-27T02:01:59.635Z"
   },
   {
    "duration": 30,
    "start_time": "2024-03-27T02:22:21.553Z"
   },
   {
    "duration": 12,
    "start_time": "2024-03-27T02:22:48.547Z"
   },
   {
    "duration": 568,
    "start_time": "2024-03-27T02:22:57.519Z"
   },
   {
    "duration": 285,
    "start_time": "2024-03-27T02:22:58.088Z"
   },
   {
    "duration": 12,
    "start_time": "2024-03-27T02:22:58.374Z"
   },
   {
    "duration": 29,
    "start_time": "2024-03-27T02:22:58.387Z"
   },
   {
    "duration": 1553,
    "start_time": "2024-03-27T02:22:58.417Z"
   },
   {
    "duration": 15,
    "start_time": "2024-03-27T02:22:59.972Z"
   },
   {
    "duration": 19,
    "start_time": "2024-03-27T02:22:59.988Z"
   },
   {
    "duration": 73,
    "start_time": "2024-03-27T02:23:00.008Z"
   },
   {
    "duration": 52,
    "start_time": "2024-03-27T02:23:00.083Z"
   },
   {
    "duration": 49,
    "start_time": "2024-03-27T02:23:00.138Z"
   },
   {
    "duration": 25,
    "start_time": "2024-03-27T02:23:00.189Z"
   },
   {
    "duration": 30,
    "start_time": "2024-03-27T02:23:00.216Z"
   },
   {
    "duration": 269,
    "start_time": "2024-03-27T02:23:00.247Z"
   },
   {
    "duration": 326,
    "start_time": "2024-03-27T02:23:00.518Z"
   },
   {
    "duration": 320,
    "start_time": "2024-03-27T02:23:00.846Z"
   },
   {
    "duration": 334,
    "start_time": "2024-03-27T02:23:01.167Z"
   },
   {
    "duration": 263,
    "start_time": "2024-03-27T02:23:01.503Z"
   },
   {
    "duration": 218,
    "start_time": "2024-03-27T02:23:01.767Z"
   },
   {
    "duration": 397,
    "start_time": "2024-03-27T02:23:01.986Z"
   },
   {
    "duration": 22,
    "start_time": "2024-03-27T02:23:02.384Z"
   },
   {
    "duration": 32,
    "start_time": "2024-03-27T02:23:02.407Z"
   },
   {
    "duration": 11,
    "start_time": "2024-03-27T02:23:02.440Z"
   },
   {
    "duration": 293,
    "start_time": "2024-03-27T02:23:02.452Z"
   },
   {
    "duration": 1079,
    "start_time": "2024-03-27T02:23:02.746Z"
   },
   {
    "duration": 20,
    "start_time": "2024-03-27T02:23:03.826Z"
   },
   {
    "duration": 10,
    "start_time": "2024-03-27T02:23:03.847Z"
   },
   {
    "duration": 176,
    "start_time": "2024-03-27T02:23:03.858Z"
   },
   {
    "duration": 8,
    "start_time": "2024-03-27T02:24:08.850Z"
   },
   {
    "duration": 548,
    "start_time": "2024-03-27T02:34:21.815Z"
   },
   {
    "duration": 295,
    "start_time": "2024-03-27T02:34:22.365Z"
   },
   {
    "duration": 11,
    "start_time": "2024-03-27T02:34:22.662Z"
   },
   {
    "duration": 27,
    "start_time": "2024-03-27T02:34:22.675Z"
   },
   {
    "duration": 1556,
    "start_time": "2024-03-27T02:34:22.703Z"
   },
   {
    "duration": 15,
    "start_time": "2024-03-27T02:34:24.260Z"
   },
   {
    "duration": 9,
    "start_time": "2024-03-27T02:34:24.276Z"
   },
   {
    "duration": 22,
    "start_time": "2024-03-27T02:34:24.286Z"
   },
   {
    "duration": 4,
    "start_time": "2024-03-27T02:34:24.309Z"
   },
   {
    "duration": 6,
    "start_time": "2024-03-27T02:34:24.315Z"
   },
   {
    "duration": 11,
    "start_time": "2024-03-27T02:34:24.322Z"
   },
   {
    "duration": 2,
    "start_time": "2024-03-27T02:34:24.334Z"
   },
   {
    "duration": 222,
    "start_time": "2024-03-27T02:34:24.337Z"
   },
   {
    "duration": 322,
    "start_time": "2024-03-27T02:34:24.560Z"
   },
   {
    "duration": 317,
    "start_time": "2024-03-27T02:34:24.884Z"
   },
   {
    "duration": 311,
    "start_time": "2024-03-27T02:34:25.203Z"
   },
   {
    "duration": 251,
    "start_time": "2024-03-27T02:34:25.516Z"
   },
   {
    "duration": 218,
    "start_time": "2024-03-27T02:34:25.768Z"
   },
   {
    "duration": 405,
    "start_time": "2024-03-27T02:34:25.987Z"
   },
   {
    "duration": 36,
    "start_time": "2024-03-27T02:34:26.393Z"
   },
   {
    "duration": 275,
    "start_time": "2024-03-27T02:34:26.430Z"
   },
   {
    "duration": 1006,
    "start_time": "2024-03-27T02:34:26.706Z"
   },
   {
    "duration": 20,
    "start_time": "2024-03-27T02:34:27.714Z"
   },
   {
    "duration": 15,
    "start_time": "2024-03-27T02:34:27.736Z"
   },
   {
    "duration": 170,
    "start_time": "2024-03-27T02:34:27.753Z"
   },
   {
    "duration": 919,
    "start_time": "2024-03-27T06:36:00.207Z"
   },
   {
    "duration": 343,
    "start_time": "2024-03-27T06:36:06.458Z"
   },
   {
    "duration": 18,
    "start_time": "2024-03-27T06:36:08.605Z"
   },
   {
    "duration": 24,
    "start_time": "2024-03-27T06:36:12.931Z"
   },
   {
    "duration": 2224,
    "start_time": "2024-03-27T06:36:24.557Z"
   },
   {
    "duration": 29,
    "start_time": "2024-03-27T06:51:32.273Z"
   },
   {
    "duration": 11,
    "start_time": "2024-03-27T06:51:32.737Z"
   },
   {
    "duration": 5,
    "start_time": "2024-03-27T06:53:21.067Z"
   },
   {
    "duration": 6,
    "start_time": "2024-03-27T06:53:50.414Z"
   },
   {
    "duration": 96,
    "start_time": "2024-03-27T06:58:20.973Z"
   },
   {
    "duration": 99,
    "start_time": "2024-03-27T06:58:28.264Z"
   },
   {
    "duration": 99,
    "start_time": "2024-03-27T06:58:33.470Z"
   },
   {
    "duration": 104,
    "start_time": "2024-03-27T06:59:38.513Z"
   },
   {
    "duration": 1304,
    "start_time": "2024-03-27T07:07:17.770Z"
   },
   {
    "duration": 1361,
    "start_time": "2024-03-27T07:07:30.079Z"
   },
   {
    "duration": 2,
    "start_time": "2024-03-27T07:07:39.449Z"
   },
   {
    "duration": 348,
    "start_time": "2024-03-27T07:07:39.907Z"
   },
   {
    "duration": 31,
    "start_time": "2024-03-27T07:07:40.258Z"
   },
   {
    "duration": 29,
    "start_time": "2024-03-27T07:07:40.336Z"
   },
   {
    "duration": 2108,
    "start_time": "2024-03-27T07:07:40.839Z"
   },
   {
    "duration": 26,
    "start_time": "2024-03-27T07:07:42.949Z"
   },
   {
    "duration": 9,
    "start_time": "2024-03-27T07:07:42.977Z"
   },
   {
    "duration": 33,
    "start_time": "2024-03-27T07:07:42.988Z"
   },
   {
    "duration": 5,
    "start_time": "2024-03-27T07:07:43.023Z"
   },
   {
    "duration": 7,
    "start_time": "2024-03-27T07:07:43.029Z"
   },
   {
    "duration": 10,
    "start_time": "2024-03-27T07:07:43.038Z"
   },
   {
    "duration": 4,
    "start_time": "2024-03-27T07:07:43.073Z"
   },
   {
    "duration": 284,
    "start_time": "2024-03-27T07:07:43.078Z"
   },
   {
    "duration": 380,
    "start_time": "2024-03-27T07:07:43.364Z"
   },
   {
    "duration": 446,
    "start_time": "2024-03-27T07:07:43.746Z"
   },
   {
    "duration": 386,
    "start_time": "2024-03-27T07:07:44.194Z"
   },
   {
    "duration": 453,
    "start_time": "2024-03-27T07:07:45.122Z"
   },
   {
    "duration": 144,
    "start_time": "2024-03-27T07:07:45.795Z"
   },
   {
    "duration": 532,
    "start_time": "2024-03-27T07:07:46.490Z"
   },
   {
    "duration": 47,
    "start_time": "2024-03-27T07:07:47.605Z"
   },
   {
    "duration": 300,
    "start_time": "2024-03-27T07:07:48.289Z"
   },
   {
    "duration": 1397,
    "start_time": "2024-03-27T07:07:49.470Z"
   },
   {
    "duration": 26,
    "start_time": "2024-03-27T07:07:50.873Z"
   },
   {
    "duration": 13,
    "start_time": "2024-03-27T07:07:51.520Z"
   },
   {
    "duration": 219,
    "start_time": "2024-03-27T07:07:51.758Z"
   },
   {
    "duration": 466,
    "start_time": "2024-03-27T07:08:33.282Z"
   },
   {
    "duration": 422,
    "start_time": "2024-03-27T07:09:42.634Z"
   },
   {
    "duration": 302,
    "start_time": "2024-03-27T07:09:49.109Z"
   },
   {
    "duration": 330,
    "start_time": "2024-03-27T07:09:56.749Z"
   },
   {
    "duration": 609,
    "start_time": "2024-03-27T07:11:37.424Z"
   },
   {
    "duration": 333,
    "start_time": "2024-03-27T07:14:40.027Z"
   },
   {
    "duration": 129,
    "start_time": "2024-03-27T07:15:00.201Z"
   },
   {
    "duration": 1383,
    "start_time": "2024-03-27T07:15:08.876Z"
   },
   {
    "duration": 406,
    "start_time": "2024-03-27T07:15:17.990Z"
   },
   {
    "duration": 11,
    "start_time": "2024-03-27T07:19:05.017Z"
   },
   {
    "duration": 12,
    "start_time": "2024-03-27T07:19:19.656Z"
   },
   {
    "duration": 10,
    "start_time": "2024-03-27T07:20:55.791Z"
   },
   {
    "duration": 311,
    "start_time": "2024-03-27T07:21:07.567Z"
   },
   {
    "duration": 8,
    "start_time": "2024-03-27T07:26:24.366Z"
   },
   {
    "duration": 11,
    "start_time": "2024-03-27T07:26:30.819Z"
   },
   {
    "duration": 9,
    "start_time": "2024-03-27T07:27:16.469Z"
   },
   {
    "duration": 142,
    "start_time": "2024-03-27T07:27:22.956Z"
   },
   {
    "duration": 3,
    "start_time": "2024-03-27T07:27:39.048Z"
   },
   {
    "duration": 217,
    "start_time": "2024-03-27T07:27:46.389Z"
   },
   {
    "duration": 9,
    "start_time": "2024-03-27T07:28:13.345Z"
   },
   {
    "duration": 3,
    "start_time": "2024-03-27T07:28:17.395Z"
   },
   {
    "duration": 4,
    "start_time": "2024-03-27T07:28:23.397Z"
   },
   {
    "duration": 3,
    "start_time": "2024-03-27T07:28:32.783Z"
   },
   {
    "duration": 9,
    "start_time": "2024-03-27T07:29:16.984Z"
   },
   {
    "duration": 10,
    "start_time": "2024-03-27T07:29:30.908Z"
   },
   {
    "duration": 4,
    "start_time": "2024-03-27T07:30:34.612Z"
   },
   {
    "duration": 14,
    "start_time": "2024-03-27T07:31:11.534Z"
   },
   {
    "duration": 10,
    "start_time": "2024-03-27T07:31:42.323Z"
   },
   {
    "duration": 127,
    "start_time": "2024-03-27T07:32:31.260Z"
   },
   {
    "duration": 113,
    "start_time": "2024-03-27T07:32:45.012Z"
   },
   {
    "duration": 109,
    "start_time": "2024-03-27T07:32:48.124Z"
   },
   {
    "duration": 9,
    "start_time": "2024-03-27T07:33:38.161Z"
   },
   {
    "duration": 9,
    "start_time": "2024-03-27T07:33:44.068Z"
   },
   {
    "duration": 9,
    "start_time": "2024-03-27T07:35:25.023Z"
   },
   {
    "duration": 8,
    "start_time": "2024-03-27T07:35:44.497Z"
   },
   {
    "duration": 9,
    "start_time": "2024-03-27T07:37:40.116Z"
   },
   {
    "duration": 305,
    "start_time": "2024-03-27T07:40:02.590Z"
   },
   {
    "duration": 98,
    "start_time": "2024-03-27T07:40:29.450Z"
   },
   {
    "duration": 12,
    "start_time": "2024-03-27T08:29:02.277Z"
   },
   {
    "duration": 9,
    "start_time": "2024-03-27T08:29:11.588Z"
   },
   {
    "duration": 17,
    "start_time": "2024-03-27T08:33:01.743Z"
   },
   {
    "duration": 1337,
    "start_time": "2024-03-27T08:33:13.769Z"
   },
   {
    "duration": 1709,
    "start_time": "2024-03-27T08:33:25.594Z"
   },
   {
    "duration": 1404,
    "start_time": "2024-03-27T08:33:39.819Z"
   },
   {
    "duration": 1415,
    "start_time": "2024-03-27T08:34:02.244Z"
   },
   {
    "duration": 1334,
    "start_time": "2024-03-27T08:34:09.857Z"
   },
   {
    "duration": 1634,
    "start_time": "2024-03-27T08:34:18.215Z"
   },
   {
    "duration": 1393,
    "start_time": "2024-03-27T08:36:43.582Z"
   },
   {
    "duration": 116,
    "start_time": "2024-03-27T08:40:17.743Z"
   },
   {
    "duration": 3,
    "start_time": "2024-03-27T08:40:50.244Z"
   },
   {
    "duration": 9,
    "start_time": "2024-03-27T08:41:09.455Z"
   },
   {
    "duration": 9,
    "start_time": "2024-03-27T08:41:16.931Z"
   },
   {
    "duration": 10,
    "start_time": "2024-03-27T08:41:26.019Z"
   },
   {
    "duration": 14,
    "start_time": "2024-03-27T08:41:53.607Z"
   },
   {
    "duration": 13,
    "start_time": "2024-03-27T08:42:17.820Z"
   },
   {
    "duration": 12,
    "start_time": "2024-03-27T08:42:49.896Z"
   },
   {
    "duration": 9,
    "start_time": "2024-03-27T08:51:34.641Z"
   },
   {
    "duration": 3,
    "start_time": "2024-03-27T08:51:55.403Z"
   },
   {
    "duration": 8,
    "start_time": "2024-03-27T08:52:03.953Z"
   },
   {
    "duration": 9,
    "start_time": "2024-03-27T08:52:11.378Z"
   },
   {
    "duration": 11,
    "start_time": "2024-03-27T08:52:18.341Z"
   },
   {
    "duration": 1216,
    "start_time": "2024-03-27T08:53:06.052Z"
   },
   {
    "duration": 12,
    "start_time": "2024-03-27T08:53:17.406Z"
   },
   {
    "duration": 9,
    "start_time": "2024-03-27T08:53:26.239Z"
   },
   {
    "duration": 4,
    "start_time": "2024-03-27T08:55:22.465Z"
   },
   {
    "duration": 3,
    "start_time": "2024-03-27T08:55:49.441Z"
   },
   {
    "duration": 18,
    "start_time": "2024-03-27T08:56:22.578Z"
   },
   {
    "duration": 645,
    "start_time": "2024-03-27T08:56:39.305Z"
   },
   {
    "duration": 100,
    "start_time": "2024-03-27T08:57:08.720Z"
   },
   {
    "duration": 4,
    "start_time": "2024-03-27T08:59:23.555Z"
   },
   {
    "duration": 20,
    "start_time": "2024-03-27T09:06:49.365Z"
   },
   {
    "duration": 3,
    "start_time": "2024-03-27T09:06:51.849Z"
   },
   {
    "duration": 18,
    "start_time": "2024-03-27T09:06:53.324Z"
   },
   {
    "duration": 3,
    "start_time": "2024-03-27T09:08:18.237Z"
   },
   {
    "duration": 12,
    "start_time": "2024-03-27T09:08:19.681Z"
   },
   {
    "duration": 4,
    "start_time": "2024-03-27T09:09:21.477Z"
   },
   {
    "duration": 20,
    "start_time": "2024-03-27T09:09:22.252Z"
   },
   {
    "duration": 13,
    "start_time": "2024-03-27T09:09:48.677Z"
   },
   {
    "duration": 12,
    "start_time": "2024-03-27T09:10:21.335Z"
   },
   {
    "duration": 12,
    "start_time": "2024-03-27T09:10:32.381Z"
   },
   {
    "duration": 678,
    "start_time": "2024-03-27T09:10:33.116Z"
   },
   {
    "duration": 4,
    "start_time": "2024-03-27T09:11:14.194Z"
   },
   {
    "duration": 3,
    "start_time": "2024-03-27T09:11:14.728Z"
   },
   {
    "duration": 14,
    "start_time": "2024-03-27T09:11:16.965Z"
   },
   {
    "duration": 3,
    "start_time": "2024-03-27T09:21:11.485Z"
   },
   {
    "duration": 18,
    "start_time": "2024-03-27T09:21:12.392Z"
   },
   {
    "duration": 660,
    "start_time": "2024-03-27T09:21:46.817Z"
   },
   {
    "duration": 744,
    "start_time": "2024-03-27T09:21:58.671Z"
   },
   {
    "duration": 12,
    "start_time": "2024-03-27T09:23:46.534Z"
   },
   {
    "duration": 12,
    "start_time": "2024-03-27T09:24:02.004Z"
   },
   {
    "duration": 3,
    "start_time": "2024-03-27T09:24:14.471Z"
   },
   {
    "duration": 12,
    "start_time": "2024-03-27T09:24:15.954Z"
   },
   {
    "duration": 735,
    "start_time": "2024-03-27T09:24:17.630Z"
   },
   {
    "duration": 12,
    "start_time": "2024-03-27T09:24:49.668Z"
   },
   {
    "duration": 698,
    "start_time": "2024-03-27T09:25:03.258Z"
   },
   {
    "duration": 3,
    "start_time": "2024-03-27T09:25:47.346Z"
   },
   {
    "duration": 20,
    "start_time": "2024-03-27T09:25:47.895Z"
   },
   {
    "duration": 184,
    "start_time": "2024-03-27T09:30:52.446Z"
   },
   {
    "duration": 168,
    "start_time": "2024-03-27T09:31:08.257Z"
   },
   {
    "duration": 170,
    "start_time": "2024-03-27T09:31:44.634Z"
   },
   {
    "duration": 162,
    "start_time": "2024-03-27T09:32:03.599Z"
   },
   {
    "duration": 188,
    "start_time": "2024-03-27T09:32:17.259Z"
   },
   {
    "duration": 204,
    "start_time": "2024-03-27T09:34:41.291Z"
   },
   {
    "duration": 276,
    "start_time": "2024-03-27T09:34:54.041Z"
   },
   {
    "duration": 186,
    "start_time": "2024-03-27T09:34:58.477Z"
   },
   {
    "duration": 188,
    "start_time": "2024-03-27T09:35:22.342Z"
   },
   {
    "duration": 190,
    "start_time": "2024-03-27T09:35:29.893Z"
   },
   {
    "duration": 10,
    "start_time": "2024-03-27T09:37:33.717Z"
   },
   {
    "duration": 206,
    "start_time": "2024-03-27T09:38:02.067Z"
   },
   {
    "duration": 232,
    "start_time": "2024-03-27T09:38:16.368Z"
   },
   {
    "duration": 155,
    "start_time": "2024-03-27T09:38:45.054Z"
   },
   {
    "duration": 150,
    "start_time": "2024-03-27T09:38:50.955Z"
   },
   {
    "duration": 183,
    "start_time": "2024-03-27T09:38:56.042Z"
   },
   {
    "duration": 184,
    "start_time": "2024-03-27T09:38:59.517Z"
   },
   {
    "duration": 251,
    "start_time": "2024-03-27T09:39:07.024Z"
   },
   {
    "duration": 258,
    "start_time": "2024-03-27T09:39:26.893Z"
   },
   {
    "duration": 195,
    "start_time": "2024-03-27T09:39:44.469Z"
   },
   {
    "duration": 267,
    "start_time": "2024-03-27T09:48:02.383Z"
   },
   {
    "duration": 195,
    "start_time": "2024-03-27T09:53:29.963Z"
   },
   {
    "duration": 202,
    "start_time": "2024-03-27T09:53:44.014Z"
   },
   {
    "duration": 203,
    "start_time": "2024-03-27T09:54:24.750Z"
   },
   {
    "duration": 188,
    "start_time": "2024-03-27T09:54:31.813Z"
   },
   {
    "duration": 199,
    "start_time": "2024-03-27T09:54:40.162Z"
   },
   {
    "duration": 195,
    "start_time": "2024-03-27T09:55:13.354Z"
   },
   {
    "duration": 229,
    "start_time": "2024-03-27T09:55:32.002Z"
   },
   {
    "duration": 199,
    "start_time": "2024-03-27T09:55:36.613Z"
   },
   {
    "duration": 196,
    "start_time": "2024-03-27T09:55:49.014Z"
   },
   {
    "duration": 211,
    "start_time": "2024-03-27T09:55:55.780Z"
   },
   {
    "duration": 228,
    "start_time": "2024-03-27T09:56:14.927Z"
   },
   {
    "duration": 288,
    "start_time": "2024-03-27T09:56:43.538Z"
   },
   {
    "duration": 228,
    "start_time": "2024-03-27T09:56:50.565Z"
   },
   {
    "duration": 204,
    "start_time": "2024-03-27T09:57:07.150Z"
   },
   {
    "duration": 214,
    "start_time": "2024-03-27T09:57:14.602Z"
   },
   {
    "duration": 249,
    "start_time": "2024-03-27T09:57:23.368Z"
   },
   {
    "duration": 218,
    "start_time": "2024-03-27T09:57:29.638Z"
   },
   {
    "duration": 210,
    "start_time": "2024-03-27T09:57:34.064Z"
   },
   {
    "duration": 213,
    "start_time": "2024-03-27T09:57:38.613Z"
   },
   {
    "duration": 1358,
    "start_time": "2024-03-27T09:59:41.995Z"
   },
   {
    "duration": 1309,
    "start_time": "2024-03-27T10:00:36.223Z"
   },
   {
    "duration": 324,
    "start_time": "2024-03-27T10:00:58.535Z"
   },
   {
    "duration": 220,
    "start_time": "2024-03-27T10:01:44.121Z"
   },
   {
    "duration": 231,
    "start_time": "2024-03-27T10:01:51.563Z"
   },
   {
    "duration": 268,
    "start_time": "2024-03-27T10:02:28.514Z"
   },
   {
    "duration": 37,
    "start_time": "2024-03-27T10:02:40.528Z"
   },
   {
    "duration": 239,
    "start_time": "2024-03-27T10:02:48.963Z"
   },
   {
    "duration": 1376,
    "start_time": "2024-03-27T10:03:02.062Z"
   },
   {
    "duration": 220,
    "start_time": "2024-03-27T10:04:36.827Z"
   },
   {
    "duration": 13,
    "start_time": "2024-03-27T10:05:14.026Z"
   },
   {
    "duration": 143,
    "start_time": "2024-03-27T10:05:20.989Z"
   },
   {
    "duration": 156,
    "start_time": "2024-03-27T10:05:33.515Z"
   },
   {
    "duration": 237,
    "start_time": "2024-03-27T10:07:24.114Z"
   },
   {
    "duration": 223,
    "start_time": "2024-03-27T10:07:36.964Z"
   },
   {
    "duration": 210,
    "start_time": "2024-03-27T10:07:44.290Z"
   },
   {
    "duration": 224,
    "start_time": "2024-03-27T10:08:13.342Z"
   },
   {
    "duration": 213,
    "start_time": "2024-03-27T10:08:44.165Z"
   },
   {
    "duration": 226,
    "start_time": "2024-03-27T10:08:51.915Z"
   },
   {
    "duration": 208,
    "start_time": "2024-03-27T10:09:01.377Z"
   },
   {
    "duration": 221,
    "start_time": "2024-03-27T10:09:49.678Z"
   },
   {
    "duration": 309,
    "start_time": "2024-03-27T10:09:57.277Z"
   },
   {
    "duration": 206,
    "start_time": "2024-03-27T10:10:28.628Z"
   },
   {
    "duration": 252,
    "start_time": "2024-03-27T10:10:50.928Z"
   },
   {
    "duration": 245,
    "start_time": "2024-03-27T10:10:59.202Z"
   },
   {
    "duration": 226,
    "start_time": "2024-03-27T10:11:04.691Z"
   },
   {
    "duration": 250,
    "start_time": "2024-03-27T10:11:09.915Z"
   },
   {
    "duration": 248,
    "start_time": "2024-03-27T10:11:54.667Z"
   },
   {
    "duration": 239,
    "start_time": "2024-03-27T10:13:24.218Z"
   },
   {
    "duration": 257,
    "start_time": "2024-03-27T10:13:32.805Z"
   },
   {
    "duration": 219,
    "start_time": "2024-03-27T10:14:41.043Z"
   },
   {
    "duration": 3,
    "start_time": "2024-03-27T10:15:10.306Z"
   },
   {
    "duration": 236,
    "start_time": "2024-03-27T10:15:10.363Z"
   },
   {
    "duration": 14,
    "start_time": "2024-03-27T10:15:10.601Z"
   },
   {
    "duration": 33,
    "start_time": "2024-03-27T10:15:10.617Z"
   },
   {
    "duration": 2062,
    "start_time": "2024-03-27T10:15:10.653Z"
   },
   {
    "duration": 17,
    "start_time": "2024-03-27T10:15:12.718Z"
   },
   {
    "duration": 13,
    "start_time": "2024-03-27T10:15:12.736Z"
   },
   {
    "duration": 29,
    "start_time": "2024-03-27T10:15:12.751Z"
   },
   {
    "duration": 4,
    "start_time": "2024-03-27T10:15:12.782Z"
   },
   {
    "duration": 38,
    "start_time": "2024-03-27T10:15:12.788Z"
   },
   {
    "duration": 21,
    "start_time": "2024-03-27T10:15:12.827Z"
   },
   {
    "duration": 4,
    "start_time": "2024-03-27T10:15:12.849Z"
   },
   {
    "duration": 310,
    "start_time": "2024-03-27T10:15:12.854Z"
   },
   {
    "duration": 391,
    "start_time": "2024-03-27T10:15:13.166Z"
   },
   {
    "duration": 550,
    "start_time": "2024-03-27T10:15:13.558Z"
   },
   {
    "duration": 372,
    "start_time": "2024-03-27T10:15:14.109Z"
   },
   {
    "duration": 324,
    "start_time": "2024-03-27T10:15:14.483Z"
   },
   {
    "duration": 391,
    "start_time": "2024-03-27T10:15:14.809Z"
   },
   {
    "duration": 633,
    "start_time": "2024-03-27T10:15:15.202Z"
   },
   {
    "duration": 321,
    "start_time": "2024-03-27T10:15:15.837Z"
   },
   {
    "duration": 311,
    "start_time": "2024-03-27T10:15:16.159Z"
   },
   {
    "duration": 9,
    "start_time": "2024-03-27T10:15:16.473Z"
   },
   {
    "duration": 155,
    "start_time": "2024-03-27T10:15:16.484Z"
   },
   {
    "duration": 3,
    "start_time": "2024-03-27T10:15:16.641Z"
   },
   {
    "duration": 18,
    "start_time": "2024-03-27T10:15:16.646Z"
   },
   {
    "duration": 8,
    "start_time": "2024-03-27T10:15:16.666Z"
   },
   {
    "duration": 18,
    "start_time": "2024-03-27T10:15:16.675Z"
   },
   {
    "duration": 21,
    "start_time": "2024-03-27T10:15:16.695Z"
   },
   {
    "duration": 726,
    "start_time": "2024-03-27T10:15:16.718Z"
   },
   {
    "duration": 236,
    "start_time": "2024-03-27T10:15:17.445Z"
   },
   {
    "duration": 1417,
    "start_time": "2024-03-27T10:15:17.684Z"
   },
   {
    "duration": 28,
    "start_time": "2024-03-27T10:15:19.104Z"
   },
   {
    "duration": 14,
    "start_time": "2024-03-27T10:15:19.133Z"
   },
   {
    "duration": 238,
    "start_time": "2024-03-27T10:15:19.149Z"
   },
   {
    "duration": 224,
    "start_time": "2024-03-27T10:15:29.507Z"
   },
   {
    "duration": 228,
    "start_time": "2024-03-27T10:15:40.720Z"
   },
   {
    "duration": 295,
    "start_time": "2024-03-27T10:16:53.920Z"
   },
   {
    "duration": 227,
    "start_time": "2024-03-27T10:17:04.093Z"
   },
   {
    "duration": 213,
    "start_time": "2024-03-27T10:18:03.083Z"
   },
   {
    "duration": 1340,
    "start_time": "2024-03-27T10:21:07.679Z"
   },
   {
    "duration": 1429,
    "start_time": "2024-03-27T10:23:01.348Z"
   },
   {
    "duration": 1408,
    "start_time": "2024-03-27T10:24:20.111Z"
   },
   {
    "duration": 392,
    "start_time": "2024-03-27T10:25:28.112Z"
   },
   {
    "duration": 1455,
    "start_time": "2024-03-27T10:25:48.675Z"
   },
   {
    "duration": 1379,
    "start_time": "2024-03-27T10:26:31.137Z"
   },
   {
    "duration": 608,
    "start_time": "2024-03-27T10:30:10.478Z"
   },
   {
    "duration": 1566,
    "start_time": "2024-03-27T10:30:21.380Z"
   },
   {
    "duration": 1571,
    "start_time": "2024-03-27T10:31:33.042Z"
   },
   {
    "duration": 1545,
    "start_time": "2024-03-27T10:32:08.778Z"
   },
   {
    "duration": 206,
    "start_time": "2024-03-27T10:36:00.659Z"
   },
   {
    "duration": 1499,
    "start_time": "2024-03-27T10:36:02.268Z"
   },
   {
    "duration": 206,
    "start_time": "2024-03-27T10:42:02.428Z"
   },
   {
    "duration": 194,
    "start_time": "2024-03-27T10:42:12.112Z"
   },
   {
    "duration": 309,
    "start_time": "2024-03-27T10:42:22.035Z"
   },
   {
    "duration": 209,
    "start_time": "2024-03-27T10:42:28.974Z"
   },
   {
    "duration": 3,
    "start_time": "2024-03-27T10:46:00.330Z"
   },
   {
    "duration": 308,
    "start_time": "2024-03-27T10:46:00.401Z"
   },
   {
    "duration": 15,
    "start_time": "2024-03-27T10:46:00.711Z"
   },
   {
    "duration": 153,
    "start_time": "2024-03-27T10:46:00.728Z"
   },
   {
    "duration": 2098,
    "start_time": "2024-03-27T10:46:00.882Z"
   },
   {
    "duration": 17,
    "start_time": "2024-03-27T10:46:02.982Z"
   },
   {
    "duration": 16,
    "start_time": "2024-03-27T10:46:03.001Z"
   },
   {
    "duration": 28,
    "start_time": "2024-03-27T10:46:03.019Z"
   },
   {
    "duration": 17,
    "start_time": "2024-03-27T10:46:03.048Z"
   },
   {
    "duration": 16,
    "start_time": "2024-03-27T10:46:03.067Z"
   },
   {
    "duration": 24,
    "start_time": "2024-03-27T10:46:03.085Z"
   },
   {
    "duration": 25,
    "start_time": "2024-03-27T10:46:03.110Z"
   },
   {
    "duration": 305,
    "start_time": "2024-03-27T10:46:03.137Z"
   },
   {
    "duration": 499,
    "start_time": "2024-03-27T10:46:03.444Z"
   },
   {
    "duration": 474,
    "start_time": "2024-03-27T10:46:03.945Z"
   },
   {
    "duration": 380,
    "start_time": "2024-03-27T10:46:04.421Z"
   },
   {
    "duration": 338,
    "start_time": "2024-03-27T10:46:04.802Z"
   },
   {
    "duration": 496,
    "start_time": "2024-03-27T10:46:05.142Z"
   },
   {
    "duration": 557,
    "start_time": "2024-03-27T10:46:05.640Z"
   },
   {
    "duration": 320,
    "start_time": "2024-03-27T10:46:06.199Z"
   },
   {
    "duration": 313,
    "start_time": "2024-03-27T10:46:06.521Z"
   },
   {
    "duration": 9,
    "start_time": "2024-03-27T10:46:06.836Z"
   },
   {
    "duration": 155,
    "start_time": "2024-03-27T10:46:06.846Z"
   },
   {
    "duration": 4,
    "start_time": "2024-03-27T10:46:07.004Z"
   },
   {
    "duration": 15,
    "start_time": "2024-03-27T10:46:07.012Z"
   },
   {
    "duration": 6,
    "start_time": "2024-03-27T10:46:07.029Z"
   },
   {
    "duration": 5,
    "start_time": "2024-03-27T10:46:07.036Z"
   },
   {
    "duration": 72,
    "start_time": "2024-03-27T10:46:07.043Z"
   },
   {
    "duration": 797,
    "start_time": "2024-03-27T10:46:07.116Z"
   },
   {
    "duration": 237,
    "start_time": "2024-03-27T10:46:07.915Z"
   },
   {
    "duration": 1560,
    "start_time": "2024-03-27T10:46:08.154Z"
   },
   {
    "duration": 30,
    "start_time": "2024-03-27T10:46:09.715Z"
   },
   {
    "duration": 34,
    "start_time": "2024-03-27T10:46:09.747Z"
   },
   {
    "duration": 304,
    "start_time": "2024-03-27T10:46:09.783Z"
   },
   {
    "duration": 1078,
    "start_time": "2024-03-27T13:58:06.140Z"
   },
   {
    "duration": 254,
    "start_time": "2024-03-27T13:58:07.220Z"
   },
   {
    "duration": 14,
    "start_time": "2024-03-27T13:58:07.475Z"
   },
   {
    "duration": 22,
    "start_time": "2024-03-27T13:58:07.491Z"
   },
   {
    "duration": 1754,
    "start_time": "2024-03-27T13:58:07.514Z"
   },
   {
    "duration": 18,
    "start_time": "2024-03-27T13:58:09.269Z"
   },
   {
    "duration": 9,
    "start_time": "2024-03-27T13:58:09.288Z"
   },
   {
    "duration": 13,
    "start_time": "2024-03-27T13:58:09.298Z"
   },
   {
    "duration": 4,
    "start_time": "2024-03-27T13:58:09.312Z"
   },
   {
    "duration": 33,
    "start_time": "2024-03-27T13:58:09.318Z"
   },
   {
    "duration": 6,
    "start_time": "2024-03-27T13:58:09.353Z"
   },
   {
    "duration": 3,
    "start_time": "2024-03-27T13:58:09.360Z"
   },
   {
    "duration": 242,
    "start_time": "2024-03-27T13:58:09.364Z"
   },
   {
    "duration": 329,
    "start_time": "2024-03-27T13:58:09.608Z"
   },
   {
    "duration": 366,
    "start_time": "2024-03-27T13:58:09.939Z"
   },
   {
    "duration": 321,
    "start_time": "2024-03-27T13:58:10.306Z"
   },
   {
    "duration": 284,
    "start_time": "2024-03-27T13:58:10.629Z"
   },
   {
    "duration": 440,
    "start_time": "2024-03-27T13:58:10.915Z"
   },
   {
    "duration": 453,
    "start_time": "2024-03-27T13:58:11.357Z"
   },
   {
    "duration": 280,
    "start_time": "2024-03-27T13:58:11.811Z"
   },
   {
    "duration": 267,
    "start_time": "2024-03-27T13:58:12.093Z"
   },
   {
    "duration": 9,
    "start_time": "2024-03-27T13:58:12.361Z"
   },
   {
    "duration": 212,
    "start_time": "2024-03-27T13:58:12.371Z"
   },
   {
    "duration": 3,
    "start_time": "2024-03-27T13:58:12.585Z"
   },
   {
    "duration": 15,
    "start_time": "2024-03-27T13:58:12.589Z"
   },
   {
    "duration": 4,
    "start_time": "2024-03-27T13:58:12.605Z"
   },
   {
    "duration": 3,
    "start_time": "2024-03-27T13:58:12.610Z"
   },
   {
    "duration": 35,
    "start_time": "2024-03-27T13:58:12.615Z"
   },
   {
    "duration": 596,
    "start_time": "2024-03-27T13:58:12.652Z"
   },
   {
    "duration": 199,
    "start_time": "2024-03-27T13:58:13.249Z"
   },
   {
    "duration": 1331,
    "start_time": "2024-03-27T13:58:13.449Z"
   },
   {
    "duration": 25,
    "start_time": "2024-03-27T13:58:14.781Z"
   },
   {
    "duration": 11,
    "start_time": "2024-03-27T13:58:14.807Z"
   },
   {
    "duration": 186,
    "start_time": "2024-03-27T13:58:14.819Z"
   },
   {
    "duration": 1073,
    "start_time": "2024-03-27T14:38:58.643Z"
   },
   {
    "duration": 281,
    "start_time": "2024-03-27T14:38:59.718Z"
   },
   {
    "duration": 14,
    "start_time": "2024-03-27T14:39:00.000Z"
   },
   {
    "duration": 37,
    "start_time": "2024-03-27T14:39:00.016Z"
   },
   {
    "duration": 1751,
    "start_time": "2024-03-27T14:39:00.054Z"
   },
   {
    "duration": 16,
    "start_time": "2024-03-27T14:39:01.806Z"
   },
   {
    "duration": 98,
    "start_time": "2024-03-27T14:39:01.823Z"
   },
   {
    "duration": 116,
    "start_time": "2024-03-27T14:39:01.923Z"
   },
   {
    "duration": 125,
    "start_time": "2024-03-27T14:39:02.040Z"
   },
   {
    "duration": 65,
    "start_time": "2024-03-27T14:39:02.167Z"
   },
   {
    "duration": 31,
    "start_time": "2024-03-27T14:39:02.233Z"
   },
   {
    "duration": 16,
    "start_time": "2024-03-27T14:39:02.266Z"
   },
   {
    "duration": 260,
    "start_time": "2024-03-27T14:39:02.283Z"
   },
   {
    "duration": 309,
    "start_time": "2024-03-27T14:39:02.547Z"
   },
   {
    "duration": 338,
    "start_time": "2024-03-27T14:39:02.858Z"
   },
   {
    "duration": 308,
    "start_time": "2024-03-27T14:39:03.197Z"
   },
   {
    "duration": 296,
    "start_time": "2024-03-27T14:39:03.506Z"
   },
   {
    "duration": 421,
    "start_time": "2024-03-27T14:39:03.803Z"
   },
   {
    "duration": 450,
    "start_time": "2024-03-27T14:39:04.226Z"
   },
   {
    "duration": 258,
    "start_time": "2024-03-27T14:39:04.678Z"
   },
   {
    "duration": 257,
    "start_time": "2024-03-27T14:39:04.938Z"
   },
   {
    "duration": 8,
    "start_time": "2024-03-27T14:39:05.197Z"
   },
   {
    "duration": 221,
    "start_time": "2024-03-27T14:39:05.206Z"
   },
   {
    "duration": 3,
    "start_time": "2024-03-27T14:39:05.428Z"
   },
   {
    "duration": 17,
    "start_time": "2024-03-27T14:39:05.432Z"
   },
   {
    "duration": 3,
    "start_time": "2024-03-27T14:39:05.450Z"
   },
   {
    "duration": 8,
    "start_time": "2024-03-27T14:39:05.454Z"
   },
   {
    "duration": 24,
    "start_time": "2024-03-27T14:39:05.465Z"
   },
   {
    "duration": 619,
    "start_time": "2024-03-27T14:39:05.491Z"
   },
   {
    "duration": 212,
    "start_time": "2024-03-27T14:39:06.111Z"
   },
   {
    "duration": 1363,
    "start_time": "2024-03-27T14:39:06.325Z"
   },
   {
    "duration": 23,
    "start_time": "2024-03-27T14:39:07.689Z"
   },
   {
    "duration": 11,
    "start_time": "2024-03-27T14:39:07.713Z"
   },
   {
    "duration": 183,
    "start_time": "2024-03-27T14:39:07.725Z"
   },
   {
    "duration": 1026,
    "start_time": "2024-03-27T15:56:17.903Z"
   },
   {
    "duration": 206,
    "start_time": "2024-03-27T15:56:18.932Z"
   },
   {
    "duration": 16,
    "start_time": "2024-03-27T15:56:19.139Z"
   },
   {
    "duration": 23,
    "start_time": "2024-03-27T15:56:19.157Z"
   },
   {
    "duration": 1758,
    "start_time": "2024-03-27T15:56:19.182Z"
   },
   {
    "duration": 19,
    "start_time": "2024-03-27T15:56:20.941Z"
   },
   {
    "duration": 9,
    "start_time": "2024-03-27T15:56:20.961Z"
   },
   {
    "duration": 24,
    "start_time": "2024-03-27T15:56:20.971Z"
   },
   {
    "duration": 24,
    "start_time": "2024-03-27T15:56:20.996Z"
   },
   {
    "duration": 9,
    "start_time": "2024-03-27T15:56:21.022Z"
   },
   {
    "duration": 7,
    "start_time": "2024-03-27T15:56:21.032Z"
   },
   {
    "duration": 9,
    "start_time": "2024-03-27T15:56:21.040Z"
   },
   {
    "duration": 238,
    "start_time": "2024-03-27T15:56:21.050Z"
   },
   {
    "duration": 310,
    "start_time": "2024-03-27T15:56:21.289Z"
   },
   {
    "duration": 365,
    "start_time": "2024-03-27T15:56:21.601Z"
   },
   {
    "duration": 322,
    "start_time": "2024-03-27T15:56:21.968Z"
   },
   {
    "duration": 271,
    "start_time": "2024-03-27T15:56:22.292Z"
   },
   {
    "duration": 439,
    "start_time": "2024-03-27T15:56:22.564Z"
   },
   {
    "duration": 444,
    "start_time": "2024-03-27T15:56:23.004Z"
   },
   {
    "duration": 270,
    "start_time": "2024-03-27T15:56:23.450Z"
   },
   {
    "duration": 261,
    "start_time": "2024-03-27T15:56:23.722Z"
   },
   {
    "duration": 9,
    "start_time": "2024-03-27T15:56:23.985Z"
   },
   {
    "duration": 205,
    "start_time": "2024-03-27T15:56:23.995Z"
   },
   {
    "duration": 4,
    "start_time": "2024-03-27T15:56:24.201Z"
   },
   {
    "duration": 9,
    "start_time": "2024-03-27T15:56:24.207Z"
   },
   {
    "duration": 3,
    "start_time": "2024-03-27T15:56:24.218Z"
   },
   {
    "duration": 26,
    "start_time": "2024-03-27T15:56:24.222Z"
   },
   {
    "duration": 17,
    "start_time": "2024-03-27T15:56:24.251Z"
   },
   {
    "duration": 614,
    "start_time": "2024-03-27T15:56:24.270Z"
   },
   {
    "duration": 218,
    "start_time": "2024-03-27T15:56:24.886Z"
   },
   {
    "duration": 1435,
    "start_time": "2024-03-27T15:56:25.105Z"
   },
   {
    "duration": 25,
    "start_time": "2024-03-27T15:56:26.547Z"
   },
   {
    "duration": 11,
    "start_time": "2024-03-27T15:56:26.575Z"
   },
   {
    "duration": 179,
    "start_time": "2024-03-27T15:56:26.587Z"
   },
   {
    "duration": 1092,
    "start_time": "2024-03-27T16:04:09.331Z"
   },
   {
    "duration": 276,
    "start_time": "2024-03-27T16:04:10.425Z"
   },
   {
    "duration": 14,
    "start_time": "2024-03-27T16:04:10.702Z"
   },
   {
    "duration": 29,
    "start_time": "2024-03-27T16:04:10.719Z"
   },
   {
    "duration": 1737,
    "start_time": "2024-03-27T16:04:10.750Z"
   },
   {
    "duration": 17,
    "start_time": "2024-03-27T16:04:12.489Z"
   },
   {
    "duration": 26,
    "start_time": "2024-03-27T16:04:12.507Z"
   },
   {
    "duration": 31,
    "start_time": "2024-03-27T16:04:12.535Z"
   },
   {
    "duration": 21,
    "start_time": "2024-03-27T16:04:12.567Z"
   },
   {
    "duration": 25,
    "start_time": "2024-03-27T16:04:12.591Z"
   },
   {
    "duration": 23,
    "start_time": "2024-03-27T16:04:12.618Z"
   },
   {
    "duration": 17,
    "start_time": "2024-03-27T16:04:12.643Z"
   },
   {
    "duration": 243,
    "start_time": "2024-03-27T16:04:12.662Z"
   },
   {
    "duration": 324,
    "start_time": "2024-03-27T16:04:12.906Z"
   },
   {
    "duration": 388,
    "start_time": "2024-03-27T16:04:13.232Z"
   },
   {
    "duration": 329,
    "start_time": "2024-03-27T16:04:13.622Z"
   },
   {
    "duration": 281,
    "start_time": "2024-03-27T16:04:13.953Z"
   },
   {
    "duration": 439,
    "start_time": "2024-03-27T16:04:14.235Z"
   },
   {
    "duration": 438,
    "start_time": "2024-03-27T16:04:14.675Z"
   },
   {
    "duration": 277,
    "start_time": "2024-03-27T16:04:15.114Z"
   },
   {
    "duration": 263,
    "start_time": "2024-03-27T16:04:15.393Z"
   },
   {
    "duration": 8,
    "start_time": "2024-03-27T16:04:15.657Z"
   },
   {
    "duration": 206,
    "start_time": "2024-03-27T16:04:15.666Z"
   },
   {
    "duration": 4,
    "start_time": "2024-03-27T16:04:15.874Z"
   },
   {
    "duration": 18,
    "start_time": "2024-03-27T16:04:15.880Z"
   },
   {
    "duration": 7,
    "start_time": "2024-03-27T16:04:15.899Z"
   },
   {
    "duration": 12,
    "start_time": "2024-03-27T16:04:15.907Z"
   },
   {
    "duration": 27,
    "start_time": "2024-03-27T16:04:15.922Z"
   },
   {
    "duration": 598,
    "start_time": "2024-03-27T16:04:15.950Z"
   },
   {
    "duration": 200,
    "start_time": "2024-03-27T16:04:16.549Z"
   },
   {
    "duration": 1300,
    "start_time": "2024-03-27T16:04:16.750Z"
   },
   {
    "duration": 24,
    "start_time": "2024-03-27T16:04:18.051Z"
   },
   {
    "duration": 11,
    "start_time": "2024-03-27T16:04:18.076Z"
   },
   {
    "duration": 187,
    "start_time": "2024-03-27T16:04:18.088Z"
   },
   {
    "duration": 49,
    "start_time": "2024-03-27T18:45:19.854Z"
   },
   {
    "duration": 6,
    "start_time": "2024-03-27T18:45:28.705Z"
   },
   {
    "duration": 1413,
    "start_time": "2024-03-27T18:45:41.441Z"
   },
   {
    "duration": 239,
    "start_time": "2024-03-27T18:45:42.858Z"
   },
   {
    "duration": 16,
    "start_time": "2024-03-27T18:45:43.099Z"
   },
   {
    "duration": 44,
    "start_time": "2024-03-27T18:45:43.117Z"
   },
   {
    "duration": 2032,
    "start_time": "2024-03-27T18:45:43.163Z"
   },
   {
    "duration": 19,
    "start_time": "2024-03-27T18:45:45.197Z"
   },
   {
    "duration": 37,
    "start_time": "2024-03-27T18:45:45.218Z"
   },
   {
    "duration": 37,
    "start_time": "2024-03-27T18:45:45.257Z"
   },
   {
    "duration": 28,
    "start_time": "2024-03-27T18:45:45.295Z"
   },
   {
    "duration": 36,
    "start_time": "2024-03-27T18:45:45.325Z"
   },
   {
    "duration": 27,
    "start_time": "2024-03-27T18:45:45.362Z"
   },
   {
    "duration": 10,
    "start_time": "2024-03-27T18:45:45.390Z"
   },
   {
    "duration": 286,
    "start_time": "2024-03-27T18:45:45.401Z"
   },
   {
    "duration": 349,
    "start_time": "2024-03-27T18:45:45.689Z"
   },
   {
    "duration": 404,
    "start_time": "2024-03-27T18:45:46.040Z"
   },
   {
    "duration": 368,
    "start_time": "2024-03-27T18:45:46.446Z"
   },
   {
    "duration": 370,
    "start_time": "2024-03-27T18:45:46.816Z"
   },
   {
    "duration": 486,
    "start_time": "2024-03-27T18:45:47.188Z"
   },
   {
    "duration": 563,
    "start_time": "2024-03-27T18:45:47.676Z"
   },
   {
    "duration": 307,
    "start_time": "2024-03-27T18:45:48.241Z"
   },
   {
    "duration": 291,
    "start_time": "2024-03-27T18:45:48.550Z"
   },
   {
    "duration": 17,
    "start_time": "2024-03-27T18:45:48.843Z"
   },
   {
    "duration": 218,
    "start_time": "2024-03-27T18:45:48.862Z"
   },
   {
    "duration": 4,
    "start_time": "2024-03-27T18:45:49.082Z"
   },
   {
    "duration": 12,
    "start_time": "2024-03-27T18:45:49.088Z"
   },
   {
    "duration": 99,
    "start_time": "2024-03-27T18:45:49.101Z"
   },
   {
    "duration": 0,
    "start_time": "2024-03-27T18:45:49.202Z"
   },
   {
    "duration": 0,
    "start_time": "2024-03-27T18:45:49.204Z"
   },
   {
    "duration": 0,
    "start_time": "2024-03-27T18:45:49.205Z"
   },
   {
    "duration": 0,
    "start_time": "2024-03-27T18:45:49.207Z"
   },
   {
    "duration": 0,
    "start_time": "2024-03-27T18:45:49.209Z"
   },
   {
    "duration": 0,
    "start_time": "2024-03-27T18:45:49.210Z"
   },
   {
    "duration": 0,
    "start_time": "2024-03-27T18:45:49.212Z"
   },
   {
    "duration": 0,
    "start_time": "2024-03-27T18:45:49.213Z"
   },
   {
    "duration": 0,
    "start_time": "2024-03-27T18:45:49.215Z"
   },
   {
    "duration": 11,
    "start_time": "2024-03-27T18:46:05.900Z"
   },
   {
    "duration": 83,
    "start_time": "2024-03-27T18:46:19.844Z"
   },
   {
    "duration": 9,
    "start_time": "2024-03-27T18:46:24.348Z"
   },
   {
    "duration": 11,
    "start_time": "2024-03-27T18:46:29.131Z"
   },
   {
    "duration": 9,
    "start_time": "2024-03-27T18:46:31.347Z"
   },
   {
    "duration": 255,
    "start_time": "2024-03-27T18:47:10.970Z"
   },
   {
    "duration": 276,
    "start_time": "2024-03-27T18:47:12.161Z"
   },
   {
    "duration": 267,
    "start_time": "2024-03-27T18:47:34.445Z"
   },
   {
    "duration": 1142,
    "start_time": "2024-03-28T11:11:54.817Z"
   },
   {
    "duration": 267,
    "start_time": "2024-03-28T11:11:55.961Z"
   },
   {
    "duration": 15,
    "start_time": "2024-03-28T11:11:56.229Z"
   },
   {
    "duration": 53,
    "start_time": "2024-03-28T11:11:56.246Z"
   },
   {
    "duration": 1976,
    "start_time": "2024-03-28T11:11:56.301Z"
   },
   {
    "duration": 17,
    "start_time": "2024-03-28T11:11:58.278Z"
   },
   {
    "duration": 8,
    "start_time": "2024-03-28T11:11:58.297Z"
   },
   {
    "duration": 26,
    "start_time": "2024-03-28T11:11:58.307Z"
   },
   {
    "duration": 13,
    "start_time": "2024-03-28T11:11:58.334Z"
   },
   {
    "duration": 7,
    "start_time": "2024-03-28T11:11:58.358Z"
   },
   {
    "duration": 13,
    "start_time": "2024-03-28T11:11:58.367Z"
   },
   {
    "duration": 23,
    "start_time": "2024-03-28T11:11:58.382Z"
   },
   {
    "duration": 259,
    "start_time": "2024-03-28T11:11:58.407Z"
   },
   {
    "duration": 361,
    "start_time": "2024-03-28T11:11:58.667Z"
   },
   {
    "duration": 408,
    "start_time": "2024-03-28T11:11:59.030Z"
   },
   {
    "duration": 344,
    "start_time": "2024-03-28T11:11:59.439Z"
   },
   {
    "duration": 316,
    "start_time": "2024-03-28T11:11:59.785Z"
   },
   {
    "duration": 514,
    "start_time": "2024-03-28T11:12:00.102Z"
   },
   {
    "duration": 507,
    "start_time": "2024-03-28T11:12:00.617Z"
   },
   {
    "duration": 335,
    "start_time": "2024-03-28T11:12:01.126Z"
   },
   {
    "duration": 297,
    "start_time": "2024-03-28T11:12:01.463Z"
   },
   {
    "duration": 10,
    "start_time": "2024-03-28T11:12:01.762Z"
   },
   {
    "duration": 396,
    "start_time": "2024-03-28T11:12:01.774Z"
   },
   {
    "duration": 5,
    "start_time": "2024-03-28T11:12:02.172Z"
   },
   {
    "duration": 41,
    "start_time": "2024-03-28T11:12:02.179Z"
   },
   {
    "duration": 49,
    "start_time": "2024-03-28T11:12:02.221Z"
   },
   {
    "duration": 708,
    "start_time": "2024-03-28T11:12:02.272Z"
   },
   {
    "duration": 217,
    "start_time": "2024-03-28T11:12:02.982Z"
   },
   {
    "duration": 1524,
    "start_time": "2024-03-28T11:12:03.201Z"
   },
   {
    "duration": 34,
    "start_time": "2024-03-28T11:12:04.726Z"
   },
   {
    "duration": 13,
    "start_time": "2024-03-28T11:12:04.761Z"
   },
   {
    "duration": 204,
    "start_time": "2024-03-28T11:12:04.775Z"
   },
   {
    "duration": 1208,
    "start_time": "2024-03-28T11:23:11.962Z"
   },
   {
    "duration": 417,
    "start_time": "2024-03-28T11:23:13.172Z"
   },
   {
    "duration": 17,
    "start_time": "2024-03-28T11:23:13.591Z"
   },
   {
    "duration": 24,
    "start_time": "2024-03-28T11:23:13.609Z"
   },
   {
    "duration": 2073,
    "start_time": "2024-03-28T11:23:13.658Z"
   },
   {
    "duration": 26,
    "start_time": "2024-03-28T11:23:15.732Z"
   },
   {
    "duration": 25,
    "start_time": "2024-03-28T11:23:15.760Z"
   },
   {
    "duration": 25,
    "start_time": "2024-03-28T11:23:15.786Z"
   },
   {
    "duration": 5,
    "start_time": "2024-03-28T11:23:15.813Z"
   },
   {
    "duration": 8,
    "start_time": "2024-03-28T11:23:15.819Z"
   },
   {
    "duration": 15,
    "start_time": "2024-03-28T11:23:15.828Z"
   },
   {
    "duration": 7,
    "start_time": "2024-03-28T11:23:15.845Z"
   },
   {
    "duration": 253,
    "start_time": "2024-03-28T11:23:15.854Z"
   },
   {
    "duration": 367,
    "start_time": "2024-03-28T11:23:16.110Z"
   },
   {
    "duration": 404,
    "start_time": "2024-03-28T11:23:16.479Z"
   },
   {
    "duration": 379,
    "start_time": "2024-03-28T11:23:16.885Z"
   },
   {
    "duration": 341,
    "start_time": "2024-03-28T11:23:17.265Z"
   },
   {
    "duration": 508,
    "start_time": "2024-03-28T11:23:17.608Z"
   },
   {
    "duration": 499,
    "start_time": "2024-03-28T11:23:18.118Z"
   },
   {
    "duration": 337,
    "start_time": "2024-03-28T11:23:18.619Z"
   },
   {
    "duration": 303,
    "start_time": "2024-03-28T11:23:18.958Z"
   },
   {
    "duration": 9,
    "start_time": "2024-03-28T11:23:19.262Z"
   },
   {
    "duration": 344,
    "start_time": "2024-03-28T11:23:19.273Z"
   },
   {
    "duration": 5,
    "start_time": "2024-03-28T11:23:19.619Z"
   },
   {
    "duration": 4,
    "start_time": "2024-03-28T11:23:19.626Z"
   },
   {
    "duration": 37,
    "start_time": "2024-03-28T11:23:19.632Z"
   },
   {
    "duration": 693,
    "start_time": "2024-03-28T11:23:19.671Z"
   },
   {
    "duration": 235,
    "start_time": "2024-03-28T11:23:20.366Z"
   },
   {
    "duration": 1569,
    "start_time": "2024-03-28T11:23:20.604Z"
   },
   {
    "duration": 28,
    "start_time": "2024-03-28T11:23:22.175Z"
   },
   {
    "duration": 14,
    "start_time": "2024-03-28T11:23:22.205Z"
   },
   {
    "duration": 215,
    "start_time": "2024-03-28T11:23:22.220Z"
   }
  ],
  "kernelspec": {
   "display_name": "Python 3 (ipykernel)",
   "language": "python",
   "name": "python3"
  },
  "language_info": {
   "codemirror_mode": {
    "name": "ipython",
    "version": 3
   },
   "file_extension": ".py",
   "mimetype": "text/x-python",
   "name": "python",
   "nbconvert_exporter": "python",
   "pygments_lexer": "ipython3",
   "version": "3.9.5"
  },
  "toc": {
   "base_numbering": 1,
   "nav_menu": {},
   "number_sections": true,
   "sideBar": true,
   "skip_h1_title": true,
   "title_cell": "Table of Contents",
   "title_sidebar": "Contents",
   "toc_cell": false,
   "toc_position": {},
   "toc_section_display": true,
   "toc_window_display": false
  }
 },
 "nbformat": 4,
 "nbformat_minor": 5
}
